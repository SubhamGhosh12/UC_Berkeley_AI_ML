{
 "cells": [
  {
   "cell_type": "code",
   "execution_count": 1,
   "id": "969d5f35",
   "metadata": {},
   "outputs": [],
   "source": [
    "import matplotlib.pyplot as plt\n",
    "import numpy as np\n",
    "import pandas as pd\n",
    "import seaborn as sns\n",
    "from sklearn.cluster import KMeans, DBSCAN\n",
    "import plotly.express as px\n",
    "from sklearn.decomposition import PCA\n",
    "from sklearn.preprocessing import StandardScaler\n",
    "from imblearn.over_sampling import SMOTE\n",
    "\n",
    "from sklearn.linear_model import LogisticRegression\n",
    "from sklearn.tree import DecisionTreeClassifier, export_text, plot_tree\n",
    "\n",
    "from sklearn.model_selection import train_test_split, GridSearchCV, RandomizedSearchCV\n",
    "from sklearn.ensemble import RandomForestClassifier, GradientBoostingClassifier\n",
    "from sklearn.metrics import confusion_matrix, precision_score, recall_score, accuracy_score,  roc_curve, roc_auc_score, f1_score, classification_report, ConfusionMatrixDisplay\n",
    "from sklearn.naive_bayes import GaussianNB"
   ]
  },
  {
   "cell_type": "code",
   "execution_count": 2,
   "id": "62076c88",
   "metadata": {},
   "outputs": [],
   "source": [
    "data = pd.read_csv('data/11_new.csv')"
   ]
  },
  {
   "cell_type": "code",
   "execution_count": 3,
   "id": "c0cdff66",
   "metadata": {},
   "outputs": [
    {
     "name": "stdout",
     "output_type": "stream",
     "text": [
      "<class 'pandas.core.frame.DataFrame'>\n",
      "RangeIndex: 1835072 entries, 0 to 1835071\n",
      "Data columns (total 43 columns):\n",
      " #   Column    Dtype  \n",
      "---  ------    -----  \n",
      " 0   record    int64  \n",
      " 1   age       int64  \n",
      " 2   race      float64\n",
      " 3   sex       int64  \n",
      " 4   ms        float64\n",
      " 5   hisp      float64\n",
      " 6   adjinc    float64\n",
      " 7   educ      float64\n",
      " 8   pob       int64  \n",
      " 9   wt        int64  \n",
      " 10  hhid      int64  \n",
      " 11  hhnum     int64  \n",
      " 12  reltrf    float64\n",
      " 13  occ       float64\n",
      " 14  majocc    float64\n",
      " 15  ind       float64\n",
      " 16  majind    float64\n",
      " 17  esr       float64\n",
      " 18  urban     float64\n",
      " 19  smsast    float64\n",
      " 20  inddea    int64  \n",
      " 21  cause113  int64  \n",
      " 22  follow    int64  \n",
      " 23  dayod     float64\n",
      " 24  hosp      float64\n",
      " 25  hospd     float64\n",
      " 26  ssnyn     int64  \n",
      " 27  vt        float64\n",
      " 28  histatus  float64\n",
      " 29  hitype    float64\n",
      " 30  povpct    int64  \n",
      " 31  stater    int64  \n",
      " 32  rcow      float64\n",
      " 33  tenure    float64\n",
      " 34  citizen   float64\n",
      " 35  health    float64\n",
      " 36  indalg    float64\n",
      " 37  smok100   float64\n",
      " 38  agesmk    float64\n",
      " 39  smokstat  float64\n",
      " 40  smokhome  float64\n",
      " 41  curruse   float64\n",
      " 42  everuse   float64\n",
      "dtypes: float64(30), int64(13)\n",
      "memory usage: 602.0 MB\n"
     ]
    }
   ],
   "source": [
    "data.info()"
   ]
  },
  {
   "cell_type": "markdown",
   "id": "bb6a5f19",
   "metadata": {},
   "source": [
    "We note from above that all the attributes are numeric even though the name of some of the attributes (e.g. ms, marital status) sound like they are cateogrical. This dataset has been already pre-encoded with the seemingly categorical attributes numerically encoded. The full description of encoding of all variables is included in the reference manual that came with this dataset"
   ]
  },
  {
   "cell_type": "code",
   "execution_count": 4,
   "id": "c58e8360",
   "metadata": {},
   "outputs": [
    {
     "data": {
      "text/html": [
       "<div>\n",
       "<style scoped>\n",
       "    .dataframe tbody tr th:only-of-type {\n",
       "        vertical-align: middle;\n",
       "    }\n",
       "\n",
       "    .dataframe tbody tr th {\n",
       "        vertical-align: top;\n",
       "    }\n",
       "\n",
       "    .dataframe thead th {\n",
       "        text-align: right;\n",
       "    }\n",
       "</style>\n",
       "<table border=\"1\" class=\"dataframe\">\n",
       "  <thead>\n",
       "    <tr style=\"text-align: right;\">\n",
       "      <th></th>\n",
       "      <th>race</th>\n",
       "      <th>ms</th>\n",
       "      <th>hisp</th>\n",
       "      <th>adjinc</th>\n",
       "      <th>educ</th>\n",
       "      <th>reltrf</th>\n",
       "      <th>occ</th>\n",
       "      <th>majocc</th>\n",
       "      <th>ind</th>\n",
       "      <th>majind</th>\n",
       "      <th>...</th>\n",
       "      <th>tenure</th>\n",
       "      <th>citizen</th>\n",
       "      <th>health</th>\n",
       "      <th>indalg</th>\n",
       "      <th>smok100</th>\n",
       "      <th>agesmk</th>\n",
       "      <th>smokstat</th>\n",
       "      <th>smokhome</th>\n",
       "      <th>curruse</th>\n",
       "      <th>everuse</th>\n",
       "    </tr>\n",
       "  </thead>\n",
       "  <tbody>\n",
       "    <tr>\n",
       "      <th>0</th>\n",
       "      <td>1.0</td>\n",
       "      <td>5.0</td>\n",
       "      <td>3.0</td>\n",
       "      <td>11.0</td>\n",
       "      <td>4.0</td>\n",
       "      <td>1.0</td>\n",
       "      <td>2630.0</td>\n",
       "      <td>2.0</td>\n",
       "      <td>5470.0</td>\n",
       "      <td>5.0</td>\n",
       "      <td>...</td>\n",
       "      <td>1.0</td>\n",
       "      <td>NaN</td>\n",
       "      <td>NaN</td>\n",
       "      <td>1.0</td>\n",
       "      <td>NaN</td>\n",
       "      <td>NaN</td>\n",
       "      <td>NaN</td>\n",
       "      <td>NaN</td>\n",
       "      <td>NaN</td>\n",
       "      <td>NaN</td>\n",
       "    </tr>\n",
       "    <tr>\n",
       "      <th>1</th>\n",
       "      <td>1.0</td>\n",
       "      <td>2.0</td>\n",
       "      <td>3.0</td>\n",
       "      <td>11.0</td>\n",
       "      <td>4.0</td>\n",
       "      <td>5.0</td>\n",
       "      <td>4700.0</td>\n",
       "      <td>4.0</td>\n",
       "      <td>5470.0</td>\n",
       "      <td>5.0</td>\n",
       "      <td>...</td>\n",
       "      <td>1.0</td>\n",
       "      <td>NaN</td>\n",
       "      <td>NaN</td>\n",
       "      <td>NaN</td>\n",
       "      <td>NaN</td>\n",
       "      <td>NaN</td>\n",
       "      <td>NaN</td>\n",
       "      <td>NaN</td>\n",
       "      <td>NaN</td>\n",
       "      <td>NaN</td>\n",
       "    </tr>\n",
       "    <tr>\n",
       "      <th>2</th>\n",
       "      <td>1.0</td>\n",
       "      <td>1.0</td>\n",
       "      <td>3.0</td>\n",
       "      <td>8.0</td>\n",
       "      <td>4.0</td>\n",
       "      <td>1.0</td>\n",
       "      <td>8960.0</td>\n",
       "      <td>9.0</td>\n",
       "      <td>2980.0</td>\n",
       "      <td>4.0</td>\n",
       "      <td>...</td>\n",
       "      <td>2.0</td>\n",
       "      <td>NaN</td>\n",
       "      <td>NaN</td>\n",
       "      <td>1.0</td>\n",
       "      <td>NaN</td>\n",
       "      <td>NaN</td>\n",
       "      <td>NaN</td>\n",
       "      <td>NaN</td>\n",
       "      <td>NaN</td>\n",
       "      <td>NaN</td>\n",
       "    </tr>\n",
       "    <tr>\n",
       "      <th>3</th>\n",
       "      <td>1.0</td>\n",
       "      <td>1.0</td>\n",
       "      <td>3.0</td>\n",
       "      <td>8.0</td>\n",
       "      <td>1.0</td>\n",
       "      <td>3.0</td>\n",
       "      <td>8960.0</td>\n",
       "      <td>9.0</td>\n",
       "      <td>5470.0</td>\n",
       "      <td>5.0</td>\n",
       "      <td>...</td>\n",
       "      <td>2.0</td>\n",
       "      <td>NaN</td>\n",
       "      <td>NaN</td>\n",
       "      <td>1.0</td>\n",
       "      <td>NaN</td>\n",
       "      <td>NaN</td>\n",
       "      <td>NaN</td>\n",
       "      <td>NaN</td>\n",
       "      <td>NaN</td>\n",
       "      <td>NaN</td>\n",
       "    </tr>\n",
       "    <tr>\n",
       "      <th>4</th>\n",
       "      <td>1.0</td>\n",
       "      <td>NaN</td>\n",
       "      <td>3.0</td>\n",
       "      <td>8.0</td>\n",
       "      <td>NaN</td>\n",
       "      <td>4.0</td>\n",
       "      <td>NaN</td>\n",
       "      <td>NaN</td>\n",
       "      <td>NaN</td>\n",
       "      <td>NaN</td>\n",
       "      <td>...</td>\n",
       "      <td>2.0</td>\n",
       "      <td>NaN</td>\n",
       "      <td>NaN</td>\n",
       "      <td>1.0</td>\n",
       "      <td>NaN</td>\n",
       "      <td>NaN</td>\n",
       "      <td>NaN</td>\n",
       "      <td>NaN</td>\n",
       "      <td>NaN</td>\n",
       "      <td>NaN</td>\n",
       "    </tr>\n",
       "    <tr>\n",
       "      <th>...</th>\n",
       "      <td>...</td>\n",
       "      <td>...</td>\n",
       "      <td>...</td>\n",
       "      <td>...</td>\n",
       "      <td>...</td>\n",
       "      <td>...</td>\n",
       "      <td>...</td>\n",
       "      <td>...</td>\n",
       "      <td>...</td>\n",
       "      <td>...</td>\n",
       "      <td>...</td>\n",
       "      <td>...</td>\n",
       "      <td>...</td>\n",
       "      <td>...</td>\n",
       "      <td>...</td>\n",
       "      <td>...</td>\n",
       "      <td>...</td>\n",
       "      <td>...</td>\n",
       "      <td>...</td>\n",
       "      <td>...</td>\n",
       "      <td>...</td>\n",
       "    </tr>\n",
       "    <tr>\n",
       "      <th>1835067</th>\n",
       "      <td>1.0</td>\n",
       "      <td>5.0</td>\n",
       "      <td>2.0</td>\n",
       "      <td>4.0</td>\n",
       "      <td>8.0</td>\n",
       "      <td>5.0</td>\n",
       "      <td>4760.0</td>\n",
       "      <td>4.0</td>\n",
       "      <td>4770.0</td>\n",
       "      <td>5.0</td>\n",
       "      <td>...</td>\n",
       "      <td>2.0</td>\n",
       "      <td>NaN</td>\n",
       "      <td>1.0</td>\n",
       "      <td>NaN</td>\n",
       "      <td>NaN</td>\n",
       "      <td>NaN</td>\n",
       "      <td>NaN</td>\n",
       "      <td>NaN</td>\n",
       "      <td>NaN</td>\n",
       "      <td>NaN</td>\n",
       "    </tr>\n",
       "    <tr>\n",
       "      <th>1835068</th>\n",
       "      <td>1.0</td>\n",
       "      <td>1.0</td>\n",
       "      <td>2.0</td>\n",
       "      <td>11.0</td>\n",
       "      <td>6.0</td>\n",
       "      <td>3.0</td>\n",
       "      <td>NaN</td>\n",
       "      <td>NaN</td>\n",
       "      <td>NaN</td>\n",
       "      <td>NaN</td>\n",
       "      <td>...</td>\n",
       "      <td>2.0</td>\n",
       "      <td>1.0</td>\n",
       "      <td>1.0</td>\n",
       "      <td>NaN</td>\n",
       "      <td>NaN</td>\n",
       "      <td>NaN</td>\n",
       "      <td>NaN</td>\n",
       "      <td>NaN</td>\n",
       "      <td>NaN</td>\n",
       "      <td>NaN</td>\n",
       "    </tr>\n",
       "    <tr>\n",
       "      <th>1835069</th>\n",
       "      <td>1.0</td>\n",
       "      <td>5.0</td>\n",
       "      <td>2.0</td>\n",
       "      <td>11.0</td>\n",
       "      <td>6.0</td>\n",
       "      <td>4.0</td>\n",
       "      <td>NaN</td>\n",
       "      <td>NaN</td>\n",
       "      <td>NaN</td>\n",
       "      <td>NaN</td>\n",
       "      <td>...</td>\n",
       "      <td>2.0</td>\n",
       "      <td>NaN</td>\n",
       "      <td>1.0</td>\n",
       "      <td>NaN</td>\n",
       "      <td>NaN</td>\n",
       "      <td>NaN</td>\n",
       "      <td>NaN</td>\n",
       "      <td>NaN</td>\n",
       "      <td>NaN</td>\n",
       "      <td>NaN</td>\n",
       "    </tr>\n",
       "    <tr>\n",
       "      <th>1835070</th>\n",
       "      <td>1.0</td>\n",
       "      <td>NaN</td>\n",
       "      <td>2.0</td>\n",
       "      <td>11.0</td>\n",
       "      <td>NaN</td>\n",
       "      <td>4.0</td>\n",
       "      <td>NaN</td>\n",
       "      <td>NaN</td>\n",
       "      <td>NaN</td>\n",
       "      <td>NaN</td>\n",
       "      <td>...</td>\n",
       "      <td>2.0</td>\n",
       "      <td>1.0</td>\n",
       "      <td>1.0</td>\n",
       "      <td>NaN</td>\n",
       "      <td>NaN</td>\n",
       "      <td>NaN</td>\n",
       "      <td>NaN</td>\n",
       "      <td>NaN</td>\n",
       "      <td>NaN</td>\n",
       "      <td>NaN</td>\n",
       "    </tr>\n",
       "    <tr>\n",
       "      <th>1835071</th>\n",
       "      <td>1.0</td>\n",
       "      <td>NaN</td>\n",
       "      <td>2.0</td>\n",
       "      <td>11.0</td>\n",
       "      <td>NaN</td>\n",
       "      <td>4.0</td>\n",
       "      <td>NaN</td>\n",
       "      <td>NaN</td>\n",
       "      <td>NaN</td>\n",
       "      <td>NaN</td>\n",
       "      <td>...</td>\n",
       "      <td>2.0</td>\n",
       "      <td>NaN</td>\n",
       "      <td>1.0</td>\n",
       "      <td>NaN</td>\n",
       "      <td>NaN</td>\n",
       "      <td>NaN</td>\n",
       "      <td>NaN</td>\n",
       "      <td>NaN</td>\n",
       "      <td>NaN</td>\n",
       "      <td>NaN</td>\n",
       "    </tr>\n",
       "  </tbody>\n",
       "</table>\n",
       "<p>1835072 rows × 30 columns</p>\n",
       "</div>"
      ],
      "text/plain": [
       "         race   ms  hisp  adjinc  educ  reltrf     occ  majocc     ind  \\\n",
       "0         1.0  5.0   3.0    11.0   4.0     1.0  2630.0     2.0  5470.0   \n",
       "1         1.0  2.0   3.0    11.0   4.0     5.0  4700.0     4.0  5470.0   \n",
       "2         1.0  1.0   3.0     8.0   4.0     1.0  8960.0     9.0  2980.0   \n",
       "3         1.0  1.0   3.0     8.0   1.0     3.0  8960.0     9.0  5470.0   \n",
       "4         1.0  NaN   3.0     8.0   NaN     4.0     NaN     NaN     NaN   \n",
       "...       ...  ...   ...     ...   ...     ...     ...     ...     ...   \n",
       "1835067   1.0  5.0   2.0     4.0   8.0     5.0  4760.0     4.0  4770.0   \n",
       "1835068   1.0  1.0   2.0    11.0   6.0     3.0     NaN     NaN     NaN   \n",
       "1835069   1.0  5.0   2.0    11.0   6.0     4.0     NaN     NaN     NaN   \n",
       "1835070   1.0  NaN   2.0    11.0   NaN     4.0     NaN     NaN     NaN   \n",
       "1835071   1.0  NaN   2.0    11.0   NaN     4.0     NaN     NaN     NaN   \n",
       "\n",
       "         majind  ...  tenure  citizen  health  indalg  smok100  agesmk  \\\n",
       "0           5.0  ...     1.0      NaN     NaN     1.0      NaN     NaN   \n",
       "1           5.0  ...     1.0      NaN     NaN     NaN      NaN     NaN   \n",
       "2           4.0  ...     2.0      NaN     NaN     1.0      NaN     NaN   \n",
       "3           5.0  ...     2.0      NaN     NaN     1.0      NaN     NaN   \n",
       "4           NaN  ...     2.0      NaN     NaN     1.0      NaN     NaN   \n",
       "...         ...  ...     ...      ...     ...     ...      ...     ...   \n",
       "1835067     5.0  ...     2.0      NaN     1.0     NaN      NaN     NaN   \n",
       "1835068     NaN  ...     2.0      1.0     1.0     NaN      NaN     NaN   \n",
       "1835069     NaN  ...     2.0      NaN     1.0     NaN      NaN     NaN   \n",
       "1835070     NaN  ...     2.0      1.0     1.0     NaN      NaN     NaN   \n",
       "1835071     NaN  ...     2.0      NaN     1.0     NaN      NaN     NaN   \n",
       "\n",
       "         smokstat  smokhome  curruse  everuse  \n",
       "0             NaN       NaN      NaN      NaN  \n",
       "1             NaN       NaN      NaN      NaN  \n",
       "2             NaN       NaN      NaN      NaN  \n",
       "3             NaN       NaN      NaN      NaN  \n",
       "4             NaN       NaN      NaN      NaN  \n",
       "...           ...       ...      ...      ...  \n",
       "1835067       NaN       NaN      NaN      NaN  \n",
       "1835068       NaN       NaN      NaN      NaN  \n",
       "1835069       NaN       NaN      NaN      NaN  \n",
       "1835070       NaN       NaN      NaN      NaN  \n",
       "1835071       NaN       NaN      NaN      NaN  \n",
       "\n",
       "[1835072 rows x 30 columns]"
      ]
     },
     "execution_count": 4,
     "metadata": {},
     "output_type": "execute_result"
    },
    {
     "data": {
      "image/png": "[encoded data removed]",
      "text/plain": [
       "<Figure size 640x480 with 1 Axes>"
      ]
     },
     "metadata": {},
     "output_type": "display_data"
    }
   ],
   "source": [
    "ax = data.isnull().sum().sort_values().plot(kind = 'bar', title='Count of Missing Values')\n",
    "ax.set_ylabel('Count')\n",
    "data.loc[:, data.isnull().any()]"
   ]
  },
  {
   "cell_type": "markdown",
   "id": "3455e3da",
   "metadata": {},
   "source": [
    "Based on above graph, it seems like a lot of attributes have a lot of missing data, therefore we include attributes which have less than 1000000 missing entries for this analysis"
   ]
  },
  {
   "cell_type": "code",
   "execution_count": 5,
   "id": "2dba6f33",
   "metadata": {},
   "outputs": [
    {
     "data": {
      "text/plain": [
       "0      1674347\n",
       "52       18076\n",
       "55       17954\n",
       "25       11046\n",
       "61       10889\n",
       "        ...   \n",
       "112          2\n",
       "39           2\n",
       "12           1\n",
       "7            1\n",
       "1            1\n",
       "Name: cause113, Length: 106, dtype: int64"
      ]
     },
     "execution_count": 5,
     "metadata": {},
     "output_type": "execute_result"
    }
   ],
   "source": [
    "data['cause113'].value_counts()"
   ]
  },
  {
   "cell_type": "code",
   "execution_count": 6,
   "id": "e8b88500",
   "metadata": {},
   "outputs": [],
   "source": [
    "# identifying columns with less than 1000000 missing entries: these are the columns that will be retained for further analysis \n",
    "df=data[data.columns[data.isnull().sum() < 1000000]]"
   ]
  },
  {
   "cell_type": "code",
   "execution_count": 7,
   "id": "3c801321",
   "metadata": {},
   "outputs": [
    {
     "data": {
      "text/plain": [
       "Index(['record', 'age', 'race', 'sex', 'ms', 'hisp', 'adjinc', 'educ', 'pob',\n",
       "       'wt', 'hhid', 'hhnum', 'reltrf', 'occ', 'majocc', 'ind', 'majind',\n",
       "       'esr', 'urban', 'smsast', 'inddea', 'cause113', 'follow', 'ssnyn', 'vt',\n",
       "       'histatus', 'hitype', 'povpct', 'stater', 'rcow', 'tenure'],\n",
       "      dtype='object')"
      ]
     },
     "execution_count": 7,
     "metadata": {},
     "output_type": "execute_result"
    }
   ],
   "source": [
    "df.columns"
   ]
  },
  {
   "cell_type": "code",
   "execution_count": 8,
   "id": "d9cea7b6",
   "metadata": {},
   "outputs": [
    {
     "data": {
      "text/plain": [
       "(1835072, 31)"
      ]
     },
     "execution_count": 8,
     "metadata": {},
     "output_type": "execute_result"
    }
   ],
   "source": [
    "df.shape"
   ]
  },
  {
   "cell_type": "code",
   "execution_count": 9,
   "id": "743e99b8",
   "metadata": {},
   "outputs": [
    {
     "data": {
      "text/plain": [
       "(657736, 31)"
      ]
     },
     "execution_count": 9,
     "metadata": {},
     "output_type": "execute_result"
    }
   ],
   "source": [
    "df=df.dropna()\n",
    "df.shape"
   ]
  },
  {
   "cell_type": "markdown",
   "id": "73ff36e0",
   "metadata": {},
   "source": [
    "We drop certain attributes like record id, cause of mortality, death indicator, household no, length of follow-up, which are not relevant for a realistic mortality predictor. Next, we create an input dataframe df_input with relevant attributes that will go as input to the model"
   ]
  },
  {
   "cell_type": "code",
   "execution_count": 10,
   "id": "0b07afb3",
   "metadata": {},
   "outputs": [],
   "source": [
    "df_input=df.drop(['record', 'inddea', 'cause113', 'follow', 'hhid'], axis=1)"
   ]
  },
  {
   "cell_type": "code",
   "execution_count": 11,
   "id": "cd89cdc5",
   "metadata": {},
   "outputs": [
    {
     "data": {
      "text/html": [
       "<div>\n",
       "<style scoped>\n",
       "    .dataframe tbody tr th:only-of-type {\n",
       "        vertical-align: middle;\n",
       "    }\n",
       "\n",
       "    .dataframe tbody tr th {\n",
       "        vertical-align: top;\n",
       "    }\n",
       "\n",
       "    .dataframe thead th {\n",
       "        text-align: right;\n",
       "    }\n",
       "</style>\n",
       "<table border=\"1\" class=\"dataframe\">\n",
       "  <thead>\n",
       "    <tr style=\"text-align: right;\">\n",
       "      <th></th>\n",
       "      <th>age</th>\n",
       "      <th>race</th>\n",
       "      <th>sex</th>\n",
       "      <th>ms</th>\n",
       "      <th>hisp</th>\n",
       "      <th>adjinc</th>\n",
       "      <th>educ</th>\n",
       "      <th>pob</th>\n",
       "      <th>wt</th>\n",
       "      <th>hhnum</th>\n",
       "      <th>...</th>\n",
       "      <th>urban</th>\n",
       "      <th>smsast</th>\n",
       "      <th>ssnyn</th>\n",
       "      <th>vt</th>\n",
       "      <th>histatus</th>\n",
       "      <th>hitype</th>\n",
       "      <th>povpct</th>\n",
       "      <th>stater</th>\n",
       "      <th>rcow</th>\n",
       "      <th>tenure</th>\n",
       "    </tr>\n",
       "  </thead>\n",
       "  <tbody>\n",
       "    <tr>\n",
       "      <th>count</th>\n",
       "      <td>657736.000000</td>\n",
       "      <td>657736.000000</td>\n",
       "      <td>657736.000000</td>\n",
       "      <td>657736.000000</td>\n",
       "      <td>657736.000000</td>\n",
       "      <td>657736.000000</td>\n",
       "      <td>657736.000000</td>\n",
       "      <td>657736.000000</td>\n",
       "      <td>657736.000000</td>\n",
       "      <td>657736.000000</td>\n",
       "      <td>...</td>\n",
       "      <td>657736.000000</td>\n",
       "      <td>657736.000000</td>\n",
       "      <td>657736.000000</td>\n",
       "      <td>657736.000000</td>\n",
       "      <td>657736.000000</td>\n",
       "      <td>657736.000000</td>\n",
       "      <td>657736.000000</td>\n",
       "      <td>657736.000000</td>\n",
       "      <td>657736.000000</td>\n",
       "      <td>657736.000000</td>\n",
       "    </tr>\n",
       "    <tr>\n",
       "      <th>mean</th>\n",
       "      <td>38.173501</td>\n",
       "      <td>1.189415</td>\n",
       "      <td>1.467063</td>\n",
       "      <td>2.275366</td>\n",
       "      <td>2.825725</td>\n",
       "      <td>9.318175</td>\n",
       "      <td>9.163382</td>\n",
       "      <td>749.867128</td>\n",
       "      <td>133.830522</td>\n",
       "      <td>3.239205</td>\n",
       "      <td>...</td>\n",
       "      <td>1.283548</td>\n",
       "      <td>2.007790</td>\n",
       "      <td>0.743801</td>\n",
       "      <td>0.146100</td>\n",
       "      <td>0.844342</td>\n",
       "      <td>3.301694</td>\n",
       "      <td>12.746775</td>\n",
       "      <td>53.013230</td>\n",
       "      <td>1.419764</td>\n",
       "      <td>1.325749</td>\n",
       "    </tr>\n",
       "    <tr>\n",
       "      <th>std</th>\n",
       "      <td>13.381518</td>\n",
       "      <td>0.598130</td>\n",
       "      <td>0.498914</td>\n",
       "      <td>1.722265</td>\n",
       "      <td>0.523338</td>\n",
       "      <td>3.539717</td>\n",
       "      <td>2.644926</td>\n",
       "      <td>358.514516</td>\n",
       "      <td>72.955694</td>\n",
       "      <td>1.559001</td>\n",
       "      <td>...</td>\n",
       "      <td>0.450721</td>\n",
       "      <td>0.752641</td>\n",
       "      <td>0.436533</td>\n",
       "      <td>0.353206</td>\n",
       "      <td>0.362531</td>\n",
       "      <td>1.565211</td>\n",
       "      <td>6.026787</td>\n",
       "      <td>26.255881</td>\n",
       "      <td>0.697796</td>\n",
       "      <td>0.502202</td>\n",
       "    </tr>\n",
       "    <tr>\n",
       "      <th>min</th>\n",
       "      <td>16.000000</td>\n",
       "      <td>1.000000</td>\n",
       "      <td>1.000000</td>\n",
       "      <td>1.000000</td>\n",
       "      <td>1.000000</td>\n",
       "      <td>1.000000</td>\n",
       "      <td>1.000000</td>\n",
       "      <td>0.000000</td>\n",
       "      <td>2.000000</td>\n",
       "      <td>1.000000</td>\n",
       "      <td>...</td>\n",
       "      <td>1.000000</td>\n",
       "      <td>1.000000</td>\n",
       "      <td>0.000000</td>\n",
       "      <td>0.000000</td>\n",
       "      <td>0.000000</td>\n",
       "      <td>0.000000</td>\n",
       "      <td>1.000000</td>\n",
       "      <td>11.000000</td>\n",
       "      <td>1.000000</td>\n",
       "      <td>1.000000</td>\n",
       "    </tr>\n",
       "    <tr>\n",
       "      <th>25%</th>\n",
       "      <td>28.000000</td>\n",
       "      <td>1.000000</td>\n",
       "      <td>1.000000</td>\n",
       "      <td>1.000000</td>\n",
       "      <td>3.000000</td>\n",
       "      <td>7.000000</td>\n",
       "      <td>8.000000</td>\n",
       "      <td>906.000000</td>\n",
       "      <td>80.000000</td>\n",
       "      <td>2.000000</td>\n",
       "      <td>...</td>\n",
       "      <td>1.000000</td>\n",
       "      <td>1.000000</td>\n",
       "      <td>0.000000</td>\n",
       "      <td>0.000000</td>\n",
       "      <td>1.000000</td>\n",
       "      <td>4.000000</td>\n",
       "      <td>8.000000</td>\n",
       "      <td>31.000000</td>\n",
       "      <td>1.000000</td>\n",
       "      <td>1.000000</td>\n",
       "    </tr>\n",
       "    <tr>\n",
       "      <th>50%</th>\n",
       "      <td>37.000000</td>\n",
       "      <td>1.000000</td>\n",
       "      <td>1.000000</td>\n",
       "      <td>1.000000</td>\n",
       "      <td>3.000000</td>\n",
       "      <td>10.000000</td>\n",
       "      <td>8.000000</td>\n",
       "      <td>926.000000</td>\n",
       "      <td>133.000000</td>\n",
       "      <td>3.000000</td>\n",
       "      <td>...</td>\n",
       "      <td>1.000000</td>\n",
       "      <td>2.000000</td>\n",
       "      <td>1.000000</td>\n",
       "      <td>0.000000</td>\n",
       "      <td>1.000000</td>\n",
       "      <td>4.000000</td>\n",
       "      <td>13.000000</td>\n",
       "      <td>54.000000</td>\n",
       "      <td>1.000000</td>\n",
       "      <td>1.000000</td>\n",
       "    </tr>\n",
       "    <tr>\n",
       "      <th>75%</th>\n",
       "      <td>47.000000</td>\n",
       "      <td>1.000000</td>\n",
       "      <td>2.000000</td>\n",
       "      <td>4.000000</td>\n",
       "      <td>3.000000</td>\n",
       "      <td>12.000000</td>\n",
       "      <td>11.000000</td>\n",
       "      <td>940.000000</td>\n",
       "      <td>176.000000</td>\n",
       "      <td>4.000000</td>\n",
       "      <td>...</td>\n",
       "      <td>2.000000</td>\n",
       "      <td>3.000000</td>\n",
       "      <td>1.000000</td>\n",
       "      <td>0.000000</td>\n",
       "      <td>1.000000</td>\n",
       "      <td>4.000000</td>\n",
       "      <td>18.000000</td>\n",
       "      <td>74.000000</td>\n",
       "      <td>2.000000</td>\n",
       "      <td>2.000000</td>\n",
       "    </tr>\n",
       "    <tr>\n",
       "      <th>max</th>\n",
       "      <td>90.000000</td>\n",
       "      <td>5.000000</td>\n",
       "      <td>2.000000</td>\n",
       "      <td>5.000000</td>\n",
       "      <td>3.000000</td>\n",
       "      <td>14.000000</td>\n",
       "      <td>14.000000</td>\n",
       "      <td>960.000000</td>\n",
       "      <td>1522.000000</td>\n",
       "      <td>26.000000</td>\n",
       "      <td>...</td>\n",
       "      <td>2.000000</td>\n",
       "      <td>3.000000</td>\n",
       "      <td>1.000000</td>\n",
       "      <td>1.000000</td>\n",
       "      <td>1.000000</td>\n",
       "      <td>5.000000</td>\n",
       "      <td>21.000000</td>\n",
       "      <td>95.000000</td>\n",
       "      <td>5.000000</td>\n",
       "      <td>3.000000</td>\n",
       "    </tr>\n",
       "  </tbody>\n",
       "</table>\n",
       "<p>8 rows × 26 columns</p>\n",
       "</div>"
      ],
      "text/plain": [
       "                 age           race            sex             ms  \\\n",
       "count  657736.000000  657736.000000  657736.000000  657736.000000   \n",
       "mean       38.173501       1.189415       1.467063       2.275366   \n",
       "std        13.381518       0.598130       0.498914       1.722265   \n",
       "min        16.000000       1.000000       1.000000       1.000000   \n",
       "25%        28.000000       1.000000       1.000000       1.000000   \n",
       "50%        37.000000       1.000000       1.000000       1.000000   \n",
       "75%        47.000000       1.000000       2.000000       4.000000   \n",
       "max        90.000000       5.000000       2.000000       5.000000   \n",
       "\n",
       "                hisp         adjinc           educ            pob  \\\n",
       "count  657736.000000  657736.000000  657736.000000  657736.000000   \n",
       "mean        2.825725       9.318175       9.163382     749.867128   \n",
       "std         0.523338       3.539717       2.644926     358.514516   \n",
       "min         1.000000       1.000000       1.000000       0.000000   \n",
       "25%         3.000000       7.000000       8.000000     906.000000   \n",
       "50%         3.000000      10.000000       8.000000     926.000000   \n",
       "75%         3.000000      12.000000      11.000000     940.000000   \n",
       "max         3.000000      14.000000      14.000000     960.000000   \n",
       "\n",
       "                  wt          hhnum  ...          urban         smsast  \\\n",
       "count  657736.000000  657736.000000  ...  657736.000000  657736.000000   \n",
       "mean      133.830522       3.239205  ...       1.283548       2.007790   \n",
       "std        72.955694       1.559001  ...       0.450721       0.752641   \n",
       "min         2.000000       1.000000  ...       1.000000       1.000000   \n",
       "25%        80.000000       2.000000  ...       1.000000       1.000000   \n",
       "50%       133.000000       3.000000  ...       1.000000       2.000000   \n",
       "75%       176.000000       4.000000  ...       2.000000       3.000000   \n",
       "max      1522.000000      26.000000  ...       2.000000       3.000000   \n",
       "\n",
       "               ssnyn             vt       histatus         hitype  \\\n",
       "count  657736.000000  657736.000000  657736.000000  657736.000000   \n",
       "mean        0.743801       0.146100       0.844342       3.301694   \n",
       "std         0.436533       0.353206       0.362531       1.565211   \n",
       "min         0.000000       0.000000       0.000000       0.000000   \n",
       "25%         0.000000       0.000000       1.000000       4.000000   \n",
       "50%         1.000000       0.000000       1.000000       4.000000   \n",
       "75%         1.000000       0.000000       1.000000       4.000000   \n",
       "max         1.000000       1.000000       1.000000       5.000000   \n",
       "\n",
       "              povpct         stater           rcow         tenure  \n",
       "count  657736.000000  657736.000000  657736.000000  657736.000000  \n",
       "mean       12.746775      53.013230       1.419764       1.325749  \n",
       "std         6.026787      26.255881       0.697796       0.502202  \n",
       "min         1.000000      11.000000       1.000000       1.000000  \n",
       "25%         8.000000      31.000000       1.000000       1.000000  \n",
       "50%        13.000000      54.000000       1.000000       1.000000  \n",
       "75%        18.000000      74.000000       2.000000       2.000000  \n",
       "max        21.000000      95.000000       5.000000       3.000000  \n",
       "\n",
       "[8 rows x 26 columns]"
      ]
     },
     "execution_count": 11,
     "metadata": {},
     "output_type": "execute_result"
    }
   ],
   "source": [
    "#descriptive statistics of the numeric attributes in df_input\n",
    "df_input.describe()"
   ]
  },
  {
   "cell_type": "markdown",
   "id": "d0471786",
   "metadata": {},
   "source": [
    "Based on the above summary, it does not appear that there are outliers or anything out of ordinary in the numeric entries in the input dataframe that needs to be addressed before train/testing the data"
   ]
  },
  {
   "cell_type": "markdown",
   "id": "6d51a110",
   "metadata": {},
   "source": [
    "Define a target mortality variable. Note that this variable is not included in the input dataframe"
   ]
  },
  {
   "cell_type": "code",
   "execution_count": 12,
   "id": "61a80b89",
   "metadata": {},
   "outputs": [],
   "source": [
    "df['mortality']=1\n",
    "df.loc[df['cause113']==0,'mortality']=0"
   ]
  },
  {
   "cell_type": "code",
   "execution_count": 13,
   "id": "cb65064f",
   "metadata": {},
   "outputs": [
    {
     "data": {
      "image/png": "[encoded data removed]",
      "text/plain": [
       "<Figure size 640x480 with 2 Axes>"
      ]
     },
     "metadata": {},
     "output_type": "display_data"
    }
   ],
   "source": [
    "#check correlations between columns, highlight attributes which are highly correlated (absolute correlation>0.85)\n",
    "cor_matrix = df_input.corr().abs()\n",
    "cor_matrix = np.around(cor_matrix,2)\n",
    "sns.heatmap(cor_matrix[cor_matrix>0.85], annot=True)\n",
    "plt.title(\"Correlation Heatmap\",  fontsize = 15)\n",
    "plt.show()"
   ]
  },
  {
   "cell_type": "code",
   "execution_count": 14,
   "id": "fb6f52d4",
   "metadata": {},
   "outputs": [
    {
     "name": "stdout",
     "output_type": "stream",
     "text": [
      "Highly Correlated Columns: ['majocc', 'majind', 'hitype', 'povpct']\n"
     ]
    }
   ],
   "source": [
    "#find columns that are strongly correlated either positively or negatively with an absolute value of correlation > 0.85\n",
    "cor_matrix = df_input.corr().abs()\n",
    "\n",
    "upper_tri = cor_matrix.where(np.triu(np.ones(cor_matrix.shape),k=1).astype(bool))\n",
    "high_corr_col = [column for column in upper_tri.columns if any(upper_tri[column] > 0.85)] \n",
    "print('Highly Correlated Columns:' , high_corr_col)"
   ]
  },
  {
   "cell_type": "markdown",
   "id": "e6936818",
   "metadata": {},
   "source": [
    "Drop the variables majind, hitype and povpct as they have a highly correlated counterpart in other attributes"
   ]
  },
  {
   "cell_type": "code",
   "execution_count": 15,
   "id": "070b2afb",
   "metadata": {},
   "outputs": [
    {
     "data": {
      "text/plain": [
       "(657736, 23)"
      ]
     },
     "execution_count": 15,
     "metadata": {},
     "output_type": "execute_result"
    }
   ],
   "source": [
    "df_input.drop(['majind', 'hitype', 'povpct'], axis=1, inplace=True)\n",
    "df_input.shape"
   ]
  },
  {
   "cell_type": "code",
   "execution_count": 23,
   "id": "4275f1c4",
   "metadata": {},
   "outputs": [],
   "source": [
    "#use standard scaler for scaling input dataframe\n",
    "scaler = StandardScaler()\n",
    "scaler.fit(df_input)\n",
    "df_scaled = scaler.fit_transform(df_input)\n"
   ]
  },
  {
   "cell_type": "code",
   "execution_count": 45,
   "id": "f6a5aae7",
   "metadata": {},
   "outputs": [],
   "source": [
    "# defining input and target variables for supervised machine learning\n",
    "X=df_scaled\n",
    "y= df['mortality']\n",
    "X_train, X_test, y_train, y_test = train_test_split(X, y, random_state = 42)\n",
    "\n",
    "# Synthetic Minority Oversampling for addressing class imbalance\n",
    "sm = SMOTE(random_state = 2)\n",
    "X_train_res, y_train_res = sm.fit_resample(X_train, y_train.ravel())"
   ]
  },
  {
   "cell_type": "code",
   "execution_count": 50,
   "id": "cef6cf9d",
   "metadata": {},
   "outputs": [
    {
     "name": "stdout",
     "output_type": "stream",
     "text": [
      "Accuracy for Random Forest classifier: 0.95\n",
      "F1 score for Random Forest classifier: 0.24\n",
      "Recall for Random Forest classifer: 0.17\n",
      "              precision    recall  f1-score   support\n",
      "\n",
      "           0       0.96      0.99      0.98    157392\n",
      "           1       0.43      0.17      0.24      7042\n",
      "\n",
      "    accuracy                           0.95    164434\n",
      "   macro avg       0.70      0.58      0.61    164434\n",
      "weighted avg       0.94      0.95      0.95    164434\n",
      "\n"
     ]
    }
   ],
   "source": [
    "#Random Forest Classifier\n",
    "\n",
    "rf_clf= RandomForestClassifier(random_state=0, n_jobs=-1).fit(X_train_res, y_train_res)\n",
    "\n",
    "\n",
    "preds_rf = rf_clf.predict(X_test)\n",
    "\n",
    "accuracy_rf = accuracy_score(y_test, preds_rf)\n",
    "\n",
    "fscore_rf = f1_score(y_test, preds_rf)\n",
    "\n",
    "recall_rf= recall_score(y_test, preds_rf)\n",
    "\n",
    "print('Accuracy for Random Forest classifier:', np.around(accuracy_rf,2))\n",
    "print('F1 score for Random Forest classifier:', np.around(fscore_rf,2))\n",
    "print('Recall for Random Forest classifer:', np.around(recall_rf,2))\n",
    "print(classification_report(y_test, preds_rf))\n",
    "\n"
   ]
  },
  {
   "cell_type": "code",
   "execution_count": 68,
   "id": "44e9bd2b",
   "metadata": {},
   "outputs": [
    {
     "data": {
      "image/png": "[encoded data removed]",
      "text/plain": [
       "<Figure size 640x480 with 1 Axes>"
      ]
     },
     "metadata": {},
     "output_type": "display_data"
    }
   ],
   "source": [
    "#random forest model intepretation\n",
    "\n",
    "importances = rf_clf.feature_importances_\n",
    "indices = np.argsort(importances)\n",
    "features = df_input.columns\n",
    "plt.title('Feature Importances')\n",
    "plt.barh(range(len(indices)), importances[indices], color='g', align='center')\n",
    "plt.yticks(range(len(indices)), [features[i] for i in indices])\n",
    "plt.xlabel('Relative Importance')\n",
    "plt.show()"
   ]
  },
  {
   "cell_type": "markdown",
   "id": "108edfb7",
   "metadata": {},
   "source": [
    "Based on the above analysis, the top five factors with the most impact (in order of impact with the highest listed first) on the model predictions o are the following\n",
    "1) age\n",
    "2) hhnum : number of people in household\n",
    "3) educ: education as measured by the level of highest grade completed\n",
    "4) adjinc: inflation adjusted income\n",
    "5) pob: region of birth\n",
    "\n",
    "It is no surprise that age is the top factor for mortality prediction. However there are a number of socioeconomic factors like number of people living in household, level of education and income which were also quite impactful for the model prediction. Interestingly attributes like presence of social security (ssnyn), race, status of health insurance (histatus) had the least impact on model predictions."
   ]
  },
  {
   "cell_type": "markdown",
   "id": "b049fcbc",
   "metadata": {},
   "source": [
    "### Counterfactual Explanations for the Random Forest Model"
   ]
  },
  {
   "cell_type": "markdown",
   "id": "c5e73d66",
   "metadata": {},
   "source": [
    "We start by inverse transforming the Standard Scaler, mainly for ease of interpretation of the counterfactual explanations, and putting the train and test datasets into a pandas dataframe so that it becomes compatible with the dice_ml package for generating counterfactuals"
   ]
  },
  {
   "cell_type": "code",
   "execution_count": 69,
   "id": "bf3b09b4",
   "metadata": {},
   "outputs": [
    {
     "name": "stderr",
     "output_type": "stream",
     "text": [
      "C:\\Users\\subha\\AppData\\Local\\Temp\\ipykernel_10088\\2659427293.py:10: DataConversionWarning: A column-vector y was passed when a 1d array was expected. Please change the shape of y to (n_samples,), for example using ravel().\n",
      "  rf_clf_pd = RandomForestClassifier(random_state=0, n_jobs=-1).fit(train_dataset_df, y_train_res_df)\n"
     ]
    }
   ],
   "source": [
    "df_inv_transform = scaler.inverse_transform(df_scaled)\n",
    "X1=df_inv_transform\n",
    "y1= df['mortality']\n",
    "X1_train, X1_test, y1_train, y1_test = train_test_split(X1, y1, random_state = 42)\n",
    "\n",
    "sm = SMOTE(random_state = 2)\n",
    "X1_train_res, y1_train_res = sm.fit_resample(X1_train, y1_train.ravel())\n",
    "train_dataset_df = pd.DataFrame(X1_train_res, columns = df_input.columns[0:23])\n",
    "y_train_res_df = pd.DataFrame(y1_train_res.ravel(), columns=['mortality'])\n",
    "rf_clf_pd = RandomForestClassifier(random_state=0, n_jobs=-1).fit(train_dataset_df, y_train_res_df)\n"
   ]
  },
  {
   "cell_type": "code",
   "execution_count": 128,
   "id": "1cd5127e",
   "metadata": {},
   "outputs": [
    {
     "name": "stdout",
     "output_type": "stream",
     "text": [
      "Note: you may need to restart the kernel to use updated packages.\n",
      "Requirement already satisfied: dice-ml in c:\\users\\subha\\anaconda3\\lib\\site-packages (0.9)\n",
      "Requirement already satisfied: tqdm in c:\\users\\subha\\anaconda3\\lib\\site-packages (from dice-ml) (4.65.0)\n",
      "Requirement already satisfied: scikit-learn in c:\\users\\subha\\anaconda3\\lib\\site-packages (from dice-ml) (1.2.2)\n",
      "Requirement already satisfied: numpy in c:\\users\\subha\\anaconda3\\lib\\site-packages (from dice-ml) (1.23.5)\n",
      "Requirement already satisfied: jsonschema in c:\\users\\subha\\anaconda3\\lib\\site-packages (from dice-ml) (4.17.3)\n",
      "Requirement already satisfied: pandas in c:\\users\\subha\\anaconda3\\lib\\site-packages (from dice-ml) (1.5.3)\n",
      "Requirement already satisfied: h5py in c:\\users\\subha\\anaconda3\\lib\\site-packages (from dice-ml) (3.7.0)\n",
      "Requirement already satisfied: attrs>=17.4.0 in c:\\users\\subha\\anaconda3\\lib\\site-packages (from jsonschema->dice-ml) (22.1.0)\n",
      "Requirement already satisfied: pyrsistent!=0.17.0,!=0.17.1,!=0.17.2,>=0.14.0 in c:\\users\\subha\\anaconda3\\lib\\site-packages (from jsonschema->dice-ml) (0.18.0)\n",
      "Requirement already satisfied: python-dateutil>=2.8.1 in c:\\users\\subha\\anaconda3\\lib\\site-packages (from pandas->dice-ml) (2.8.2)\n",
      "Requirement already satisfied: pytz>=2020.1 in c:\\users\\subha\\anaconda3\\lib\\site-packages (from pandas->dice-ml) (2022.7)\n",
      "Requirement already satisfied: scipy>=1.3.2 in c:\\users\\subha\\anaconda3\\lib\\site-packages (from scikit-learn->dice-ml) (1.10.1)\n",
      "Requirement already satisfied: joblib>=1.1.1 in c:\\users\\subha\\anaconda3\\lib\\site-packages (from scikit-learn->dice-ml) (1.2.0)\n",
      "Requirement already satisfied: threadpoolctl>=2.0.0 in c:\\users\\subha\\anaconda3\\lib\\site-packages (from scikit-learn->dice-ml) (2.2.0)\n",
      "Requirement already satisfied: colorama in c:\\users\\subha\\anaconda3\\lib\\site-packages (from tqdm->dice-ml) (0.4.6)\n",
      "Requirement already satisfied: six>=1.5 in c:\\users\\subha\\anaconda3\\lib\\site-packages (from python-dateutil>=2.8.1->pandas->dice-ml) (1.16.0)\n"
     ]
    }
   ],
   "source": [
    "pip install dice-ml\n"
   ]
  },
  {
   "cell_type": "code",
   "execution_count": 70,
   "id": "e75d95a5",
   "metadata": {},
   "outputs": [],
   "source": [
    "import dice_ml"
   ]
  },
  {
   "cell_type": "code",
   "execution_count": 71,
   "id": "edd628e7",
   "metadata": {},
   "outputs": [],
   "source": [
    "train_dataset = train_dataset_df\n",
    "train_dataset['mortality'] = y1_train_res\n"
   ]
  },
  {
   "cell_type": "code",
   "execution_count": 72,
   "id": "249de304",
   "metadata": {},
   "outputs": [],
   "source": [
    "d = dice_ml.Data(dataframe=train_dataset,continuous_features=['educ','adjinc'], outcome_name='mortality')\n"
   ]
  },
  {
   "cell_type": "code",
   "execution_count": 73,
   "id": "5042118f",
   "metadata": {},
   "outputs": [],
   "source": [
    "m = dice_ml.Model(model=rf_clf_pd, backend='sklearn')"
   ]
  },
  {
   "cell_type": "code",
   "execution_count": 74,
   "id": "96503791",
   "metadata": {},
   "outputs": [],
   "source": [
    "exp = dice_ml.Dice(d,m)"
   ]
  },
  {
   "cell_type": "code",
   "execution_count": 75,
   "id": "5ee9124d",
   "metadata": {},
   "outputs": [],
   "source": [
    "test_dataset_df = pd.DataFrame(X1_test, columns = df_input.columns[0:23])\n",
    "model_predict_test = rf_clf_pd.predict(test_dataset_df)"
   ]
  },
  {
   "cell_type": "code",
   "execution_count": 76,
   "id": "4c03529c",
   "metadata": {},
   "outputs": [],
   "source": [
    "model_predict_test_df = pd.DataFrame(model_predict_test, columns = ['Mortality Predictions'])"
   ]
  },
  {
   "cell_type": "code",
   "execution_count": 77,
   "id": "4e77597f",
   "metadata": {},
   "outputs": [
    {
     "name": "stderr",
     "output_type": "stream",
     "text": [
      "C:\\Users\\subha\\anaconda3\\lib\\site-packages\\sklearn\\base.py:439: UserWarning: X does not have valid feature names, but RandomForestClassifier was fitted with feature names\n",
      "  warnings.warn(\n"
     ]
    },
    {
     "data": {
      "text/plain": [
       "Text(0.5, 1.0, 'ROC curve for RFC (w/o StandardScaler)')"
      ]
     },
     "execution_count": 77,
     "metadata": {},
     "output_type": "execute_result"
    },
    {
     "data": {
      "image/png": "[encoded data removed]",
      "text/plain": [
       "<Figure size 640x480 with 1 Axes>"
      ]
     },
     "metadata": {},
     "output_type": "display_data"
    }
   ],
   "source": [
    "plt.plot([0, 1], [0, 1],'r--')\n",
    "preds_proba_rf_clf_pd = rf_clf_pd.predict_proba(X1_test)\n",
    "probs_rf_clf_pd = preds_proba_rf_clf_pd[:, 1]\n",
    "fpr_rf_clf_pd, tpr_rf_clf_pd, thresh_rf_clf_pd = roc_curve(y1_test, probs_rf_clf_pd)\n",
    "auc_rf_clf_pd = roc_auc_score(y1_test, probs_rf_clf_pd)\n",
    "plt.plot(fpr_rf_clf_pd, tpr_rf_clf_pd,'bo-', label=f'RFC, AUC = {str(round(auc_rf_clf_pd,3))}')\n",
    "plt.legend()\n",
    "plt.xlabel('False Positive Rate')\n",
    "plt.ylabel('True Positive Rate')\n",
    "plt.grid()\n",
    "plt.title('ROC curve for RFC (w/o StandardScaler)')"
   ]
  },
  {
   "cell_type": "markdown",
   "id": "a07c42fe",
   "metadata": {},
   "source": [
    "This is just confirmation that Random Forest works almost similarly well without the Standard Scaler, so that we are not majorly impacting the performance of the model by inverse transforming"
   ]
  },
  {
   "cell_type": "code",
   "execution_count": 79,
   "id": "e9ff7e5c",
   "metadata": {},
   "outputs": [
    {
     "data": {
      "text/plain": [
       "Int64Index([ 40846,  45034,  50816,  60392,  61495,  66153,  66385,  74360,\n",
       "             75909,  76131,  83403,  95172, 105106, 106007, 133824, 138302,\n",
       "            146461, 152680, 154261, 157976],\n",
       "           dtype='int64')"
      ]
     },
     "execution_count": 79,
     "metadata": {},
     "output_type": "execute_result"
    }
   ],
   "source": [
    "mortality_indices = model_predict_test_df.loc[(model_predict_test_df['Mortality Predictions']==1) & (test_dataset_df['educ']< 4.0) & (test_dataset_df['adjinc']< 4.0) ].index\n",
    "mortality_indices"
   ]
  },
  {
   "cell_type": "code",
   "execution_count": 80,
   "id": "321e2286",
   "metadata": {},
   "outputs": [
    {
     "data": {
      "text/html": [
       "<div>\n",
       "<style scoped>\n",
       "    .dataframe tbody tr th:only-of-type {\n",
       "        vertical-align: middle;\n",
       "    }\n",
       "\n",
       "    .dataframe tbody tr th {\n",
       "        vertical-align: top;\n",
       "    }\n",
       "\n",
       "    .dataframe thead th {\n",
       "        text-align: right;\n",
       "    }\n",
       "</style>\n",
       "<table border=\"1\" class=\"dataframe\">\n",
       "  <thead>\n",
       "    <tr style=\"text-align: right;\">\n",
       "      <th></th>\n",
       "      <th>age</th>\n",
       "      <th>race</th>\n",
       "      <th>sex</th>\n",
       "      <th>ms</th>\n",
       "      <th>hisp</th>\n",
       "      <th>adjinc</th>\n",
       "      <th>educ</th>\n",
       "      <th>pob</th>\n",
       "      <th>wt</th>\n",
       "      <th>hhnum</th>\n",
       "      <th>...</th>\n",
       "      <th>ind</th>\n",
       "      <th>esr</th>\n",
       "      <th>urban</th>\n",
       "      <th>smsast</th>\n",
       "      <th>ssnyn</th>\n",
       "      <th>vt</th>\n",
       "      <th>histatus</th>\n",
       "      <th>stater</th>\n",
       "      <th>rcow</th>\n",
       "      <th>tenure</th>\n",
       "    </tr>\n",
       "  </thead>\n",
       "  <tbody>\n",
       "    <tr>\n",
       "      <th>40846</th>\n",
       "      <td>75.0</td>\n",
       "      <td>2.0</td>\n",
       "      <td>2.0</td>\n",
       "      <td>2.0</td>\n",
       "      <td>3.0</td>\n",
       "      <td>3.0</td>\n",
       "      <td>3.0</td>\n",
       "      <td>917.0</td>\n",
       "      <td>155.0</td>\n",
       "      <td>1.0</td>\n",
       "      <td>...</td>\n",
       "      <td>9290.0</td>\n",
       "      <td>1.0</td>\n",
       "      <td>1.0</td>\n",
       "      <td>3.0</td>\n",
       "      <td>1.0</td>\n",
       "      <td>0.0</td>\n",
       "      <td>1.0</td>\n",
       "      <td>33.0</td>\n",
       "      <td>1.0</td>\n",
       "      <td>1.0</td>\n",
       "    </tr>\n",
       "    <tr>\n",
       "      <th>45034</th>\n",
       "      <td>80.0</td>\n",
       "      <td>2.0</td>\n",
       "      <td>1.0</td>\n",
       "      <td>2.0</td>\n",
       "      <td>3.0</td>\n",
       "      <td>2.0</td>\n",
       "      <td>3.0</td>\n",
       "      <td>927.0</td>\n",
       "      <td>103.0</td>\n",
       "      <td>1.0</td>\n",
       "      <td>...</td>\n",
       "      <td>8770.0</td>\n",
       "      <td>4.0</td>\n",
       "      <td>1.0</td>\n",
       "      <td>1.0</td>\n",
       "      <td>1.0</td>\n",
       "      <td>0.0</td>\n",
       "      <td>1.0</td>\n",
       "      <td>42.0</td>\n",
       "      <td>1.0</td>\n",
       "      <td>1.0</td>\n",
       "    </tr>\n",
       "  </tbody>\n",
       "</table>\n",
       "<p>2 rows × 23 columns</p>\n",
       "</div>"
      ],
      "text/plain": [
       "        age  race  sex   ms  hisp  adjinc  educ    pob     wt  hhnum  ...  \\\n",
       "40846  75.0   2.0  2.0  2.0   3.0     3.0   3.0  917.0  155.0    1.0  ...   \n",
       "45034  80.0   2.0  1.0  2.0   3.0     2.0   3.0  927.0  103.0    1.0  ...   \n",
       "\n",
       "          ind  esr  urban  smsast  ssnyn   vt  histatus  stater  rcow  tenure  \n",
       "40846  9290.0  1.0    1.0     3.0    1.0  0.0       1.0    33.0   1.0     1.0  \n",
       "45034  8770.0  4.0    1.0     1.0    1.0  0.0       1.0    42.0   1.0     1.0  \n",
       "\n",
       "[2 rows x 23 columns]"
      ]
     },
     "execution_count": 80,
     "metadata": {},
     "output_type": "execute_result"
    }
   ],
   "source": [
    "test_dataset_df.iloc[mortality_indices[0:2]]"
   ]
  },
  {
   "cell_type": "code",
   "execution_count": 82,
   "id": "1237c559",
   "metadata": {},
   "outputs": [
    {
     "name": "stderr",
     "output_type": "stream",
     "text": [
      "100%|████████████████████████████████████████████████████████████████████████████████████| 1/1 [00:24<00:00, 24.54s/it]"
     ]
    },
    {
     "name": "stdout",
     "output_type": "stream",
     "text": [
      "Query instance (original outcome : 1)\n"
     ]
    },
    {
     "name": "stderr",
     "output_type": "stream",
     "text": [
      "\n"
     ]
    },
    {
     "data": {
      "text/html": [
       "<div>\n",
       "<style scoped>\n",
       "    .dataframe tbody tr th:only-of-type {\n",
       "        vertical-align: middle;\n",
       "    }\n",
       "\n",
       "    .dataframe tbody tr th {\n",
       "        vertical-align: top;\n",
       "    }\n",
       "\n",
       "    .dataframe thead th {\n",
       "        text-align: right;\n",
       "    }\n",
       "</style>\n",
       "<table border=\"1\" class=\"dataframe\">\n",
       "  <thead>\n",
       "    <tr style=\"text-align: right;\">\n",
       "      <th></th>\n",
       "      <th>age</th>\n",
       "      <th>race</th>\n",
       "      <th>sex</th>\n",
       "      <th>ms</th>\n",
       "      <th>hisp</th>\n",
       "      <th>adjinc</th>\n",
       "      <th>educ</th>\n",
       "      <th>pob</th>\n",
       "      <th>wt</th>\n",
       "      <th>hhnum</th>\n",
       "      <th>...</th>\n",
       "      <th>esr</th>\n",
       "      <th>urban</th>\n",
       "      <th>smsast</th>\n",
       "      <th>ssnyn</th>\n",
       "      <th>vt</th>\n",
       "      <th>histatus</th>\n",
       "      <th>stater</th>\n",
       "      <th>rcow</th>\n",
       "      <th>tenure</th>\n",
       "      <th>mortality</th>\n",
       "    </tr>\n",
       "  </thead>\n",
       "  <tbody>\n",
       "    <tr>\n",
       "      <th>0</th>\n",
       "      <td>75.0</td>\n",
       "      <td>2.0</td>\n",
       "      <td>2.0</td>\n",
       "      <td>2.0</td>\n",
       "      <td>3.0</td>\n",
       "      <td>3.0</td>\n",
       "      <td>3.0</td>\n",
       "      <td>917.0</td>\n",
       "      <td>155.0</td>\n",
       "      <td>1.0</td>\n",
       "      <td>...</td>\n",
       "      <td>1.0</td>\n",
       "      <td>1.0</td>\n",
       "      <td>3.0</td>\n",
       "      <td>1.0</td>\n",
       "      <td>0.0</td>\n",
       "      <td>1.0</td>\n",
       "      <td>33.0</td>\n",
       "      <td>1.0</td>\n",
       "      <td>1.0</td>\n",
       "      <td>1</td>\n",
       "    </tr>\n",
       "  </tbody>\n",
       "</table>\n",
       "<p>1 rows × 24 columns</p>\n",
       "</div>"
      ],
      "text/plain": [
       "    age race  sex   ms hisp  adjinc  educ    pob     wt hhnum  ...  esr urban  \\\n",
       "0  75.0  2.0  2.0  2.0  3.0     3.0   3.0  917.0  155.0   1.0  ...  1.0   1.0   \n",
       "\n",
       "  smsast ssnyn   vt histatus stater rcow tenure mortality  \n",
       "0    3.0   1.0  0.0      1.0   33.0  1.0    1.0         1  \n",
       "\n",
       "[1 rows x 24 columns]"
      ]
     },
     "metadata": {},
     "output_type": "display_data"
    },
    {
     "name": "stdout",
     "output_type": "stream",
     "text": [
      "\n",
      "Diverse Counterfactual set (new outcome: 0.0)\n"
     ]
    },
    {
     "data": {
      "text/html": [
       "<div>\n",
       "<style scoped>\n",
       "    .dataframe tbody tr th:only-of-type {\n",
       "        vertical-align: middle;\n",
       "    }\n",
       "\n",
       "    .dataframe tbody tr th {\n",
       "        vertical-align: top;\n",
       "    }\n",
       "\n",
       "    .dataframe thead th {\n",
       "        text-align: right;\n",
       "    }\n",
       "</style>\n",
       "<table border=\"1\" class=\"dataframe\">\n",
       "  <thead>\n",
       "    <tr style=\"text-align: right;\">\n",
       "      <th></th>\n",
       "      <th>age</th>\n",
       "      <th>race</th>\n",
       "      <th>sex</th>\n",
       "      <th>ms</th>\n",
       "      <th>hisp</th>\n",
       "      <th>adjinc</th>\n",
       "      <th>educ</th>\n",
       "      <th>pob</th>\n",
       "      <th>wt</th>\n",
       "      <th>hhnum</th>\n",
       "      <th>...</th>\n",
       "      <th>esr</th>\n",
       "      <th>urban</th>\n",
       "      <th>smsast</th>\n",
       "      <th>ssnyn</th>\n",
       "      <th>vt</th>\n",
       "      <th>histatus</th>\n",
       "      <th>stater</th>\n",
       "      <th>rcow</th>\n",
       "      <th>tenure</th>\n",
       "      <th>mortality</th>\n",
       "    </tr>\n",
       "  </thead>\n",
       "  <tbody>\n",
       "    <tr>\n",
       "      <th>0</th>\n",
       "      <td>75.0</td>\n",
       "      <td>2.0</td>\n",
       "      <td>2.0</td>\n",
       "      <td>2.0</td>\n",
       "      <td>3.0</td>\n",
       "      <td>11.2</td>\n",
       "      <td>12.0</td>\n",
       "      <td>917.0</td>\n",
       "      <td>155.0</td>\n",
       "      <td>1.0</td>\n",
       "      <td>...</td>\n",
       "      <td>1.0</td>\n",
       "      <td>1.0</td>\n",
       "      <td>3.0</td>\n",
       "      <td>1.0</td>\n",
       "      <td>0.0</td>\n",
       "      <td>1.0</td>\n",
       "      <td>33.0</td>\n",
       "      <td>1.0</td>\n",
       "      <td>1.0</td>\n",
       "      <td>0.0</td>\n",
       "    </tr>\n",
       "    <tr>\n",
       "      <th>1</th>\n",
       "      <td>75.0</td>\n",
       "      <td>2.0</td>\n",
       "      <td>2.0</td>\n",
       "      <td>2.0</td>\n",
       "      <td>3.0</td>\n",
       "      <td>6.7</td>\n",
       "      <td>-</td>\n",
       "      <td>917.0</td>\n",
       "      <td>155.0</td>\n",
       "      <td>1.0</td>\n",
       "      <td>...</td>\n",
       "      <td>1.0</td>\n",
       "      <td>1.0</td>\n",
       "      <td>3.0</td>\n",
       "      <td>1.0</td>\n",
       "      <td>0.0</td>\n",
       "      <td>1.0</td>\n",
       "      <td>33.0</td>\n",
       "      <td>1.0</td>\n",
       "      <td>1.0</td>\n",
       "      <td>0.0</td>\n",
       "    </tr>\n",
       "  </tbody>\n",
       "</table>\n",
       "<p>2 rows × 24 columns</p>\n",
       "</div>"
      ],
      "text/plain": [
       "    age race  sex   ms hisp adjinc  educ    pob     wt hhnum  ...  esr urban  \\\n",
       "0  75.0  2.0  2.0  2.0  3.0   11.2  12.0  917.0  155.0   1.0  ...  1.0   1.0   \n",
       "1  75.0  2.0  2.0  2.0  3.0    6.7     -  917.0  155.0   1.0  ...  1.0   1.0   \n",
       "\n",
       "  smsast ssnyn   vt histatus stater rcow tenure mortality  \n",
       "0    3.0   1.0  0.0      1.0   33.0  1.0    1.0       0.0  \n",
       "1    3.0   1.0  0.0      1.0   33.0  1.0    1.0       0.0  \n",
       "\n",
       "[2 rows x 24 columns]"
      ]
     },
     "metadata": {},
     "output_type": "display_data"
    }
   ],
   "source": [
    "e1=exp.generate_counterfactuals(test_dataset_df.iloc[mortality_indices[0:1]], total_CFs=2, desired_class='opposite', features_to_vary=['adjinc', 'educ'])\n",
    "e1.visualize_as_dataframe(show_only_changes=True)\n"
   ]
  },
  {
   "cell_type": "markdown",
   "id": "503d69d1",
   "metadata": {},
   "source": [
    "The counterfactuals showed that by increasing the level of education and/or level of income, the model prediction altered from mortality to 'no mortality', indicating that higher education and income are important factors to consider for preventing mortality and extending life span."
   ]
  },
  {
   "cell_type": "code",
   "execution_count": null,
   "id": "40ea1434",
   "metadata": {},
   "outputs": [],
   "source": []
  }
 ],
 "metadata": {
  "kernelspec": {
   "display_name": "Python 3 (ipykernel)",
   "language": "python",
   "name": "python3"
  },
  "language_info": {
   "codemirror_mode": {
    "name": "ipython",
    "version": 3
   },
   "file_extension": ".py",
   "mimetype": "text/x-python",
   "name": "python",
   "nbconvert_exporter": "python",
   "pygments_lexer": "ipython3",
   "version": "3.9.16"
  }
 },
 "nbformat": 4,
 "nbformat_minor": 5
}
