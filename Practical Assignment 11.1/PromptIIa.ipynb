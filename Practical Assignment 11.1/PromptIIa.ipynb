{
 "cells": [
  {
   "cell_type": "markdown",
   "metadata": {},
   "source": [
    "# What drives the price of a car?\n",
    "\n",
    "![](images/kurt.jpeg)"
   ]
  },
  {
   "cell_type": "markdown",
   "metadata": {},
   "source": [
    "**OVERVIEW**\n",
    "\n",
    "In this application, you will explore a dataset from kaggle. The original dataset contained information on 3 million used cars. The provided dataset contains information on 426K cars to ensure speed of processing.  Your goal is to understand what factors make a car more or less expensive.  As a result of your analysis, you should provide clear recommendations to your client -- a used car dealership -- as to what consumers value in a used car."
   ]
  },
  {
   "cell_type": "markdown",
   "metadata": {},
   "source": [
    "### CRISP-DM Framework\n",
    "\n",
    "<center>\n",
    "    <img src = images/crisp.png width = 50%/>\n",
    "</center>\n",
    "\n",
    "\n",
    "To frame the task, throughout our practical applications we will refer back to a standard process in industry for data projects called CRISP-DM.  This process provides a framework for working through a data problem.  Your first step in this application will be to read through a brief overview of CRISP-DM [here](https://mo-pcco.s3.us-east-1.amazonaws.com/BH-PCMLAI/module_11/readings_starter.zip).  After reading the overview, answer the questions below."
   ]
  },
  {
   "cell_type": "markdown",
   "metadata": {},
   "source": [
    "### Business Understanding\n",
    "\n",
    "From a business perspective, we are tasked with identifying key drivers for used car prices.  In the CRISP-DM overview, we are asked to convert this business framing to a data problem definition.  Using a few sentences, reframe the task as a data task with the appropriate technical vocabulary. "
   ]
  },
  {
   "cell_type": "code",
   "execution_count": null,
   "metadata": {},
   "outputs": [],
   "source": []
  },
  {
   "cell_type": "markdown",
   "metadata": {},
   "source": [
    "The key objective  from the business perspective is  identifying which  attributes impact the price of used cars. This information will be valuable to used car deals in fine tuning their inventory. This can be achieved building a  regression model for price of used cars based on different attributes including year, make, model, condition, odometer reading, number of cylinders, type of fuel, drive, transmission, size, type of vehicle and color. The magnitudes of regression coefficients as well as other model inspection techniques can reveal useful information in  ranking features in order of their impact on the target variable ('price') and accordingly determine the top features that influence price."
   ]
  },
  {
   "cell_type": "code",
   "execution_count": null,
   "metadata": {},
   "outputs": [],
   "source": []
  },
  {
   "cell_type": "code",
   "execution_count": null,
   "metadata": {},
   "outputs": [],
   "source": []
  },
  {
   "cell_type": "markdown",
   "metadata": {},
   "source": [
    "### Data Understanding\n",
    "\n",
    "After considering the business understanding, we want to get familiar with our data.  Write down some steps that you would take to get to know the dataset and identify any quality issues within.  Take time to get to know the dataset and explore what information it contains and how this could be used to inform your business understanding."
   ]
  },
  {
   "cell_type": "code",
   "execution_count": null,
   "metadata": {},
   "outputs": [],
   "source": []
  },
  {
   "cell_type": "markdown",
   "metadata": {},
   "source": [
    "The first step of data understanding is exploring what data has been collected.  In this case there are 426880 entries with 18 attributes, 4 numeric attributes and the rest categorical. There are  several columns with missing data. A quick check of the descriptive statistics of the numeric attributes indicate that there are also outliers in numeric attributes, price and odometer."
   ]
  },
  {
   "cell_type": "code",
   "execution_count": null,
   "metadata": {},
   "outputs": [],
   "source": []
  },
  {
   "cell_type": "code",
   "execution_count": 33,
   "metadata": {},
   "outputs": [],
   "source": [
    "import pandas as pd\n",
    "import numpy as np\n",
    "import matplotlib.pyplot as plt\n",
    "import plotly.express as px\n",
    "import seaborn as sns\n",
    "from sklearn.model_selection import train_test_split, GridSearchCV\n",
    "from sklearn.pipeline import Pipeline\n",
    "from sklearn.preprocessing import StandardScaler, PolynomialFeatures, PowerTransformer\n",
    "from sklearn.metrics import mean_squared_error, r2_score\n",
    "from sklearn.feature_selection import SequentialFeatureSelector, SelectFromModel\n",
    "from sklearn.linear_model import LinearRegression, Ridge, Lasso, LassoCV\n",
    "from scipy import stats\n",
    "from sklearn.compose import make_column_transformer, TransformedTargetRegressor\n",
    "from sklearn.model_selection import KFold, cross_val_score\n",
    "from sklearn.inspection import permutation_importance"
   ]
  },
  {
   "cell_type": "code",
   "execution_count": 34,
   "metadata": {},
   "outputs": [
    {
     "data": {
      "text/html": [
       "<div>\n",
       "<style scoped>\n",
       "    .dataframe tbody tr th:only-of-type {\n",
       "        vertical-align: middle;\n",
       "    }\n",
       "\n",
       "    .dataframe tbody tr th {\n",
       "        vertical-align: top;\n",
       "    }\n",
       "\n",
       "    .dataframe thead th {\n",
       "        text-align: right;\n",
       "    }\n",
       "</style>\n",
       "<table border=\"1\" class=\"dataframe\">\n",
       "  <thead>\n",
       "    <tr style=\"text-align: right;\">\n",
       "      <th></th>\n",
       "      <th>id</th>\n",
       "      <th>region</th>\n",
       "      <th>price</th>\n",
       "      <th>year</th>\n",
       "      <th>manufacturer</th>\n",
       "      <th>model</th>\n",
       "      <th>condition</th>\n",
       "      <th>cylinders</th>\n",
       "      <th>fuel</th>\n",
       "      <th>odometer</th>\n",
       "      <th>title_status</th>\n",
       "      <th>transmission</th>\n",
       "      <th>VIN</th>\n",
       "      <th>drive</th>\n",
       "      <th>size</th>\n",
       "      <th>type</th>\n",
       "      <th>paint_color</th>\n",
       "      <th>state</th>\n",
       "    </tr>\n",
       "  </thead>\n",
       "  <tbody>\n",
       "    <tr>\n",
       "      <th>281909</th>\n",
       "      <td>7315853427</td>\n",
       "      <td>utica-rome-oneida</td>\n",
       "      <td>21990</td>\n",
       "      <td>2020.0</td>\n",
       "      <td>volkswagen</td>\n",
       "      <td>golf 1.4t tsi</td>\n",
       "      <td>good</td>\n",
       "      <td>NaN</td>\n",
       "      <td>gas</td>\n",
       "      <td>2515.0</td>\n",
       "      <td>clean</td>\n",
       "      <td>other</td>\n",
       "      <td>3VWW57AU2LM008847</td>\n",
       "      <td>fwd</td>\n",
       "      <td>NaN</td>\n",
       "      <td>sedan</td>\n",
       "      <td>black</td>\n",
       "      <td>ny</td>\n",
       "    </tr>\n",
       "    <tr>\n",
       "      <th>232349</th>\n",
       "      <td>7314942425</td>\n",
       "      <td>charlotte</td>\n",
       "      <td>0</td>\n",
       "      <td>2017.0</td>\n",
       "      <td>bmw</td>\n",
       "      <td>340i</td>\n",
       "      <td>NaN</td>\n",
       "      <td>NaN</td>\n",
       "      <td>gas</td>\n",
       "      <td>55356.0</td>\n",
       "      <td>clean</td>\n",
       "      <td>automatic</td>\n",
       "      <td>WBA8B7G51HNU37475</td>\n",
       "      <td>NaN</td>\n",
       "      <td>compact</td>\n",
       "      <td>sedan</td>\n",
       "      <td>black</td>\n",
       "      <td>nc</td>\n",
       "    </tr>\n",
       "    <tr>\n",
       "      <th>102712</th>\n",
       "      <td>7312278746</td>\n",
       "      <td>ocala</td>\n",
       "      <td>8750</td>\n",
       "      <td>2016.0</td>\n",
       "      <td>toyota</td>\n",
       "      <td>corolla</td>\n",
       "      <td>NaN</td>\n",
       "      <td>NaN</td>\n",
       "      <td>gas</td>\n",
       "      <td>117795.0</td>\n",
       "      <td>clean</td>\n",
       "      <td>automatic</td>\n",
       "      <td>2T1BURHE3GC585058</td>\n",
       "      <td>fwd</td>\n",
       "      <td>NaN</td>\n",
       "      <td>sedan</td>\n",
       "      <td>black</td>\n",
       "      <td>fl</td>\n",
       "    </tr>\n",
       "    <tr>\n",
       "      <th>21654</th>\n",
       "      <td>7314444074</td>\n",
       "      <td>bakersfield</td>\n",
       "      <td>34900</td>\n",
       "      <td>2012.0</td>\n",
       "      <td>ford</td>\n",
       "      <td>econoline</td>\n",
       "      <td>good</td>\n",
       "      <td>8 cylinders</td>\n",
       "      <td>gas</td>\n",
       "      <td>164279.0</td>\n",
       "      <td>clean</td>\n",
       "      <td>automatic</td>\n",
       "      <td>NaN</td>\n",
       "      <td>rwd</td>\n",
       "      <td>full-size</td>\n",
       "      <td>truck</td>\n",
       "      <td>white</td>\n",
       "      <td>ca</td>\n",
       "    </tr>\n",
       "    <tr>\n",
       "      <th>105683</th>\n",
       "      <td>7314315636</td>\n",
       "      <td>orlando</td>\n",
       "      <td>23996</td>\n",
       "      <td>2017.0</td>\n",
       "      <td>lexus</td>\n",
       "      <td>es 350</td>\n",
       "      <td>NaN</td>\n",
       "      <td>6 cylinders</td>\n",
       "      <td>gas</td>\n",
       "      <td>64043.0</td>\n",
       "      <td>clean</td>\n",
       "      <td>automatic</td>\n",
       "      <td>NaN</td>\n",
       "      <td>fwd</td>\n",
       "      <td>mid-size</td>\n",
       "      <td>sedan</td>\n",
       "      <td>silver</td>\n",
       "      <td>fl</td>\n",
       "    </tr>\n",
       "  </tbody>\n",
       "</table>\n",
       "</div>"
      ],
      "text/plain": [
       "                id             region  price    year manufacturer  \\\n",
       "281909  7315853427  utica-rome-oneida  21990  2020.0   volkswagen   \n",
       "232349  7314942425          charlotte      0  2017.0          bmw   \n",
       "102712  7312278746              ocala   8750  2016.0       toyota   \n",
       "21654   7314444074        bakersfield  34900  2012.0         ford   \n",
       "105683  7314315636            orlando  23996  2017.0        lexus   \n",
       "\n",
       "                model condition    cylinders fuel  odometer title_status  \\\n",
       "281909  golf 1.4t tsi      good          NaN  gas    2515.0        clean   \n",
       "232349           340i       NaN          NaN  gas   55356.0        clean   \n",
       "102712        corolla       NaN          NaN  gas  117795.0        clean   \n",
       "21654       econoline      good  8 cylinders  gas  164279.0        clean   \n",
       "105683         es 350       NaN  6 cylinders  gas   64043.0        clean   \n",
       "\n",
       "       transmission                VIN drive       size   type paint_color  \\\n",
       "281909        other  3VWW57AU2LM008847   fwd        NaN  sedan       black   \n",
       "232349    automatic  WBA8B7G51HNU37475   NaN    compact  sedan       black   \n",
       "102712    automatic  2T1BURHE3GC585058   fwd        NaN  sedan       black   \n",
       "21654     automatic                NaN   rwd  full-size  truck       white   \n",
       "105683    automatic                NaN   fwd   mid-size  sedan      silver   \n",
       "\n",
       "       state  \n",
       "281909    ny  \n",
       "232349    nc  \n",
       "102712    fl  \n",
       "21654     ca  \n",
       "105683    fl  "
      ]
     },
     "execution_count": 34,
     "metadata": {},
     "output_type": "execute_result"
    }
   ],
   "source": [
    "vehicles = pd.read_csv('data/vehicles.csv')\n",
    "vehicles.sample(5)"
   ]
  },
  {
   "cell_type": "code",
   "execution_count": 35,
   "metadata": {},
   "outputs": [
    {
     "name": "stdout",
     "output_type": "stream",
     "text": [
      "<class 'pandas.core.frame.DataFrame'>\n",
      "RangeIndex: 426880 entries, 0 to 426879\n",
      "Data columns (total 18 columns):\n",
      " #   Column        Non-Null Count   Dtype  \n",
      "---  ------        --------------   -----  \n",
      " 0   id            426880 non-null  int64  \n",
      " 1   region        426880 non-null  object \n",
      " 2   price         426880 non-null  int64  \n",
      " 3   year          425675 non-null  float64\n",
      " 4   manufacturer  409234 non-null  object \n",
      " 5   model         421603 non-null  object \n",
      " 6   condition     252776 non-null  object \n",
      " 7   cylinders     249202 non-null  object \n",
      " 8   fuel          423867 non-null  object \n",
      " 9   odometer      422480 non-null  float64\n",
      " 10  title_status  418638 non-null  object \n",
      " 11  transmission  424324 non-null  object \n",
      " 12  VIN           265838 non-null  object \n",
      " 13  drive         296313 non-null  object \n",
      " 14  size          120519 non-null  object \n",
      " 15  type          334022 non-null  object \n",
      " 16  paint_color   296677 non-null  object \n",
      " 17  state         426880 non-null  object \n",
      "dtypes: float64(2), int64(2), object(14)\n",
      "memory usage: 58.6+ MB\n"
     ]
    }
   ],
   "source": [
    "vehicles.info()"
   ]
  },
  {
   "cell_type": "markdown",
   "metadata": {},
   "source": [
    "Based on vehicles.info() there are a large number of missing data from the columns condition, cylinders, VIN, drive, size, type, paint color. These features will therefore not be used for the model as there's no reliable way to replace so many instances of missing data corresponding to these features without introducing some sort of error or bias. There are other features like year, manufacturer, model, fuel, transmission, state, odometer reading, each of which is known to impact used car price. There's a smaller amount of missing data for these features and there will still be sufficient data left after elimination of missing data corresponding to these features."
   ]
  },
  {
   "cell_type": "code",
   "execution_count": 36,
   "metadata": {},
   "outputs": [
    {
     "data": {
      "text/html": [
       "<div>\n",
       "<style scoped>\n",
       "    .dataframe tbody tr th:only-of-type {\n",
       "        vertical-align: middle;\n",
       "    }\n",
       "\n",
       "    .dataframe tbody tr th {\n",
       "        vertical-align: top;\n",
       "    }\n",
       "\n",
       "    .dataframe thead th {\n",
       "        text-align: right;\n",
       "    }\n",
       "</style>\n",
       "<table border=\"1\" class=\"dataframe\">\n",
       "  <thead>\n",
       "    <tr style=\"text-align: right;\">\n",
       "      <th></th>\n",
       "      <th>id</th>\n",
       "      <th>price</th>\n",
       "      <th>year</th>\n",
       "      <th>odometer</th>\n",
       "    </tr>\n",
       "  </thead>\n",
       "  <tbody>\n",
       "    <tr>\n",
       "      <th>count</th>\n",
       "      <td>4.268800e+05</td>\n",
       "      <td>4.268800e+05</td>\n",
       "      <td>425675.000000</td>\n",
       "      <td>4.224800e+05</td>\n",
       "    </tr>\n",
       "    <tr>\n",
       "      <th>mean</th>\n",
       "      <td>7.311487e+09</td>\n",
       "      <td>7.519903e+04</td>\n",
       "      <td>2011.235191</td>\n",
       "      <td>9.804333e+04</td>\n",
       "    </tr>\n",
       "    <tr>\n",
       "      <th>std</th>\n",
       "      <td>4.473170e+06</td>\n",
       "      <td>1.218228e+07</td>\n",
       "      <td>9.452120</td>\n",
       "      <td>2.138815e+05</td>\n",
       "    </tr>\n",
       "    <tr>\n",
       "      <th>min</th>\n",
       "      <td>7.207408e+09</td>\n",
       "      <td>0.000000e+00</td>\n",
       "      <td>1900.000000</td>\n",
       "      <td>0.000000e+00</td>\n",
       "    </tr>\n",
       "    <tr>\n",
       "      <th>25%</th>\n",
       "      <td>7.308143e+09</td>\n",
       "      <td>5.900000e+03</td>\n",
       "      <td>2008.000000</td>\n",
       "      <td>3.770400e+04</td>\n",
       "    </tr>\n",
       "    <tr>\n",
       "      <th>50%</th>\n",
       "      <td>7.312621e+09</td>\n",
       "      <td>1.395000e+04</td>\n",
       "      <td>2013.000000</td>\n",
       "      <td>8.554800e+04</td>\n",
       "    </tr>\n",
       "    <tr>\n",
       "      <th>75%</th>\n",
       "      <td>7.315254e+09</td>\n",
       "      <td>2.648575e+04</td>\n",
       "      <td>2017.000000</td>\n",
       "      <td>1.335425e+05</td>\n",
       "    </tr>\n",
       "    <tr>\n",
       "      <th>max</th>\n",
       "      <td>7.317101e+09</td>\n",
       "      <td>3.736929e+09</td>\n",
       "      <td>2022.000000</td>\n",
       "      <td>1.000000e+07</td>\n",
       "    </tr>\n",
       "  </tbody>\n",
       "</table>\n",
       "</div>"
      ],
      "text/plain": [
       "                 id         price           year      odometer\n",
       "count  4.268800e+05  4.268800e+05  425675.000000  4.224800e+05\n",
       "mean   7.311487e+09  7.519903e+04    2011.235191  9.804333e+04\n",
       "std    4.473170e+06  1.218228e+07       9.452120  2.138815e+05\n",
       "min    7.207408e+09  0.000000e+00    1900.000000  0.000000e+00\n",
       "25%    7.308143e+09  5.900000e+03    2008.000000  3.770400e+04\n",
       "50%    7.312621e+09  1.395000e+04    2013.000000  8.554800e+04\n",
       "75%    7.315254e+09  2.648575e+04    2017.000000  1.335425e+05\n",
       "max    7.317101e+09  3.736929e+09    2022.000000  1.000000e+07"
      ]
     },
     "execution_count": 36,
     "metadata": {},
     "output_type": "execute_result"
    }
   ],
   "source": [
    "vehicles.describe()"
   ]
  },
  {
   "cell_type": "markdown",
   "metadata": {},
   "source": [
    "The price and odometer columns seem to have some outliers based on the descriptive statistics: for example the max value of price seems unrealistically high whereas minimum value is 0. "
   ]
  },
  {
   "cell_type": "code",
   "execution_count": 37,
   "metadata": {},
   "outputs": [
    {
     "data": {
      "text/plain": [
       "[Text(0, 0, 'gmc'),\n",
       " Text(1, 0, 'chevrolet'),\n",
       " Text(2, 0, 'toyota'),\n",
       " Text(3, 0, 'ford'),\n",
       " Text(4, 0, 'jeep'),\n",
       " Text(5, 0, 'nissan'),\n",
       " Text(6, 0, 'ram'),\n",
       " Text(7, 0, 'mazda'),\n",
       " Text(8, 0, 'cadillac'),\n",
       " Text(9, 0, 'honda'),\n",
       " Text(10, 0, 'dodge'),\n",
       " Text(11, 0, 'lexus'),\n",
       " Text(12, 0, 'jaguar'),\n",
       " Text(13, 0, 'buick'),\n",
       " Text(14, 0, 'chrysler'),\n",
       " Text(15, 0, 'volvo'),\n",
       " Text(16, 0, 'audi'),\n",
       " Text(17, 0, 'infiniti'),\n",
       " Text(18, 0, 'lincoln'),\n",
       " Text(19, 0, 'alfa-romeo'),\n",
       " Text(20, 0, 'subaru'),\n",
       " Text(21, 0, 'acura'),\n",
       " Text(22, 0, 'hyundai'),\n",
       " Text(23, 0, 'mercedes-benz'),\n",
       " Text(24, 0, 'bmw'),\n",
       " Text(25, 0, 'mitsubishi'),\n",
       " Text(26, 0, 'volkswagen'),\n",
       " Text(27, 0, 'porsche'),\n",
       " Text(28, 0, 'kia'),\n",
       " Text(29, 0, 'rover'),\n",
       " Text(30, 0, 'ferrari'),\n",
       " Text(31, 0, 'mini'),\n",
       " Text(32, 0, 'pontiac'),\n",
       " Text(33, 0, 'fiat'),\n",
       " Text(34, 0, 'tesla'),\n",
       " Text(35, 0, 'saturn'),\n",
       " Text(36, 0, 'mercury'),\n",
       " Text(37, 0, 'harley-davidson'),\n",
       " Text(38, 0, 'datsun'),\n",
       " Text(39, 0, 'aston-martin'),\n",
       " Text(40, 0, 'land rover'),\n",
       " Text(41, 0, 'morgan')]"
      ]
     },
     "execution_count": 37,
     "metadata": {},
     "output_type": "execute_result"
    },
    {
     "data": {
      "image/png": "[encoded data removed]",
      "text/plain": [
       "<Figure size 640x480 with 1 Axes>"
      ]
     },
     "metadata": {},
     "output_type": "display_data"
    }
   ],
   "source": [
    "ax = sns.boxplot(data=vehicles, x='manufacturer', y='price')\n",
    "ax.set_xticklabels(ax.get_xticklabels(),rotation=90)"
   ]
  },
  {
   "cell_type": "markdown",
   "metadata": {},
   "source": [
    "It's also evident from the above plot that outlier data is present, esp for the price variable which needs to be addressed."
   ]
  },
  {
   "cell_type": "code",
   "execution_count": 38,
   "metadata": {},
   "outputs": [
    {
     "data": {
      "text/plain": [
       "gas         356209\n",
       "other        30728\n",
       "diesel       30062\n",
       "hybrid        5170\n",
       "electric      1698\n",
       "Name: fuel, dtype: int64"
      ]
     },
     "execution_count": 38,
     "metadata": {},
     "output_type": "execute_result"
    }
   ],
   "source": [
    "#exploring contents of the some of the categorical features\n",
    "\n",
    "vehicles['fuel'].value_counts()"
   ]
  },
  {
   "cell_type": "code",
   "execution_count": 39,
   "metadata": {},
   "outputs": [
    {
     "data": {
      "text/plain": [
       "automatic    336524\n",
       "other         62682\n",
       "manual        25118\n",
       "Name: transmission, dtype: int64"
      ]
     },
     "execution_count": 39,
     "metadata": {},
     "output_type": "execute_result"
    }
   ],
   "source": [
    "vehicles['transmission'].value_counts()"
   ]
  },
  {
   "cell_type": "markdown",
   "metadata": {},
   "source": [
    "### Data Preparation\n",
    "\n",
    "After our initial exploration and fine tuning of the business understanding, it is time to construct our final dataset prior to modeling.  Here, we want to make sure to handle any integrity issues and cleaning, the engineering of new features, any transformations that we believe should happen (scaling, logarithms, normalization, etc.), and general preparation for modeling with `sklearn`. "
   ]
  },
  {
   "cell_type": "code",
   "execution_count": null,
   "metadata": {},
   "outputs": [],
   "source": []
  },
  {
   "cell_type": "markdown",
   "metadata": {},
   "source": [
    "First step in data preparation process is removal of outlier data for the numerical columns 'price' and 'odometer'. This is accomplished based on removing data more or less than 1.5 times the interquartile ranges from the third and first quartile respectively. Also since several datapoints for the price variable are on the lower side (0 or close to 0), the lower limit may not be adequate for removal of outliers on the lower side of the range, so a value threshold of 500 is set below which data for price is removed."
   ]
  },
  {
   "cell_type": "code",
   "execution_count": 40,
   "metadata": {},
   "outputs": [],
   "source": [
    "#remove outliers from numeric columns based on values below or above 1.5 times inter quartile range from the first and third quartiles respectively\n",
    "def remove_outlier(df_in, col_name):\n",
    "    q1 = df_in[col_name].quantile(0.25)\n",
    "    q3 = df_in[col_name].quantile(0.75)\n",
    "    iqr = q3-q1 #Interquartile range\n",
    "    fence_low  = q1-1.5*iqr\n",
    "    fence_high = q3+1.5*iqr\n",
    "    df_out = df_in.loc[(df_in[col_name] > np.max([fence_low, 500])) & (df_in[col_name] < fence_high)]\n",
    "    return df_out\n",
    "\n",
    "data = remove_outlier(vehicles, 'price')\n",
    "data=remove_outlier(data,'odometer')\n"
   ]
  },
  {
   "cell_type": "code",
   "execution_count": 41,
   "metadata": {},
   "outputs": [
    {
     "data": {
      "text/plain": [
       "[Text(0.5, 1.0, 'Used Car Prices for Different Manufacturers')]"
      ]
     },
     "execution_count": 41,
     "metadata": {},
     "output_type": "execute_result"
    },
    {
     "data": {
      "image/png": "[encoded data removed]",
      "text/plain": [
       "<Figure size 640x480 with 1 Axes>"
      ]
     },
     "metadata": {},
     "output_type": "display_data"
    }
   ],
   "source": [
    "ax = sns.boxplot(data=data, x='manufacturer', y='price')\n",
    "ax.set_xticklabels(ax.get_xticklabels(),rotation=90)\n",
    "ax.set(title='Used Car Prices for Different Manufacturers')"
   ]
  },
  {
   "cell_type": "code",
   "execution_count": 42,
   "metadata": {},
   "outputs": [
    {
     "data": {
      "text/plain": [
       "<AxesSubplot:xlabel='price', ylabel='Count'>"
      ]
     },
     "execution_count": 42,
     "metadata": {},
     "output_type": "execute_result"
    },
    {
     "data": {
      "image/png": "[encoded data removed]",
      "text/plain": [
       "<Figure size 640x480 with 1 Axes>"
      ]
     },
     "metadata": {},
     "output_type": "display_data"
    }
   ],
   "source": [
    "sns.histplot(data=data, x='price')"
   ]
  },
  {
   "cell_type": "markdown",
   "metadata": {},
   "source": [
    "Based on these plots, it seems like the outlier removal process was successful."
   ]
  },
  {
   "cell_type": "code",
   "execution_count": 43,
   "metadata": {},
   "outputs": [
    {
     "name": "stdout",
     "output_type": "stream",
     "text": [
      "<class 'pandas.core.frame.DataFrame'>\n",
      "Int64Index: 363695 entries, 27 to 426879\n",
      "Data columns (total 18 columns):\n",
      " #   Column        Non-Null Count   Dtype  \n",
      "---  ------        --------------   -----  \n",
      " 0   id            363695 non-null  int64  \n",
      " 1   region        363695 non-null  object \n",
      " 2   price         363695 non-null  int64  \n",
      " 3   year          362869 non-null  float64\n",
      " 4   manufacturer  350828 non-null  object \n",
      " 5   model         359985 non-null  object \n",
      " 6   condition     228566 non-null  object \n",
      " 7   cylinders     216984 non-null  object \n",
      " 8   fuel          361532 non-null  object \n",
      " 9   odometer      363695 non-null  float64\n",
      " 10  title_status  357518 non-null  object \n",
      " 11  transmission  362313 non-null  object \n",
      " 12  VIN           224969 non-null  object \n",
      " 13  drive         253990 non-null  object \n",
      " 14  size          103558 non-null  object \n",
      " 15  type          287621 non-null  object \n",
      " 16  paint_color   260300 non-null  object \n",
      " 17  state         363695 non-null  object \n",
      "dtypes: float64(2), int64(2), object(14)\n",
      "memory usage: 60.8+ MB\n"
     ]
    }
   ],
   "source": [
    "#check on data size and info after removing outliers\n",
    "data.info()"
   ]
  },
  {
   "cell_type": "markdown",
   "metadata": {},
   "source": [
    "Based on data.info() there are a large number of missing data from the columns condition, cylinders, VIN, drive, size, type, paint color. These features will therefore not be used for the model. The 'region' and 'state' both convey information on location, it will be adequate to include just one of them, 'state', for modeling purposes as variation in price for regions within a state are probably going to be not as much as variation from one state to another."
   ]
  },
  {
   "cell_type": "markdown",
   "metadata": {},
   "source": [
    "Before getting the data ready for modeling we explore the effect of a few variables on price which will help us make important decisions on what to incorporate in the model. This is easier to do at this stage after the outlier prices have been removed as one of the first steps of data preparation."
   ]
  },
  {
   "cell_type": "code",
   "execution_count": 12,
   "metadata": {},
   "outputs": [
    {
     "data": {
      "text/plain": [
       "[Text(0.5, 1.0, 'Effects of Fuel Type on Used Car Price')]"
      ]
     },
     "execution_count": 12,
     "metadata": {},
     "output_type": "execute_result"
    },
    {
     "data": {
      "image/png": "[encoded data removed]",
      "text/plain": [
       "<Figure size 640x480 with 1 Axes>"
      ]
     },
     "metadata": {},
     "output_type": "display_data"
    }
   ],
   "source": [
    "sns.boxplot(data=data, x='fuel', y='price').set(title='Effects of Fuel Type on Used Car Price')"
   ]
  },
  {
   "cell_type": "markdown",
   "metadata": {},
   "source": [
    "Majority of the vehicles have fuel type as 'gas' but the median prices of electric vehicles or vehicles with fuel type as diesel or other are higher."
   ]
  },
  {
   "cell_type": "code",
   "execution_count": 13,
   "metadata": {},
   "outputs": [
    {
     "data": {
      "text/plain": [
       "[Text(0.5, 1.0, 'Effects of Type of Transmission on Used Car Price')]"
      ]
     },
     "execution_count": 13,
     "metadata": {},
     "output_type": "execute_result"
    },
    {
     "data": {
      "image/png": "[encoded data removed]",
      "text/plain": [
       "<Figure size 640x480 with 1 Axes>"
      ]
     },
     "metadata": {},
     "output_type": "display_data"
    }
   ],
   "source": [
    "sns.boxplot(data=data, x='transmission', y='price').set(title='Effects of Type of Transmission on Used Car Price')"
   ]
  },
  {
   "cell_type": "markdown",
   "metadata": {},
   "source": [
    "Transmission types also affect car prices: median prices of vehicles with auto transmission are higher than those with manual. Interestingly, median price is highest for vehicles where tranmission type is described as 'other'"
   ]
  },
  {
   "cell_type": "code",
   "execution_count": 14,
   "metadata": {},
   "outputs": [
    {
     "data": {
      "text/plain": [
       "[Text(0.5, 1.0, 'Effects of Title Status on Used Car Price')]"
      ]
     },
     "execution_count": 14,
     "metadata": {},
     "output_type": "execute_result"
    },
    {
     "data": {
      "image/png": "[encoded data removed]",
      "text/plain": [
       "<Figure size 640x480 with 1 Axes>"
      ]
     },
     "metadata": {},
     "output_type": "display_data"
    }
   ],
   "source": [
    "sns.boxplot(data=data, x='title_status', y='price').set(title='Effects of Title Status on Used Car Price')"
   ]
  },
  {
   "cell_type": "markdown",
   "metadata": {},
   "source": [
    "Title status plays a role with clean or lien titles fetching more price than salvage, missing or parts only"
   ]
  },
  {
   "cell_type": "code",
   "execution_count": 15,
   "metadata": {},
   "outputs": [
    {
     "data": {
      "text/plain": [
       "[Text(0.5, 1.0, 'Condition vs Price')]"
      ]
     },
     "execution_count": 15,
     "metadata": {},
     "output_type": "execute_result"
    },
    {
     "data": {
      "image/png": "[encoded data removed]",
      "text/plain": [
       "<Figure size 640x480 with 1 Axes>"
      ]
     },
     "metadata": {},
     "output_type": "display_data"
    }
   ],
   "source": [
    "sns.boxplot(data=data, x='condition', y='price').set(title='Condition vs Price')"
   ]
  },
  {
   "cell_type": "markdown",
   "metadata": {},
   "source": [
    "Condition is a subjective description and it is not strictly ordinal in nature from the perspective of pricing : for example cars in good condition fetch higher prices on an average than those in excellent condition and are similarly priced as 'new' or 'like new'. Cars with condition as 'fair' or 'salvage' are priced lower as would have been expected."
   ]
  },
  {
   "cell_type": "code",
   "execution_count": 16,
   "metadata": {},
   "outputs": [
    {
     "data": {
      "text/plain": [
       "[Text(0.5, 1.0, 'Condition vs Odometer')]"
      ]
     },
     "execution_count": 16,
     "metadata": {},
     "output_type": "execute_result"
    },
    {
     "data": {
      "image/png": "[encoded data removed]",
      "text/plain": [
       "<Figure size 640x480 with 1 Axes>"
      ]
     },
     "metadata": {},
     "output_type": "display_data"
    }
   ],
   "source": [
    "sns.boxplot(data=data, x='condition', y='odometer').set(title='Condition vs Odometer')"
   ]
  },
  {
   "cell_type": "markdown",
   "metadata": {},
   "source": [
    "Earlier we saw that cars with condition described as 'fair' or 'salvage' are in general priced lower. From the above graph, we see that cars in good, excellent, like new and new conditions have a lower odometer reading on average than cars whose conditions are described as 'fair' or 'salvage'. This is important as condition is missing on a lot more entries than odometer, so the model will most likely not lose valuable information if condition is not incorporated in the model (due to the amount of data missing on condition) but odometer is included."
   ]
  },
  {
   "cell_type": "markdown",
   "metadata": {},
   "source": [
    "Earlier we saw that prices vary based on different manufacturers. Here we want to get a sense of how price varies as a function of  odometer readings and year.  For ease of visualization of these relationships, we perform these analyses for a particular manufacturer, say Honda"
   ]
  },
  {
   "cell_type": "code",
   "execution_count": 44,
   "metadata": {},
   "outputs": [
    {
     "data": {
      "text/html": [
       "<div>\n",
       "<style scoped>\n",
       "    .dataframe tbody tr th:only-of-type {\n",
       "        vertical-align: middle;\n",
       "    }\n",
       "\n",
       "    .dataframe tbody tr th {\n",
       "        vertical-align: top;\n",
       "    }\n",
       "\n",
       "    .dataframe thead th {\n",
       "        text-align: right;\n",
       "    }\n",
       "</style>\n",
       "<table border=\"1\" class=\"dataframe\">\n",
       "  <thead>\n",
       "    <tr style=\"text-align: right;\">\n",
       "      <th></th>\n",
       "      <th>id</th>\n",
       "      <th>region</th>\n",
       "      <th>price</th>\n",
       "      <th>year</th>\n",
       "      <th>manufacturer</th>\n",
       "      <th>model</th>\n",
       "      <th>condition</th>\n",
       "      <th>cylinders</th>\n",
       "      <th>fuel</th>\n",
       "      <th>odometer</th>\n",
       "      <th>title_status</th>\n",
       "      <th>transmission</th>\n",
       "      <th>VIN</th>\n",
       "      <th>drive</th>\n",
       "      <th>size</th>\n",
       "      <th>type</th>\n",
       "      <th>paint_color</th>\n",
       "      <th>state</th>\n",
       "    </tr>\n",
       "  </thead>\n",
       "  <tbody>\n",
       "    <tr>\n",
       "      <th>59</th>\n",
       "      <td>7313406529</td>\n",
       "      <td>auburn</td>\n",
       "      <td>14000</td>\n",
       "      <td>2012.0</td>\n",
       "      <td>honda</td>\n",
       "      <td>odyssey</td>\n",
       "      <td>excellent</td>\n",
       "      <td>6 cylinders</td>\n",
       "      <td>gas</td>\n",
       "      <td>95000.0</td>\n",
       "      <td>clean</td>\n",
       "      <td>automatic</td>\n",
       "      <td>NaN</td>\n",
       "      <td>fwd</td>\n",
       "      <td>full-size</td>\n",
       "      <td>mini-van</td>\n",
       "      <td>silver</td>\n",
       "      <td>al</td>\n",
       "    </tr>\n",
       "    <tr>\n",
       "      <th>74</th>\n",
       "      <td>7311960895</td>\n",
       "      <td>auburn</td>\n",
       "      <td>26590</td>\n",
       "      <td>2020.0</td>\n",
       "      <td>honda</td>\n",
       "      <td>civic si coupe 2d</td>\n",
       "      <td>good</td>\n",
       "      <td>NaN</td>\n",
       "      <td>gas</td>\n",
       "      <td>9954.0</td>\n",
       "      <td>clean</td>\n",
       "      <td>other</td>\n",
       "      <td>2HGFC3A51LH751302</td>\n",
       "      <td>fwd</td>\n",
       "      <td>NaN</td>\n",
       "      <td>coupe</td>\n",
       "      <td>silver</td>\n",
       "      <td>al</td>\n",
       "    </tr>\n",
       "    <tr>\n",
       "      <th>75</th>\n",
       "      <td>7311818339</td>\n",
       "      <td>auburn</td>\n",
       "      <td>18590</td>\n",
       "      <td>2018.0</td>\n",
       "      <td>honda</td>\n",
       "      <td>civic lx sedan 4d</td>\n",
       "      <td>good</td>\n",
       "      <td>NaN</td>\n",
       "      <td>gas</td>\n",
       "      <td>28942.0</td>\n",
       "      <td>clean</td>\n",
       "      <td>other</td>\n",
       "      <td>19XFC2F59JE206832</td>\n",
       "      <td>fwd</td>\n",
       "      <td>NaN</td>\n",
       "      <td>sedan</td>\n",
       "      <td>white</td>\n",
       "      <td>al</td>\n",
       "    </tr>\n",
       "    <tr>\n",
       "      <th>77</th>\n",
       "      <td>7311818157</td>\n",
       "      <td>auburn</td>\n",
       "      <td>21590</td>\n",
       "      <td>2018.0</td>\n",
       "      <td>honda</td>\n",
       "      <td>civic ex sedan 4d</td>\n",
       "      <td>good</td>\n",
       "      <td>NaN</td>\n",
       "      <td>gas</td>\n",
       "      <td>7885.0</td>\n",
       "      <td>clean</td>\n",
       "      <td>other</td>\n",
       "      <td>2HGFC2F74JH589649</td>\n",
       "      <td>fwd</td>\n",
       "      <td>NaN</td>\n",
       "      <td>sedan</td>\n",
       "      <td>NaN</td>\n",
       "      <td>al</td>\n",
       "    </tr>\n",
       "    <tr>\n",
       "      <th>178</th>\n",
       "      <td>7316869910</td>\n",
       "      <td>birmingham</td>\n",
       "      <td>12950</td>\n",
       "      <td>2011.0</td>\n",
       "      <td>honda</td>\n",
       "      <td>crv ex</td>\n",
       "      <td>excellent</td>\n",
       "      <td>4 cylinders</td>\n",
       "      <td>gas</td>\n",
       "      <td>87994.0</td>\n",
       "      <td>clean</td>\n",
       "      <td>automatic</td>\n",
       "      <td>NaN</td>\n",
       "      <td>fwd</td>\n",
       "      <td>NaN</td>\n",
       "      <td>SUV</td>\n",
       "      <td>silver</td>\n",
       "      <td>al</td>\n",
       "    </tr>\n",
       "  </tbody>\n",
       "</table>\n",
       "</div>"
      ],
      "text/plain": [
       "             id      region  price    year manufacturer              model  \\\n",
       "59   7313406529      auburn  14000  2012.0        honda            odyssey   \n",
       "74   7311960895      auburn  26590  2020.0        honda  civic si coupe 2d   \n",
       "75   7311818339      auburn  18590  2018.0        honda  civic lx sedan 4d   \n",
       "77   7311818157      auburn  21590  2018.0        honda  civic ex sedan 4d   \n",
       "178  7316869910  birmingham  12950  2011.0        honda             crv ex   \n",
       "\n",
       "     condition    cylinders fuel  odometer title_status transmission  \\\n",
       "59   excellent  6 cylinders  gas   95000.0        clean    automatic   \n",
       "74        good          NaN  gas    9954.0        clean        other   \n",
       "75        good          NaN  gas   28942.0        clean        other   \n",
       "77        good          NaN  gas    7885.0        clean        other   \n",
       "178  excellent  4 cylinders  gas   87994.0        clean    automatic   \n",
       "\n",
       "                   VIN drive       size      type paint_color state  \n",
       "59                 NaN   fwd  full-size  mini-van      silver    al  \n",
       "74   2HGFC3A51LH751302   fwd        NaN     coupe      silver    al  \n",
       "75   19XFC2F59JE206832   fwd        NaN     sedan       white    al  \n",
       "77   2HGFC2F74JH589649   fwd        NaN     sedan         NaN    al  \n",
       "178                NaN   fwd        NaN       SUV      silver    al  "
      ]
     },
     "execution_count": 44,
     "metadata": {},
     "output_type": "execute_result"
    }
   ],
   "source": [
    "data_Honda=data.loc[data['manufacturer'] == 'honda']\n",
    "data_Honda.head()"
   ]
  },
  {
   "cell_type": "code",
   "execution_count": 18,
   "metadata": {},
   "outputs": [
    {
     "data": {
      "text/plain": [
       "[Text(0.5, 1.0, 'Year vs Price for Cars Manufactured by Honda')]"
      ]
     },
     "execution_count": 18,
     "metadata": {},
     "output_type": "execute_result"
    },
    {
     "data": {
      "image/png": "[encoded data removed]",
      "text/plain": [
       "<Figure size 640x480 with 1 Axes>"
      ]
     },
     "metadata": {},
     "output_type": "display_data"
    }
   ],
   "source": [
    "sns.lineplot(data=data_Honda, x='year', y='price').set(title = 'Year vs Price for Cars Manufactured by Honda')"
   ]
  },
  {
   "cell_type": "markdown",
   "metadata": {},
   "source": [
    "It's easy to see from the above plot that more recent the year, higher the price in general. It's also interesting that the relationship is not linear but seems like parabolic, hinting at the possiblity of modeling using higher order polynomial regression."
   ]
  },
  {
   "cell_type": "code",
   "execution_count": 25,
   "metadata": {},
   "outputs": [
    {
     "data": {
      "text/plain": [
       "[Text(0.5, 1.0, 'Odometer vs Price for Cars Manufactured by Honda')]"
      ]
     },
     "execution_count": 25,
     "metadata": {},
     "output_type": "execute_result"
    },
    {
     "data": {
      "image/png": "[encoded data removed]",
      "text/plain": [
       "<Figure size 640x480 with 1 Axes>"
      ]
     },
     "metadata": {},
     "output_type": "display_data"
    }
   ],
   "source": [
    "sns.lineplot(data=data_Honda, x='odometer', y='price').set(title = 'Odometer vs Price for Cars Manufactured by Honda')"
   ]
  },
  {
   "cell_type": "markdown",
   "metadata": {},
   "source": [
    "This data seems more noisy but it is apparent with with higher odometer, the price in general goes down suggesting a negative association between odometer and price"
   ]
  },
  {
   "cell_type": "markdown",
   "metadata": {},
   "source": [
    "###### Based on the above analysis and availability of data, we choose the following features for our model: price, year, manufacturer, model, fuel, odometer, title_status, transmission, state"
   ]
  },
  {
   "cell_type": "code",
   "execution_count": 45,
   "metadata": {},
   "outputs": [
    {
     "data": {
      "text/plain": [
       "(338533, 9)"
      ]
     },
     "execution_count": 45,
     "metadata": {},
     "output_type": "execute_result"
    }
   ],
   "source": [
    "#Extracting features that will be used for model development into a separate dataframe df\n",
    "df = data[['price', 'year', 'manufacturer', 'model', 'fuel', 'odometer', 'title_status', 'transmission', 'state']]\n",
    "\n",
    "#dropping NaN values from the dataframe df\n",
    "df=df.dropna()\n",
    "df.shape"
   ]
  },
  {
   "cell_type": "code",
   "execution_count": 46,
   "metadata": {},
   "outputs": [
    {
     "data": {
      "text/html": [
       "<div>\n",
       "<style scoped>\n",
       "    .dataframe tbody tr th:only-of-type {\n",
       "        vertical-align: middle;\n",
       "    }\n",
       "\n",
       "    .dataframe tbody tr th {\n",
       "        vertical-align: top;\n",
       "    }\n",
       "\n",
       "    .dataframe thead th {\n",
       "        text-align: right;\n",
       "    }\n",
       "</style>\n",
       "<table border=\"1\" class=\"dataframe\">\n",
       "  <thead>\n",
       "    <tr style=\"text-align: right;\">\n",
       "      <th></th>\n",
       "      <th>price</th>\n",
       "      <th>year</th>\n",
       "      <th>odometer</th>\n",
       "    </tr>\n",
       "  </thead>\n",
       "  <tbody>\n",
       "    <tr>\n",
       "      <th>count</th>\n",
       "      <td>338533.000000</td>\n",
       "      <td>338533.000000</td>\n",
       "      <td>338533.000000</td>\n",
       "    </tr>\n",
       "    <tr>\n",
       "      <th>mean</th>\n",
       "      <td>18397.821551</td>\n",
       "      <td>2011.440244</td>\n",
       "      <td>93832.627883</td>\n",
       "    </tr>\n",
       "    <tr>\n",
       "      <th>std</th>\n",
       "      <td>12509.209397</td>\n",
       "      <td>8.375689</td>\n",
       "      <td>60304.866812</td>\n",
       "    </tr>\n",
       "    <tr>\n",
       "      <th>min</th>\n",
       "      <td>501.000000</td>\n",
       "      <td>1900.000000</td>\n",
       "      <td>501.000000</td>\n",
       "    </tr>\n",
       "    <tr>\n",
       "      <th>25%</th>\n",
       "      <td>7900.000000</td>\n",
       "      <td>2008.000000</td>\n",
       "      <td>41000.000000</td>\n",
       "    </tr>\n",
       "    <tr>\n",
       "      <th>50%</th>\n",
       "      <td>15900.000000</td>\n",
       "      <td>2013.000000</td>\n",
       "      <td>90000.000000</td>\n",
       "    </tr>\n",
       "    <tr>\n",
       "      <th>75%</th>\n",
       "      <td>26999.000000</td>\n",
       "      <td>2017.000000</td>\n",
       "      <td>136376.000000</td>\n",
       "    </tr>\n",
       "    <tr>\n",
       "      <th>max</th>\n",
       "      <td>57341.000000</td>\n",
       "      <td>2022.000000</td>\n",
       "      <td>283231.000000</td>\n",
       "    </tr>\n",
       "  </tbody>\n",
       "</table>\n",
       "</div>"
      ],
      "text/plain": [
       "               price           year       odometer\n",
       "count  338533.000000  338533.000000  338533.000000\n",
       "mean    18397.821551    2011.440244   93832.627883\n",
       "std     12509.209397       8.375689   60304.866812\n",
       "min       501.000000    1900.000000     501.000000\n",
       "25%      7900.000000    2008.000000   41000.000000\n",
       "50%     15900.000000    2013.000000   90000.000000\n",
       "75%     26999.000000    2017.000000  136376.000000\n",
       "max     57341.000000    2022.000000  283231.000000"
      ]
     },
     "execution_count": 46,
     "metadata": {},
     "output_type": "execute_result"
    }
   ],
   "source": [
    "df.describe()"
   ]
  },
  {
   "cell_type": "markdown",
   "metadata": {},
   "source": [
    "The ranges of numeric data appear reasonable even though there's still a difference in scales especially when comparing amongst the different features. For example, year is in the scale of thousands, price can be of the order of tens of thousands while odometer can go up to the order of hundreds of thousands. It is clear that ***scaling*** will be important when we develop models and we plan to incorporate the StandardScaler in our pipeline for the different models to take care of differences in scales."
   ]
  },
  {
   "cell_type": "markdown",
   "metadata": {},
   "source": [
    "There are several categorical variables like manufacturer and model which are believed to have major impact on price. These are not ordinal.  Due to the high cardinality of these categorical features, one-hot encoding is not used. Instead, leave one out encoding is used which will avoid introducing additional columns/features for each of these categorical variables while at the same time minimizing the likelihood of overfitting. Leave one out encoding is just target encoding where the average or expected value is calculated ignoring the value in the current row. It is believed to have lesser issues with bias and overfitting than traditional target encoding, hence it is deemed to be a good choice for this particular problem. Category encoders is installed so that LeaveOneOutEncoder can be used."
   ]
  },
  {
   "cell_type": "code",
   "execution_count": 12,
   "metadata": {},
   "outputs": [
    {
     "name": "stdout",
     "output_type": "stream",
     "text": [
      "Requirement already satisfied: category_encoders in c:\\users\\subha\\anaconda3\\lib\\site-packages (2.6.0)\n",
      "Requirement already satisfied: pandas>=1.0.5 in c:\\users\\subha\\anaconda3\\lib\\site-packages (from category_encoders) (1.4.4)\n",
      "Requirement already satisfied: numpy>=1.14.0 in c:\\users\\subha\\anaconda3\\lib\\site-packages (from category_encoders) (1.21.5)\n",
      "Requirement already satisfied: patsy>=0.5.1 in c:\\users\\subha\\anaconda3\\lib\\site-packages (from category_encoders) (0.5.2)\n",
      "Requirement already satisfied: scikit-learn>=0.20.0 in c:\\users\\subha\\anaconda3\\lib\\site-packages (from category_encoders) (1.0.2)\n",
      "Requirement already satisfied: statsmodels>=0.9.0 in c:\\users\\subha\\anaconda3\\lib\\site-packages (from category_encoders) (0.13.2)\n",
      "Requirement already satisfied: scipy>=1.0.0 in c:\\users\\subha\\anaconda3\\lib\\site-packages (from category_encoders) (1.9.1)\n",
      "Requirement already satisfied: pytz>=2020.1 in c:\\users\\subha\\anaconda3\\lib\\site-packages (from pandas>=1.0.5->category_encoders) (2022.1)\n",
      "Requirement already satisfied: python-dateutil>=2.8.1 in c:\\users\\subha\\anaconda3\\lib\\site-packages (from pandas>=1.0.5->category_encoders) (2.8.2)\n",
      "Requirement already satisfied: six in c:\\users\\subha\\anaconda3\\lib\\site-packages (from patsy>=0.5.1->category_encoders) (1.16.0)\n",
      "Requirement already satisfied: joblib>=0.11 in c:\\users\\subha\\anaconda3\\lib\\site-packages (from scikit-learn>=0.20.0->category_encoders) (1.1.0)\n",
      "Requirement already satisfied: threadpoolctl>=2.0.0 in c:\\users\\subha\\anaconda3\\lib\\site-packages (from scikit-learn>=0.20.0->category_encoders) (2.2.0)\n",
      "Requirement already satisfied: packaging>=21.3 in c:\\users\\subha\\anaconda3\\lib\\site-packages (from statsmodels>=0.9.0->category_encoders) (21.3)\n",
      "Requirement already satisfied: pyparsing!=3.0.5,>=2.0.2 in c:\\users\\subha\\anaconda3\\lib\\site-packages (from packaging>=21.3->statsmodels>=0.9.0->category_encoders) (3.0.9)\n",
      "Note: you may need to restart the kernel to use updated packages.\n"
     ]
    }
   ],
   "source": [
    "pip install category_encoders\n"
   ]
  },
  {
   "cell_type": "code",
   "execution_count": 47,
   "metadata": {},
   "outputs": [],
   "source": [
    "import category_encoders as ce"
   ]
  },
  {
   "cell_type": "markdown",
   "metadata": {},
   "source": [
    "Next step is dividing data into train test splits for ***hold out cross-validaton*** using the default test size of 0.25 and setting the random_state to a fixed integer so that the same train/test sets are used for multiple calls comparing across different models. After train test split, the categorical variables are encoded by leave one out encoding. The approach to leave one encoding is different for the test set compared to the train set. Since leave one out encoding utilizes the value of the target variable ('price' in this case), the encoding for the train set is done first and then the test set is encoded without utilizing the test values of the target variable. **This is important so as not to overfit and/or bias the results (due to'data leakage') of the model on the test dataset.** "
   ]
  },
  {
   "cell_type": "code",
   "execution_count": 48,
   "metadata": {},
   "outputs": [],
   "source": [
    "y = df['price']  #target variable\n",
    "X = df.drop(columns=['price']) #input features excluding target variable\n",
    "\n",
    "# split into train/test data: X_tr is the input training set without encoding, X_te is the test set without encoding\n",
    "X_tr, X_te, y_train, y_test = train_test_split(X, y, random_state = 42)\n",
    "\n",
    "\n",
    "#Encode categorical features using Leave One out Encoding: The Encoding for test data is done without using test values of target variable\n",
    "encoder = ce.LeaveOneOutEncoder(return_df=True)\n",
    "\n",
    "#X_train is the training dataset after leave one out encoder has been applied to categorical features\n",
    "X_train = encoder.fit_transform(X_tr, y_train)\n",
    "\n",
    "# the test set is encoded without utilizing values of y_test\n",
    "X_test = encoder.transform(X_te)\n",
    "\n",
    "\n",
    "\n",
    "\n",
    "\n",
    "\n"
   ]
  },
  {
   "cell_type": "code",
   "execution_count": 49,
   "metadata": {},
   "outputs": [
    {
     "data": {
      "text/html": [
       "<div>\n",
       "<style scoped>\n",
       "    .dataframe tbody tr th:only-of-type {\n",
       "        vertical-align: middle;\n",
       "    }\n",
       "\n",
       "    .dataframe tbody tr th {\n",
       "        vertical-align: top;\n",
       "    }\n",
       "\n",
       "    .dataframe thead th {\n",
       "        text-align: right;\n",
       "    }\n",
       "</style>\n",
       "<table border=\"1\" class=\"dataframe\">\n",
       "  <thead>\n",
       "    <tr style=\"text-align: right;\">\n",
       "      <th></th>\n",
       "      <th>year</th>\n",
       "      <th>manufacturer</th>\n",
       "      <th>model</th>\n",
       "      <th>fuel</th>\n",
       "      <th>odometer</th>\n",
       "      <th>title_status</th>\n",
       "      <th>transmission</th>\n",
       "      <th>state</th>\n",
       "    </tr>\n",
       "  </thead>\n",
       "  <tbody>\n",
       "    <tr>\n",
       "      <th>year</th>\n",
       "      <td>1.000000</td>\n",
       "      <td>0.056327</td>\n",
       "      <td>0.288338</td>\n",
       "      <td>0.082843</td>\n",
       "      <td>-0.394857</td>\n",
       "      <td>0.046416</td>\n",
       "      <td>0.309147</td>\n",
       "      <td>0.058046</td>\n",
       "    </tr>\n",
       "    <tr>\n",
       "      <th>manufacturer</th>\n",
       "      <td>0.056327</td>\n",
       "      <td>1.000000</td>\n",
       "      <td>0.433893</td>\n",
       "      <td>0.197081</td>\n",
       "      <td>-0.061796</td>\n",
       "      <td>0.043781</td>\n",
       "      <td>0.079460</td>\n",
       "      <td>0.055237</td>\n",
       "    </tr>\n",
       "    <tr>\n",
       "      <th>model</th>\n",
       "      <td>0.288338</td>\n",
       "      <td>0.433893</td>\n",
       "      <td>1.000000</td>\n",
       "      <td>0.332379</td>\n",
       "      <td>-0.370573</td>\n",
       "      <td>0.076722</td>\n",
       "      <td>0.443511</td>\n",
       "      <td>0.097809</td>\n",
       "    </tr>\n",
       "    <tr>\n",
       "      <th>fuel</th>\n",
       "      <td>0.082843</td>\n",
       "      <td>0.197081</td>\n",
       "      <td>0.332379</td>\n",
       "      <td>1.000000</td>\n",
       "      <td>-0.039621</td>\n",
       "      <td>0.034089</td>\n",
       "      <td>0.202102</td>\n",
       "      <td>0.032495</td>\n",
       "    </tr>\n",
       "    <tr>\n",
       "      <th>odometer</th>\n",
       "      <td>-0.394857</td>\n",
       "      <td>-0.061796</td>\n",
       "      <td>-0.370573</td>\n",
       "      <td>-0.039621</td>\n",
       "      <td>1.000000</td>\n",
       "      <td>-0.003390</td>\n",
       "      <td>-0.447104</td>\n",
       "      <td>-0.070538</td>\n",
       "    </tr>\n",
       "    <tr>\n",
       "      <th>title_status</th>\n",
       "      <td>0.046416</td>\n",
       "      <td>0.043781</td>\n",
       "      <td>0.076722</td>\n",
       "      <td>0.034089</td>\n",
       "      <td>-0.003390</td>\n",
       "      <td>1.000000</td>\n",
       "      <td>0.068520</td>\n",
       "      <td>-0.003664</td>\n",
       "    </tr>\n",
       "    <tr>\n",
       "      <th>transmission</th>\n",
       "      <td>0.309147</td>\n",
       "      <td>0.079460</td>\n",
       "      <td>0.443511</td>\n",
       "      <td>0.202102</td>\n",
       "      <td>-0.447104</td>\n",
       "      <td>0.068520</td>\n",
       "      <td>1.000000</td>\n",
       "      <td>-0.005253</td>\n",
       "    </tr>\n",
       "    <tr>\n",
       "      <th>state</th>\n",
       "      <td>0.058046</td>\n",
       "      <td>0.055237</td>\n",
       "      <td>0.097809</td>\n",
       "      <td>0.032495</td>\n",
       "      <td>-0.070538</td>\n",
       "      <td>-0.003664</td>\n",
       "      <td>-0.005253</td>\n",
       "      <td>1.000000</td>\n",
       "    </tr>\n",
       "  </tbody>\n",
       "</table>\n",
       "</div>"
      ],
      "text/plain": [
       "                  year  manufacturer     model      fuel  odometer  \\\n",
       "year          1.000000      0.056327  0.288338  0.082843 -0.394857   \n",
       "manufacturer  0.056327      1.000000  0.433893  0.197081 -0.061796   \n",
       "model         0.288338      0.433893  1.000000  0.332379 -0.370573   \n",
       "fuel          0.082843      0.197081  0.332379  1.000000 -0.039621   \n",
       "odometer     -0.394857     -0.061796 -0.370573 -0.039621  1.000000   \n",
       "title_status  0.046416      0.043781  0.076722  0.034089 -0.003390   \n",
       "transmission  0.309147      0.079460  0.443511  0.202102 -0.447104   \n",
       "state         0.058046      0.055237  0.097809  0.032495 -0.070538   \n",
       "\n",
       "              title_status  transmission     state  \n",
       "year              0.046416      0.309147  0.058046  \n",
       "manufacturer      0.043781      0.079460  0.055237  \n",
       "model             0.076722      0.443511  0.097809  \n",
       "fuel              0.034089      0.202102  0.032495  \n",
       "odometer         -0.003390     -0.447104 -0.070538  \n",
       "title_status      1.000000      0.068520 -0.003664  \n",
       "transmission      0.068520      1.000000 -0.005253  \n",
       "state            -0.003664     -0.005253  1.000000  "
      ]
     },
     "execution_count": 49,
     "metadata": {},
     "output_type": "execute_result"
    }
   ],
   "source": [
    "X_train.corr()"
   ]
  },
  {
   "cell_type": "markdown",
   "metadata": {},
   "source": [
    "A quick check of the correlation among the different features does not reveal any instances of variables with strong mutual correlation- this is important for making sure we don't have a model with high level of multi-collinearity. This ends the data preparation step and we are ready for the next step of modeling"
   ]
  },
  {
   "cell_type": "markdown",
   "metadata": {},
   "source": [
    "### Modeling\n",
    "\n",
    "With your (almost?) final dataset in hand, it is now time to build some models.  Here, you should build a number of different regression models with the price as the target.  In building your models, you should explore different parameters and be sure to cross-validate your findings."
   ]
  },
  {
   "cell_type": "code",
   "execution_count": null,
   "metadata": {},
   "outputs": [],
   "source": []
  },
  {
   "cell_type": "markdown",
   "metadata": {},
   "source": [
    "The modeling stage involves building a variety of models starting with linear regression  and then going to the ridge and lasso models. Hold-out cross validation is performed to assess the performance of each model on the test data. The target variable is price and input features are year, manufacturer, model, fuel, odometer, title_status, transmission and state."
   ]
  },
  {
   "cell_type": "markdown",
   "metadata": {},
   "source": [
    "We start building simple models first without introducing polynomial complexity. Though simpler models may be less accurate \n",
    "they are easier to interpret in terms of the regression coefficients and the relative impact of different features on target variable"
   ]
  },
  {
   "cell_type": "markdown",
   "metadata": {},
   "source": [
    "#### Linear Regression Model"
   ]
  },
  {
   "cell_type": "code",
   "execution_count": 50,
   "metadata": {},
   "outputs": [
    {
     "name": "stdout",
     "output_type": "stream",
     "text": [
      "\n",
      "Linear Regression Model: Model Scores and Coefficients\n",
      "\n",
      "\n",
      "Train MSE: 41136000.72\n",
      "Train r2 score: 0.74\n",
      "Test MSE: 41987760.46\n",
      "Test RMSE: 6479.8\n",
      "Test r2 score: 0.73\n"
     ]
    },
    {
     "data": {
      "text/html": [
       "<div>\n",
       "<style scoped>\n",
       "    .dataframe tbody tr th:only-of-type {\n",
       "        vertical-align: middle;\n",
       "    }\n",
       "\n",
       "    .dataframe tbody tr th {\n",
       "        vertical-align: top;\n",
       "    }\n",
       "\n",
       "    .dataframe thead th {\n",
       "        text-align: right;\n",
       "    }\n",
       "</style>\n",
       "<table border=\"1\" class=\"dataframe\">\n",
       "  <thead>\n",
       "    <tr style=\"text-align: right;\">\n",
       "      <th></th>\n",
       "      <th>Features</th>\n",
       "      <th>LR Coefficients</th>\n",
       "    </tr>\n",
       "  </thead>\n",
       "  <tbody>\n",
       "    <tr>\n",
       "      <th>2</th>\n",
       "      <td>model</td>\n",
       "      <td>7286.036170</td>\n",
       "    </tr>\n",
       "    <tr>\n",
       "      <th>4</th>\n",
       "      <td>odometer</td>\n",
       "      <td>-4412.660174</td>\n",
       "    </tr>\n",
       "    <tr>\n",
       "      <th>0</th>\n",
       "      <td>year</td>\n",
       "      <td>1893.485230</td>\n",
       "    </tr>\n",
       "    <tr>\n",
       "      <th>6</th>\n",
       "      <td>transmission</td>\n",
       "      <td>-1502.825448</td>\n",
       "    </tr>\n",
       "    <tr>\n",
       "      <th>3</th>\n",
       "      <td>fuel</td>\n",
       "      <td>1130.092094</td>\n",
       "    </tr>\n",
       "    <tr>\n",
       "      <th>7</th>\n",
       "      <td>state</td>\n",
       "      <td>761.547553</td>\n",
       "    </tr>\n",
       "    <tr>\n",
       "      <th>5</th>\n",
       "      <td>title_status</td>\n",
       "      <td>692.929776</td>\n",
       "    </tr>\n",
       "    <tr>\n",
       "      <th>1</th>\n",
       "      <td>manufacturer</td>\n",
       "      <td>651.132298</td>\n",
       "    </tr>\n",
       "  </tbody>\n",
       "</table>\n",
       "</div>"
      ],
      "text/plain": [
       "       Features  LR Coefficients\n",
       "2         model      7286.036170\n",
       "4      odometer     -4412.660174\n",
       "0          year      1893.485230\n",
       "6  transmission     -1502.825448\n",
       "3          fuel      1130.092094\n",
       "7         state       761.547553\n",
       "5  title_status       692.929776\n",
       "1  manufacturer       651.132298"
      ]
     },
     "execution_count": 50,
     "metadata": {},
     "output_type": "execute_result"
    }
   ],
   "source": [
    "# building a simple linear regression model\n",
    "\n",
    "pipeLR = Pipeline([('scale', StandardScaler()),\n",
    "                     ('linreg', LinearRegression())])\n",
    "    \n",
    "pipeLR.fit(X_train, y_train)\n",
    "train_preds_LR = pipeLR.predict(X_train)\n",
    "y_preds_LR = pipeLR.predict(X_test)\n",
    "train_mses_LR = mean_squared_error(y_train, train_preds_LR)\n",
    "test_mses_LR = mean_squared_error(y_test, y_preds_LR)\n",
    "train_r2score_LR = r2_score(y_train, train_preds_LR)\n",
    "test_r2score_LR = r2_score(y_test, y_preds_LR)\n",
    "\n",
    "#print train and test scores for the model \n",
    "print ('\\nLinear Regression Model: Model Scores and Coefficients\\n\\n')\n",
    "print('Train MSE:',np.around(train_mses_LR,2))\n",
    "print('Train r2 score:', np.around(train_r2score_LR,2))\n",
    "print('Test MSE:',np.around(test_mses_LR,2))\n",
    "print('Test RMSE:', np.around(np.sqrt(test_mses_LR),2))\n",
    "print('Test r2 score:', np.around(test_r2score_LR,2))\n",
    "\n",
    "#Inspecting coefficients of the model\n",
    "LR_coefs = pipeLR.named_steps['linreg'].coef_\n",
    "\n",
    "list_LR_coeff = list((zip(pipeLR.named_steps['scale'].get_feature_names_out(), pipeLR.named_steps['linreg'].coef_)))\n",
    "\n",
    "df_LR_coeff = pd.DataFrame(list_LR_coeff, columns = [' Features', 'LR Coefficients'])\n",
    "\n",
    "#sort features by magnitude of linear regression coefficents\n",
    "df_LR_coeff.sort_values(by='LR Coefficients', ascending=False, key=abs)"
   ]
  },
  {
   "cell_type": "markdown",
   "metadata": {},
   "source": [
    "#### Ridge Regression with GridSearchCV for the 'best' alpha"
   ]
  },
  {
   "cell_type": "code",
   "execution_count": 51,
   "metadata": {},
   "outputs": [
    {
     "name": "stdout",
     "output_type": "stream",
     "text": [
      "\n",
      "Ridge Regression Model: Best Alpha and Model Scores\n",
      "\n",
      "\n",
      "Best Alpha: 10.0\n",
      "Train MSE: 41136000.89\n",
      "Train r2 score: 0.74\n",
      "Test MSE: 41987805.35\n",
      "Test RMSE: 6479.8\n",
      "Test r2 score: 0.73\n"
     ]
    }
   ],
   "source": [
    "# building a Ridge Regression model using GridSearchCV for tuning hyperparameter 'alpha'\n",
    "\n",
    "pipeRidge = Pipeline( [('scale', StandardScaler()),('ridge', Ridge())])\n",
    "param_dict = {'ridge__alpha': [0.001, 0.1, 1.0, 10.0, 100.0, 500.0, 1000.0]}\n",
    "gridRidge = GridSearchCV(pipeRidge, param_grid=param_dict)\n",
    "gridRidge.fit(X_train, y_train)\n",
    "train_predsRidge = gridRidge.predict(X_train)\n",
    "test_predsRidge = gridRidge.predict(X_test)\n",
    "train_mseRidge = mean_squared_error(y_train, train_predsRidge)\n",
    "train_r2scoreRidge = r2_score(y_train, train_predsRidge)\n",
    "test_mseRidge = mean_squared_error(y_test, test_predsRidge)\n",
    "test_r2scoreRidge = r2_score(y_test, test_predsRidge)\n",
    "best_alphaRidge = gridRidge.best_params_\n",
    "\n",
    "# print best alpha and model train and test scores\n",
    "print ('\\nRidge Regression Model: Best Alpha and Model Scores\\n\\n')\n",
    "print(f'Best Alpha: {list(best_alphaRidge.values())[0]}')\n",
    "print('Train MSE:',np.around(train_mseRidge,2))\n",
    "print('Train r2 score:', np.around(train_r2scoreRidge,2))\n",
    "print('Test MSE:',np.around(test_mseRidge,2))\n",
    "print('Test RMSE:', np.around(np.sqrt(test_mseRidge),2))\n",
    "print('Test r2 score:', np.around(test_r2scoreRidge,2))\n"
   ]
  },
  {
   "cell_type": "markdown",
   "metadata": {},
   "source": [
    "Regularization does not help improve performance of the model: the best alpha is 10.0 and the performance of the Ridge model is no better than simple Linear Regression. Let's inspect the ridge coefficients next for the ridge model with best alpha"
   ]
  },
  {
   "cell_type": "code",
   "execution_count": 53,
   "metadata": {},
   "outputs": [
    {
     "name": "stdout",
     "output_type": "stream",
     "text": [
      "\n",
      "Ridge Regression Coefficients\n",
      "\n",
      "\n"
     ]
    },
    {
     "data": {
      "text/html": [
       "<div>\n",
       "<style scoped>\n",
       "    .dataframe tbody tr th:only-of-type {\n",
       "        vertical-align: middle;\n",
       "    }\n",
       "\n",
       "    .dataframe tbody tr th {\n",
       "        vertical-align: top;\n",
       "    }\n",
       "\n",
       "    .dataframe thead th {\n",
       "        text-align: right;\n",
       "    }\n",
       "</style>\n",
       "<table border=\"1\" class=\"dataframe\">\n",
       "  <thead>\n",
       "    <tr style=\"text-align: right;\">\n",
       "      <th></th>\n",
       "      <th>Features</th>\n",
       "      <th>Ridge Coefficients</th>\n",
       "    </tr>\n",
       "  </thead>\n",
       "  <tbody>\n",
       "    <tr>\n",
       "      <th>2</th>\n",
       "      <td>model</td>\n",
       "      <td>7285.603075</td>\n",
       "    </tr>\n",
       "    <tr>\n",
       "      <th>4</th>\n",
       "      <td>odometer</td>\n",
       "      <td>-4412.493471</td>\n",
       "    </tr>\n",
       "    <tr>\n",
       "      <th>0</th>\n",
       "      <td>year</td>\n",
       "      <td>1893.496386</td>\n",
       "    </tr>\n",
       "    <tr>\n",
       "      <th>6</th>\n",
       "      <td>transmission</td>\n",
       "      <td>-1502.515883</td>\n",
       "    </tr>\n",
       "    <tr>\n",
       "      <th>3</th>\n",
       "      <td>fuel</td>\n",
       "      <td>1130.106371</td>\n",
       "    </tr>\n",
       "    <tr>\n",
       "      <th>7</th>\n",
       "      <td>state</td>\n",
       "      <td>761.564126</td>\n",
       "    </tr>\n",
       "    <tr>\n",
       "      <th>5</th>\n",
       "      <td>title_status</td>\n",
       "      <td>692.907793</td>\n",
       "    </tr>\n",
       "    <tr>\n",
       "      <th>1</th>\n",
       "      <td>manufacturer</td>\n",
       "      <td>651.276872</td>\n",
       "    </tr>\n",
       "  </tbody>\n",
       "</table>\n",
       "</div>"
      ],
      "text/plain": [
       "       Features  Ridge Coefficients\n",
       "2         model         7285.603075\n",
       "4      odometer        -4412.493471\n",
       "0          year         1893.496386\n",
       "6  transmission        -1502.515883\n",
       "3          fuel         1130.106371\n",
       "7         state          761.564126\n",
       "5  title_status          692.907793\n",
       "1  manufacturer          651.276872"
      ]
     },
     "execution_count": 53,
     "metadata": {},
     "output_type": "execute_result"
    }
   ],
   "source": [
    "#Inspect the coefficients of the ridge model with best alpha=10.0\n",
    "pipe_bestalpha_ridge = Pipeline([('scale', StandardScaler()), ('ridge', Ridge(alpha=10.0))])\n",
    "pipe_bestalpha_ridge.fit(X_train, y_train)\n",
    "\n",
    "\n",
    "list_Ridge_coeff = list((zip(pipe_bestalpha_ridge.named_steps['scale'].get_feature_names_out(), pipe_bestalpha_ridge.named_steps['ridge'].coef_)))\n",
    "\n",
    "df_Ridge_coeff = pd.DataFrame(list_Ridge_coeff, columns = [' Features', 'Ridge Coefficients'])\n",
    "\n",
    "print('\\nRidge Regression Coefficients\\n\\n')\n",
    "\n",
    "#sort features by magnitude of ridge regression coefficents\n",
    "df_Ridge_coeff.sort_values(by='Ridge Coefficients', ascending=False, key=abs)"
   ]
  },
  {
   "cell_type": "markdown",
   "metadata": {},
   "source": [
    "Both linear and ridge regression models indicate that the most impactful factors that are positively associated with price are model and year, and the most impactful factors affecting price negatively are odometer and transmission"
   ]
  },
  {
   "cell_type": "markdown",
   "metadata": {},
   "source": [
    "#### Lasso Model with GridSearchCV for optimal lasso alpha"
   ]
  },
  {
   "cell_type": "code",
   "execution_count": 54,
   "metadata": {},
   "outputs": [
    {
     "name": "stdout",
     "output_type": "stream",
     "text": [
      "\n",
      "Lasso Model: Best Alpha and Model Scores\n",
      "\n",
      "\n",
      "Best Alpha: 0.001\n",
      "Train MSE: 41136000.72\n",
      "Train r2 score: 0.74\n",
      "Test MSE: 41987760.48\n",
      "Test RMSE: 6479.8\n",
      "Test r2 score: 0.73\n"
     ]
    }
   ],
   "source": [
    "#Next implementing the lasso model : picking the best alpha parameter for the lasso model\n",
    "\n",
    "lasso_alphas = [0.001,0.01,0.1,1.0, 10.0]\n",
    "lasso = Lasso(random_state=123)\n",
    "grid = dict()\n",
    "grid['alpha'] = lasso_alphas\n",
    "\n",
    "gscv_lasso = GridSearchCV( \\\n",
    "    lasso, grid, scoring='neg_mean_squared_error', \\\n",
    "    cv=3, n_jobs=-1)\n",
    "\n",
    "gscv_lasso.fit(X_train, y_train)\n",
    "train_predsLasso = gscv_lasso.predict(X_train)\n",
    "test_predsLasso = gscv_lasso.predict(X_test)\n",
    "train_mseLasso = mean_squared_error(y_train, train_predsLasso)\n",
    "train_r2scoreLasso = r2_score(y_train, train_predsLasso)\n",
    "test_mseLasso = mean_squared_error(y_test, test_predsLasso)\n",
    "test_r2scoreLasso = r2_score(y_test, test_predsLasso)\n",
    "best_alphaLasso = gscv_lasso.best_params_\n",
    "\n",
    "# print best alpha and model train and test scores for Lasso model\n",
    "print ('\\nLasso Model: Best Alpha and Model Scores\\n\\n')\n",
    "print(f'Best Alpha: {list(best_alphaLasso.values())[0]}')\n",
    "print('Train MSE:',np.around(train_mseLasso,2))\n",
    "print('Train r2 score:', np.around(train_r2scoreLasso,2))\n",
    "print('Test MSE:',np.around(test_mseLasso,2))\n",
    "print('Test RMSE:', np.around(np.sqrt(test_mseLasso),2))\n",
    "print('Test r2 score:', np.around(test_r2scoreLasso,2))\n"
   ]
  },
  {
   "cell_type": "markdown",
   "metadata": {},
   "source": [
    "Lasso has similar performance as Linear/Ridge regressors. Next we inspect the coefficients of the Lasso model with best alpha"
   ]
  },
  {
   "cell_type": "code",
   "execution_count": 55,
   "metadata": {},
   "outputs": [
    {
     "name": "stdout",
     "output_type": "stream",
     "text": [
      "\n",
      "Lasso Coefficients\n",
      "\n",
      "\n"
     ]
    },
    {
     "data": {
      "text/html": [
       "<div>\n",
       "<style scoped>\n",
       "    .dataframe tbody tr th:only-of-type {\n",
       "        vertical-align: middle;\n",
       "    }\n",
       "\n",
       "    .dataframe tbody tr th {\n",
       "        vertical-align: top;\n",
       "    }\n",
       "\n",
       "    .dataframe thead th {\n",
       "        text-align: right;\n",
       "    }\n",
       "</style>\n",
       "<table border=\"1\" class=\"dataframe\">\n",
       "  <thead>\n",
       "    <tr style=\"text-align: right;\">\n",
       "      <th></th>\n",
       "      <th>Features</th>\n",
       "      <th>Lasso Coefficients</th>\n",
       "    </tr>\n",
       "  </thead>\n",
       "  <tbody>\n",
       "    <tr>\n",
       "      <th>2</th>\n",
       "      <td>model</td>\n",
       "      <td>7286.035532</td>\n",
       "    </tr>\n",
       "    <tr>\n",
       "      <th>4</th>\n",
       "      <td>odometer</td>\n",
       "      <td>-4412.658758</td>\n",
       "    </tr>\n",
       "    <tr>\n",
       "      <th>0</th>\n",
       "      <td>year</td>\n",
       "      <td>1893.484398</td>\n",
       "    </tr>\n",
       "    <tr>\n",
       "      <th>6</th>\n",
       "      <td>transmission</td>\n",
       "      <td>-1502.822964</td>\n",
       "    </tr>\n",
       "    <tr>\n",
       "      <th>3</th>\n",
       "      <td>fuel</td>\n",
       "      <td>1130.091089</td>\n",
       "    </tr>\n",
       "    <tr>\n",
       "      <th>7</th>\n",
       "      <td>state</td>\n",
       "      <td>761.546834</td>\n",
       "    </tr>\n",
       "    <tr>\n",
       "      <th>5</th>\n",
       "      <td>title_status</td>\n",
       "      <td>692.928753</td>\n",
       "    </tr>\n",
       "    <tr>\n",
       "      <th>1</th>\n",
       "      <td>manufacturer</td>\n",
       "      <td>651.131785</td>\n",
       "    </tr>\n",
       "  </tbody>\n",
       "</table>\n",
       "</div>"
      ],
      "text/plain": [
       "       Features  Lasso Coefficients\n",
       "2         model         7286.035532\n",
       "4      odometer        -4412.658758\n",
       "0          year         1893.484398\n",
       "6  transmission        -1502.822964\n",
       "3          fuel         1130.091089\n",
       "7         state          761.546834\n",
       "5  title_status          692.928753\n",
       "1  manufacturer          651.131785"
      ]
     },
     "execution_count": 55,
     "metadata": {},
     "output_type": "execute_result"
    }
   ],
   "source": [
    "#Inspect the coefficients of the Lasso model with best alpha=0.001\n",
    "pipe_bestalpha_lasso = Pipeline([('scale', StandardScaler()), ('lasso', Lasso(alpha=0.001, random_state=123))])\n",
    "pipe_bestalpha_lasso.fit(X_train, y_train)\n",
    "\n",
    "list_Lasso_coeff = list((zip(pipe_bestalpha_lasso.named_steps['scale'].get_feature_names_out(), pipe_bestalpha_lasso.named_steps['lasso'].coef_)))\n",
    "\n",
    "df_Lasso_coeff = pd.DataFrame(list_Lasso_coeff, columns = [' Features', 'Lasso Coefficients'])\n",
    "\n",
    "print('\\nLasso Coefficients\\n\\n')\n",
    "\n",
    "#sort features by magnitude of lasso coefficents\n",
    "df_Lasso_coeff.sort_values(by='Lasso Coefficients', ascending=False, key=abs)"
   ]
  },
  {
   "cell_type": "markdown",
   "metadata": {},
   "source": [
    "All three models have similar results. Next we explore Sequential Feature Selection using LinearRegression"
   ]
  },
  {
   "cell_type": "markdown",
   "metadata": {},
   "source": [
    "#### Sequential Feature Selection using Linear Regression Estimator"
   ]
  },
  {
   "cell_type": "code",
   "execution_count": 56,
   "metadata": {},
   "outputs": [
    {
     "data": {
      "text/html": [
       "<div>\n",
       "<style scoped>\n",
       "    .dataframe tbody tr th:only-of-type {\n",
       "        vertical-align: middle;\n",
       "    }\n",
       "\n",
       "    .dataframe tbody tr th {\n",
       "        vertical-align: top;\n",
       "    }\n",
       "\n",
       "    .dataframe thead th {\n",
       "        text-align: right;\n",
       "    }\n",
       "</style>\n",
       "<table border=\"1\" class=\"dataframe\">\n",
       "  <thead>\n",
       "    <tr style=\"text-align: right;\">\n",
       "      <th></th>\n",
       "      <th>year</th>\n",
       "      <th>model</th>\n",
       "      <th>fuel</th>\n",
       "      <th>odometer</th>\n",
       "      <th>transmission</th>\n",
       "    </tr>\n",
       "  </thead>\n",
       "  <tbody>\n",
       "    <tr>\n",
       "      <th>0</th>\n",
       "      <td>2014.0</td>\n",
       "      <td>10507.477124</td>\n",
       "      <td>16982.738674</td>\n",
       "      <td>31500.0</td>\n",
       "      <td>16534.742852</td>\n",
       "    </tr>\n",
       "    <tr>\n",
       "      <th>1</th>\n",
       "      <td>2012.0</td>\n",
       "      <td>15249.217659</td>\n",
       "      <td>16982.825897</td>\n",
       "      <td>142504.0</td>\n",
       "      <td>16534.839105</td>\n",
       "    </tr>\n",
       "    <tr>\n",
       "      <th>2</th>\n",
       "      <td>2012.0</td>\n",
       "      <td>8579.409091</td>\n",
       "      <td>16982.831631</td>\n",
       "      <td>107000.0</td>\n",
       "      <td>16534.845433</td>\n",
       "    </tr>\n",
       "    <tr>\n",
       "      <th>3</th>\n",
       "      <td>2007.0</td>\n",
       "      <td>45900.000000</td>\n",
       "      <td>29857.136058</td>\n",
       "      <td>86000.0</td>\n",
       "      <td>16534.657232</td>\n",
       "    </tr>\n",
       "    <tr>\n",
       "      <th>4</th>\n",
       "      <td>2010.0</td>\n",
       "      <td>15607.641399</td>\n",
       "      <td>16982.832779</td>\n",
       "      <td>207246.0</td>\n",
       "      <td>16534.846699</td>\n",
       "    </tr>\n",
       "  </tbody>\n",
       "</table>\n",
       "</div>"
      ],
      "text/plain": [
       "     year         model          fuel  odometer  transmission\n",
       "0  2014.0  10507.477124  16982.738674   31500.0  16534.742852\n",
       "1  2012.0  15249.217659  16982.825897  142504.0  16534.839105\n",
       "2  2012.0   8579.409091  16982.831631  107000.0  16534.845433\n",
       "3  2007.0  45900.000000  29857.136058   86000.0  16534.657232\n",
       "4  2010.0  15607.641399  16982.832779  207246.0  16534.846699"
      ]
     },
     "execution_count": 56,
     "metadata": {},
     "output_type": "execute_result"
    }
   ],
   "source": [
    "#SequentialFeature selector with number of features = 5 and LinearRegression estimator\n",
    "pipeSFSelector = Pipeline([('scale', StandardScaler()),('linreg', LinearRegression())])\n",
    "SFSelector = SequentialFeatureSelector(pipeSFSelector, n_features_to_select=5)\n",
    "\n",
    "#best four features from Sequential Feature Selection\n",
    "best_features_SFSelector = SFSelector.fit_transform(X_train, y_train)\n",
    "best_featuresSFSelector_df = pd.DataFrame(best_features_SFSelector, columns = SFSelector.get_feature_names_out())\n",
    "best_featuresSFSelector_df.head()"
   ]
  },
  {
   "cell_type": "code",
   "execution_count": 57,
   "metadata": {},
   "outputs": [
    {
     "name": "stdout",
     "output_type": "stream",
     "text": [
      "\n",
      "Sequential Feature Selection With Linear Regression Estimator: Model Scores and Coefficients\n",
      "\n",
      "\n",
      "Train MSE: 42529394.36\n",
      "Train r2 score: 0.73\n",
      "Test MSE: 43472325.81\n",
      "Test RMSE: 6593.35\n",
      "Test r2 score: 0.72\n"
     ]
    },
    {
     "data": {
      "text/html": [
       "<div>\n",
       "<style scoped>\n",
       "    .dataframe tbody tr th:only-of-type {\n",
       "        vertical-align: middle;\n",
       "    }\n",
       "\n",
       "    .dataframe tbody tr th {\n",
       "        vertical-align: top;\n",
       "    }\n",
       "\n",
       "    .dataframe thead th {\n",
       "        text-align: right;\n",
       "    }\n",
       "</style>\n",
       "<table border=\"1\" class=\"dataframe\">\n",
       "  <thead>\n",
       "    <tr style=\"text-align: right;\">\n",
       "      <th></th>\n",
       "      <th>SFS Features</th>\n",
       "      <th>Model Coefficients</th>\n",
       "    </tr>\n",
       "  </thead>\n",
       "  <tbody>\n",
       "    <tr>\n",
       "      <th>1</th>\n",
       "      <td>model</td>\n",
       "      <td>7731.596048</td>\n",
       "    </tr>\n",
       "    <tr>\n",
       "      <th>3</th>\n",
       "      <td>odometer</td>\n",
       "      <td>-4378.475565</td>\n",
       "    </tr>\n",
       "    <tr>\n",
       "      <th>0</th>\n",
       "      <td>year</td>\n",
       "      <td>1920.023390</td>\n",
       "    </tr>\n",
       "    <tr>\n",
       "      <th>4</th>\n",
       "      <td>transmission</td>\n",
       "      <td>-1608.045085</td>\n",
       "    </tr>\n",
       "    <tr>\n",
       "      <th>2</th>\n",
       "      <td>fuel</td>\n",
       "      <td>1179.112400</td>\n",
       "    </tr>\n",
       "  </tbody>\n",
       "</table>\n",
       "</div>"
      ],
      "text/plain": [
       "   SFS Features  Model Coefficients\n",
       "1         model         7731.596048\n",
       "3      odometer        -4378.475565\n",
       "0          year         1920.023390\n",
       "4  transmission        -1608.045085\n",
       "2          fuel         1179.112400"
      ]
     },
     "execution_count": 57,
     "metadata": {},
     "output_type": "execute_result"
    }
   ],
   "source": [
    "#pipeline with column selector from Sequential Feature Selection\n",
    "pipelineSFSLR = Pipeline([('column_selector', SFSelector),\n",
    "                  ('scale', StandardScaler()),\n",
    "                ('linreg', LinearRegression())])\n",
    "\n",
    "pipelineSFSLR.fit(X_train, y_train)\n",
    "train_preds_SFSLR = pipelineSFSLR.predict(X_train)\n",
    "y_preds_SFSLR = pipelineSFSLR.predict(X_test)\n",
    "train_mse_SFSLR = mean_squared_error(y_train, train_preds_SFSLR)\n",
    "train_r2score_SFSLR = r2_score(y_train, train_preds_SFSLR)\n",
    "test_mse_SFSLR = mean_squared_error(y_test, y_preds_SFSLR)\n",
    "test_r2score_SFSLR = r2_score(y_test, y_preds_SFSLR)\n",
    "\n",
    "# print  model train and test scores for SFS with LR\n",
    "print ('\\nSequential Feature Selection With Linear Regression Estimator: Model Scores and Coefficients\\n\\n')\n",
    "print('Train MSE:',np.around(train_mse_SFSLR,2))\n",
    "print('Train r2 score:', np.around(train_r2score_SFSLR,2))\n",
    "print('Test MSE:',np.around(test_mse_SFSLR,2))\n",
    "print('Test RMSE:', np.around(np.sqrt(test_mse_SFSLR),2))\n",
    "print('Test r2 score:', np.around(test_r2score_SFSLR,2))\n",
    "\n",
    "\n",
    "list_SFSLR_coeff = list((zip(pipelineSFSLR['column_selector'].get_feature_names_out(), pipelineSFSLR['linreg'].coef_)))\n",
    "\n",
    "df_SFSLR_coeff = pd.DataFrame(list_SFSLR_coeff, columns = ['SFS Features', 'Model Coefficients'])\n",
    "\n",
    "#sort features by magnitude of model coefficents\n",
    "df_SFSLR_coeff.sort_values(by='Model Coefficients', ascending=False, key=abs)\n"
   ]
  },
  {
   "cell_type": "markdown",
   "metadata": {},
   "source": [
    "Sequential Feature Selection showed how a simpler model can built with fewer (5) features, where the top features in order of magnitude of coefficients, and hence in the order of highest (positive or negative) impact on price are:\n",
    "\n",
    "1) Model (positive)\n",
    "\n",
    "2) Odomoter (negative)\n",
    "\n",
    "3) Year (positive)\n",
    "\n",
    "4) Transmission (negative)\n",
    "\n",
    "5) Fuel (positive)"
   ]
  },
  {
   "cell_type": "markdown",
   "metadata": {},
   "source": [
    "#### Higher Order Regression Models with Polynomial Features"
   ]
  },
  {
   "cell_type": "markdown",
   "metadata": {},
   "source": [
    "Next we evaluate the effect of increasing complexity with PolynomialFeatures and iterating through different complexites from degree = 1 through degree = 4 and a LinearRegession estimator. We evaluate the best complexity based on the test mean squared error."
   ]
  },
  {
   "cell_type": "code",
   "execution_count": 58,
   "metadata": {},
   "outputs": [
    {
     "name": "stdout",
     "output_type": "stream",
     "text": [
      "\n",
      "Linear Regression with Higher Order Polynomials\n",
      "\n",
      "\n",
      "\n",
      "Best complexity: 2\n",
      "Test MSEs:\n",
      " [41987760.46 34768913.41 37366410.8  39980812.06]\n",
      "\n",
      "Test RMSEs:\n",
      " [6479.8  5896.52 6112.81 6323.04]\n",
      "\n",
      "Test r2 scores:\n",
      " [0.73 0.78 0.76 0.75]\n"
     ]
    },
    {
     "data": {
      "text/plain": [
       "Text(0.5, 1.0, 'Selection of Optimal Model Complexity\\nBased on Test MSE')"
      ]
     },
     "execution_count": 58,
     "metadata": {},
     "output_type": "execute_result"
    },
    {
     "data": {
      "image/png": "[encoded data removed]",
      "text/plain": [
       "<Figure size 640x480 with 1 Axes>"
      ]
     },
     "metadata": {},
     "output_type": "display_data"
    }
   ],
   "source": [
    "# building a pipeline model with polynomial features and linear regression to test different  models of increasing complexity\n",
    "train_mses = []\n",
    "train_r2score=[]\n",
    "test_mses = []\n",
    "test_r2score=[]\n",
    "for i in range(1, 5):\n",
    "    pipe = Pipeline([('pfeat', PolynomialFeatures(degree = i, include_bias=False)),\n",
    "                     ('scale', StandardScaler()),\n",
    "                     ('linreg', LinearRegression())])\n",
    "    \n",
    "    pipe.fit(X_train, y_train)\n",
    "    train_preds = pipe.predict(X_train)\n",
    "    y_preds = pipe.predict(X_test)\n",
    "    train_mses.append(mean_squared_error(y_train, train_preds))\n",
    "    test_mses.append(mean_squared_error(y_test, y_preds))\n",
    "    train_r2score.append(r2_score(y_train, train_preds))\n",
    "    test_r2score.append(r2_score(y_test, y_preds))\n",
    "\n",
    "    \n",
    "# find the best model complexity best on the testing error (and not training error)\n",
    "best_model_complexity = test_mses.index(min(test_mses)) + 1\n",
    "\n",
    "print('\\nLinear Regression with Higher Order Polynomials\\n')\n",
    "print('\\n\\nBest complexity:' , best_model_complexity)\n",
    "print('Test MSEs:\\n', np.around(test_mses,2))\n",
    "print('\\nTest RMSEs:\\n', np.around(np.sqrt(test_mses),2))\n",
    "print('\\nTest r2 scores:\\n', np.around(test_r2score,2))\n",
    "\n",
    "plt.plot(np.arange(1,5), test_mses, 'ro--')\n",
    "plt.grid()\n",
    "plt.xlabel('Complexity Order')\n",
    "plt.ylabel('Test MSE')\n",
    "plt.title('Selection of Optimal Model Complexity\\nBased on Test MSE')"
   ]
  },
  {
   "cell_type": "markdown",
   "metadata": {},
   "source": [
    "The best performing pipeline was the linear regression model with standard scaler and a polynomial complexity of degree=2. Based on the model scores, this particular model had an MSE of 34768913.4 and a r2 score of 0.78 which is an improvement over the scores achieved with simple linear regression model. Below are the train mses of the different models"
   ]
  },
  {
   "cell_type": "code",
   "execution_count": 59,
   "metadata": {},
   "outputs": [
    {
     "name": "stdout",
     "output_type": "stream",
     "text": [
      "Train MSEs:\n",
      " [41136000.720969595, 34174552.48932152, 29418500.49727003, 27443372.76305495]\n",
      "Train r2 scores:\n",
      " [0.7367715573474787, 0.781317724804364, 0.8117516060057506, 0.8243904087188254]\n"
     ]
    }
   ],
   "source": [
    "print('Train MSEs:\\n',train_mses)\n",
    "print('Train r2 scores:\\n', train_r2score)"
   ]
  },
  {
   "cell_type": "markdown",
   "metadata": {},
   "source": [
    "Even though training MSEs and r2 scores improve with more complex polynomial models with order>2, this is due to overfitting and the test dataset actually reflects that in terms of worsening test errors with models of orders higher than 2. Therefore the optimal complexity is degree=2"
   ]
  },
  {
   "cell_type": "markdown",
   "metadata": {},
   "source": [
    "#### Transformed Target Regressor: Does target transformation improve model performance?"
   ]
  },
  {
   "cell_type": "code",
   "execution_count": 60,
   "metadata": {},
   "outputs": [
    {
     "name": "stdout",
     "output_type": "stream",
     "text": [
      "\n",
      "Transformed Target Regressor Results\n",
      "\n",
      "Best model complexity: 2\n",
      "\n",
      "Test MSEs:\n",
      " [63461745.9  38586809.   44407135.83 48910505.9 ]\n",
      "\n",
      "Test r2 scores:\n",
      " [0.6  0.75 0.72 0.69]\n"
     ]
    }
   ],
   "source": [
    "#using logarithm to transform target\n",
    "ttlinreg = TransformedTargetRegressor(regressor=LinearRegression(),func=np.log1p, inverse_func=np.expm1)\n",
    "\n",
    "\n",
    "train_mses_TTReg = []\n",
    "test_mses_TTReg = []\n",
    "train_r2score_TTReg =[]\n",
    "test_r2score_TTReg = []\n",
    "\n",
    "for i in range(1, 5):\n",
    "    pipeTTReg = Pipeline([('pfeat', PolynomialFeatures(degree = i, include_bias=False)), ('scale', StandardScaler()),\n",
    "                    ('ttlinreg', ttlinreg)])\n",
    "    pipeTTReg.fit(X_train, y_train)\n",
    "    train_preds_TTReg = pipeTTReg.predict(X_train)\n",
    "    y_preds_TTReg = pipeTTReg.predict(X_test)\n",
    "    train_mses_TTReg.append(mean_squared_error(y_train, train_preds_TTReg))\n",
    "    test_mses_TTReg.append(mean_squared_error(y_test, y_preds_TTReg))\n",
    "    train_r2score_TTReg.append(r2_score(y_train, train_preds_TTReg))\n",
    "    test_r2score_TTReg.append(r2_score(y_test, y_preds_TTReg))\n",
    "\n",
    "    \n",
    "# find the best model complexity best on the testing error (and not training error)\n",
    "best_model_complexity_TTReg = test_mses_TTReg.index(min(test_mses_TTReg)) + 1\n",
    "print ('\\nTransformed Target Regressor Results\\n')\n",
    "print('Best model complexity:',best_model_complexity_TTReg)\n",
    "print('\\nTest MSEs:\\n',np.around(test_mses_TTReg,2))\n",
    "print('\\nTest r2 scores:\\n', np.around(test_r2score_TTReg,2))"
   ]
  },
  {
   "cell_type": "markdown",
   "metadata": {},
   "source": [
    "Target Transformation did not help boost the model performance"
   ]
  },
  {
   "cell_type": "markdown",
   "metadata": {},
   "source": [
    "#### Ridge Regression with Higher Order Polynomial (degree =2) and GridSearchCV for optimal alpha"
   ]
  },
  {
   "cell_type": "code",
   "execution_count": 61,
   "metadata": {},
   "outputs": [
    {
     "name": "stdout",
     "output_type": "stream",
     "text": [
      "\n",
      " Ridge Regression with Higher Order Polynomial (degree=2) : Best Alpha and Model Scores\n",
      "\n",
      "Best Alpha: 0.001\n",
      "Train MSE: 34174553.86\n",
      "Train r2 score: 0.78\n",
      "Test MSE: 34769171.24\n",
      "Test RMSE: 5896.54\n",
      "Test r2 score: 0.78\n"
     ]
    }
   ],
   "source": [
    "pipe_Ridge = Pipeline( [('pfeat', PolynomialFeatures(degree = 2, include_bias=False)), ('scale', StandardScaler()),('ridge', Ridge())])\n",
    "param_dict = {'ridge__alpha': [0.001, 0.1, 1.0, 10.0, 100.0]}\n",
    "grid_Ridge = GridSearchCV(pipe_Ridge, param_grid=param_dict)\n",
    "grid_Ridge.fit(X_train, y_train)\n",
    "train_preds_Ridge = grid_Ridge.predict(X_train)\n",
    "test_preds_Ridge = grid_Ridge.predict(X_test)\n",
    "train_mse_Ridge = mean_squared_error(y_train, train_preds_Ridge)\n",
    "train_r2score_Ridge = r2_score(y_train, train_preds_Ridge)\n",
    "test_mse_Ridge = mean_squared_error(y_test, test_preds_Ridge)\n",
    "test_r2score_Ridge = r2_score(y_test, test_preds_Ridge)\n",
    "Ridge_best_alpha = grid_Ridge.best_params_\n",
    "\n",
    "# print best alpha and corresponding train/test scores\n",
    "print('\\n Ridge Regression with Higher Order Polynomial (degree=2) : Best Alpha and Model Scores\\n')\n",
    "print(f'Best Alpha: {list(Ridge_best_alpha.values())[0]}')\n",
    "print(f'Train MSE: {np.around(train_mse_Ridge,2)}')\n",
    "print(f'Train r2 score: {np.around(train_r2score_Ridge,2)}')\n",
    "print(f'Test MSE: {np.around(test_mse_Ridge,2)}')\n",
    "print(f'Test RMSE: {np.around(np.sqrt(test_mse_Ridge),2)}')\n",
    "print(f'Test r2 score: {np.around(test_r2score_Ridge,2)}')"
   ]
  },
  {
   "cell_type": "markdown",
   "metadata": {},
   "source": [
    "As observed earlier with simpler models,  even with higher order polynomials ridge regression model does not perform better than linear regression."
   ]
  },
  {
   "cell_type": "markdown",
   "metadata": {},
   "source": [
    "#### Sequential Feature Selection with Linear Regression and Higher Order Polynomial (degree=2)"
   ]
  },
  {
   "cell_type": "code",
   "execution_count": 62,
   "metadata": {},
   "outputs": [
    {
     "data": {
      "text/html": [
       "<div>\n",
       "<style scoped>\n",
       "    .dataframe tbody tr th:only-of-type {\n",
       "        vertical-align: middle;\n",
       "    }\n",
       "\n",
       "    .dataframe tbody tr th {\n",
       "        vertical-align: top;\n",
       "    }\n",
       "\n",
       "    .dataframe thead th {\n",
       "        text-align: right;\n",
       "    }\n",
       "</style>\n",
       "<table border=\"1\" class=\"dataframe\">\n",
       "  <thead>\n",
       "    <tr style=\"text-align: right;\">\n",
       "      <th></th>\n",
       "      <th>year</th>\n",
       "      <th>model</th>\n",
       "      <th>fuel</th>\n",
       "      <th>odometer</th>\n",
       "      <th>transmission</th>\n",
       "    </tr>\n",
       "  </thead>\n",
       "  <tbody>\n",
       "    <tr>\n",
       "      <th>0</th>\n",
       "      <td>2014.0</td>\n",
       "      <td>10507.477124</td>\n",
       "      <td>16982.738674</td>\n",
       "      <td>31500.0</td>\n",
       "      <td>16534.742852</td>\n",
       "    </tr>\n",
       "    <tr>\n",
       "      <th>1</th>\n",
       "      <td>2012.0</td>\n",
       "      <td>15249.217659</td>\n",
       "      <td>16982.825897</td>\n",
       "      <td>142504.0</td>\n",
       "      <td>16534.839105</td>\n",
       "    </tr>\n",
       "    <tr>\n",
       "      <th>2</th>\n",
       "      <td>2012.0</td>\n",
       "      <td>8579.409091</td>\n",
       "      <td>16982.831631</td>\n",
       "      <td>107000.0</td>\n",
       "      <td>16534.845433</td>\n",
       "    </tr>\n",
       "    <tr>\n",
       "      <th>3</th>\n",
       "      <td>2007.0</td>\n",
       "      <td>45900.000000</td>\n",
       "      <td>29857.136058</td>\n",
       "      <td>86000.0</td>\n",
       "      <td>16534.657232</td>\n",
       "    </tr>\n",
       "    <tr>\n",
       "      <th>4</th>\n",
       "      <td>2010.0</td>\n",
       "      <td>15607.641399</td>\n",
       "      <td>16982.832779</td>\n",
       "      <td>207246.0</td>\n",
       "      <td>16534.846699</td>\n",
       "    </tr>\n",
       "  </tbody>\n",
       "</table>\n",
       "</div>"
      ],
      "text/plain": [
       "     year         model          fuel  odometer  transmission\n",
       "0  2014.0  10507.477124  16982.738674   31500.0  16534.742852\n",
       "1  2012.0  15249.217659  16982.825897  142504.0  16534.839105\n",
       "2  2012.0   8579.409091  16982.831631  107000.0  16534.845433\n",
       "3  2007.0  45900.000000  29857.136058   86000.0  16534.657232\n",
       "4  2010.0  15607.641399  16982.832779  207246.0  16534.846699"
      ]
     },
     "execution_count": 62,
     "metadata": {},
     "output_type": "execute_result"
    }
   ],
   "source": [
    "#SequentialFeature selector with number of features = 5 and LinearRegression estimator with 2nd order polynomial\n",
    "pipeSFS = Pipeline([('pfeat', PolynomialFeatures(degree = 2, include_bias=False)),('scale', StandardScaler()),('Linreg', LinearRegression())])\n",
    "selector = SequentialFeatureSelector(pipeSFS, n_features_to_select=5)\n",
    "\n",
    "#best four features from Sequential Feature Selection\n",
    "best_features = selector.fit_transform(X_train, y_train)\n",
    "best_features_df = pd.DataFrame(best_features, columns = selector.get_feature_names_out())\n",
    "best_features_df.head()"
   ]
  },
  {
   "cell_type": "code",
   "execution_count": 63,
   "metadata": {},
   "outputs": [
    {
     "name": "stdout",
     "output_type": "stream",
     "text": [
      "\n",
      "Sequential Feature Selection with Linear Regression and Higher Order Polynomial (degree=2): Model Scores\n",
      "\n",
      "Train MSE:  43592770.03\n",
      "Train r2 score:  0.72\n",
      "Test MSE:  44578223.78\n",
      "Test RMSE:  6676.69\n",
      "Test r2score:  0.72\n"
     ]
    }
   ],
   "source": [
    "#pipeline with sequential feature selector and linear regression model and higher order polynomial (degree=2)\n",
    "pipelineSFS = Pipeline([('pfeat', PolynomialFeatures(degree = 2, include_bias=False)),('scale', StandardScaler()),\n",
    "                        ('column_selector', selector),\n",
    "                        ('linreg', LinearRegression())])\n",
    "pipelineSFS.fit(X_train, y_train)\n",
    "train_preds_SFS = pipelineSFS.predict(X_train)\n",
    "y_preds_SFS = pipelineSFS.predict(X_test)\n",
    "train_mse_SFS = mean_squared_error(y_train, train_preds_SFS)\n",
    "train_r2score_SFS = r2_score(y_train, train_preds_SFS)\n",
    "test_mse_SFS = mean_squared_error(y_test, y_preds_SFS)\n",
    "test_r2score_SFS = r2_score(y_test, y_preds_SFS)\n",
    "\n",
    "\n",
    "list_SFS_coeff = list((zip(pipelineSFS.named_steps['column_selector'].get_feature_names_out(), pipelineSFS['linreg'].coef_)))\n",
    "\n",
    "df_SFS_coeff = pd.DataFrame(list_SFS_coeff, columns = ['SFS Poly Features', 'Model Coefficients'])\n",
    "\n",
    "\n",
    "\n",
    "\n",
    "print('\\nSequential Feature Selection with Linear Regression and Higher Order Polynomial (degree=2): Model Scores\\n')\n",
    "print(f'Train MSE: {train_mse_SFS: .2f}')\n",
    "print(f'Train r2 score: {train_r2score_SFS: .2f}')\n",
    "print(f'Test MSE: {test_mse_SFS: .2f}')\n",
    "print(f'Test RMSE: {np.sqrt(test_mse_SFS): .2f}')\n",
    "print(f'Test r2score: {test_r2score_SFS: .2f}')"
   ]
  },
  {
   "cell_type": "markdown",
   "metadata": {},
   "source": [
    "SFS with fewer (5) features had did not have as good of a score as the Linear Regression model with higher order polynomial"
   ]
  },
  {
   "cell_type": "markdown",
   "metadata": {},
   "source": [
    "#### Lasso with higher order polynomial and GridSearchCV for optimal alpha"
   ]
  },
  {
   "cell_type": "code",
   "execution_count": 71,
   "metadata": {},
   "outputs": [
    {
     "name": "stderr",
     "output_type": "stream",
     "text": [
      "C:\\Users\\subha\\anaconda3\\lib\\site-packages\\sklearn\\linear_model\\_coordinate_descent.py:647: ConvergenceWarning: Objective did not converge. You might want to increase the number of iterations, check the scale of the features or consider increasing regularisation. Duality gap: 3.587e+12, tolerance: 3.968e+09\n",
      "  model = cd_fast.enet_coordinate_descent(\n"
     ]
    },
    {
     "name": "stdout",
     "output_type": "stream",
     "text": [
      "\n",
      "Lasso Model with 2nd order Polynomial Features: Best Alpha and Model Scores\n",
      "\n",
      "\n",
      "Best Alpha: 1.0\n",
      "Train MSE: 38207964.61\n",
      "Train r2 score: 0.76\n",
      "Test MSE: 38967647.78\n",
      "Test RMSE: 6242.41\n",
      "Test r2 score: 0.75\n"
     ]
    }
   ],
   "source": [
    "pipelasso = Pipeline([('pfeat', PolynomialFeatures(degree = 2, include_bias=False)), ('scaler', StandardScaler()), \n",
    "                     ('lasso', Lasso(random_state=123))])\n",
    "param_dict = {'lasso__alpha': [0.001, 0.01, 0.1, 1.0, 10.0, 100.0]}\n",
    "\n",
    "\n",
    "\n",
    "gscv_pipelasso = GridSearchCV( \\\n",
    "    pipelasso, param_grid=param_dict, scoring='neg_mean_squared_error', \\\n",
    "    cv=3, n_jobs=-1)\n",
    "\n",
    "gscv_pipelasso.fit(X_train, y_train)\n",
    "train_preds_pipelasso = gscv_pipelasso.predict(X_train)\n",
    "test_preds_pipelasso = gscv_pipelasso.predict(X_test)\n",
    "train_mse_pipelasso = mean_squared_error(y_train, train_preds_pipelasso)\n",
    "train_r2score_pipelasso = r2_score(y_train, train_preds_pipelasso)\n",
    "test_mse_pipelasso = mean_squared_error(y_test, test_preds_pipelasso)\n",
    "test_r2score_pipelasso = r2_score(y_test, test_preds_pipelasso)\n",
    "best_alpha_pipelasso = gscv_pipelasso.best_params_\n",
    "\n",
    "# print best alpha and model train and test scores for Lasso model\n",
    "print ('\\nLasso Model with 2nd order Polynomial Features: Best Alpha and Model Scores\\n\\n')\n",
    "print(f'Best Alpha: {list(best_alpha_pipelasso.values())[0]}')\n",
    "print('Train MSE:',np.around(train_mse_pipelasso,2))\n",
    "print('Train r2 score:', np.around(train_r2score_pipelasso,2))\n",
    "print('Test MSE:',np.around(test_mse_pipelasso,2))\n",
    "print('Test RMSE:', np.around(np.sqrt(test_mse_pipelasso),2))\n",
    "print('Test r2 score:', np.around(test_r2score_pipelasso,2))"
   ]
  },
  {
   "cell_type": "code",
   "execution_count": 72,
   "metadata": {},
   "outputs": [
    {
     "name": "stderr",
     "output_type": "stream",
     "text": [
      "C:\\Users\\subha\\anaconda3\\lib\\site-packages\\sklearn\\linear_model\\_coordinate_descent.py:647: ConvergenceWarning: Objective did not converge. You might want to increase the number of iterations, check the scale of the features or consider increasing regularisation. Duality gap: 3.587e+12, tolerance: 3.968e+09\n",
      "  model = cd_fast.enet_coordinate_descent(\n"
     ]
    },
    {
     "data": {
      "text/html": [
       "<div>\n",
       "<style scoped>\n",
       "    .dataframe tbody tr th:only-of-type {\n",
       "        vertical-align: middle;\n",
       "    }\n",
       "\n",
       "    .dataframe tbody tr th {\n",
       "        vertical-align: top;\n",
       "    }\n",
       "\n",
       "    .dataframe thead th {\n",
       "        text-align: right;\n",
       "    }\n",
       "</style>\n",
       "<table border=\"1\" class=\"dataframe\">\n",
       "  <thead>\n",
       "    <tr style=\"text-align: right;\">\n",
       "      <th></th>\n",
       "      <th>Features</th>\n",
       "      <th>Lasso Coefficients</th>\n",
       "    </tr>\n",
       "  </thead>\n",
       "  <tbody>\n",
       "    <tr>\n",
       "      <th>4</th>\n",
       "      <td>odometer</td>\n",
       "      <td>-10330.431933</td>\n",
       "    </tr>\n",
       "    <tr>\n",
       "      <th>2</th>\n",
       "      <td>model</td>\n",
       "      <td>4958.082608</td>\n",
       "    </tr>\n",
       "    <tr>\n",
       "      <th>36</th>\n",
       "      <td>odometer transmission</td>\n",
       "      <td>4514.750266</td>\n",
       "    </tr>\n",
       "    <tr>\n",
       "      <th>30</th>\n",
       "      <td>fuel odometer</td>\n",
       "      <td>3598.961859</td>\n",
       "    </tr>\n",
       "    <tr>\n",
       "      <th>29</th>\n",
       "      <td>fuel^2</td>\n",
       "      <td>3456.538194</td>\n",
       "    </tr>\n",
       "    <tr>\n",
       "      <th>8</th>\n",
       "      <td>year^2</td>\n",
       "      <td>3405.894405</td>\n",
       "    </tr>\n",
       "    <tr>\n",
       "      <th>26</th>\n",
       "      <td>model title_status</td>\n",
       "      <td>3382.715181</td>\n",
       "    </tr>\n",
       "    <tr>\n",
       "      <th>24</th>\n",
       "      <td>model fuel</td>\n",
       "      <td>3381.878935</td>\n",
       "    </tr>\n",
       "    <tr>\n",
       "      <th>35</th>\n",
       "      <td>odometer title_status</td>\n",
       "      <td>-3216.264254</td>\n",
       "    </tr>\n",
       "    <tr>\n",
       "      <th>32</th>\n",
       "      <td>fuel transmission</td>\n",
       "      <td>-3191.374398</td>\n",
       "    </tr>\n",
       "    <tr>\n",
       "      <th>34</th>\n",
       "      <td>odometer^2</td>\n",
       "      <td>2551.410524</td>\n",
       "    </tr>\n",
       "    <tr>\n",
       "      <th>6</th>\n",
       "      <td>transmission</td>\n",
       "      <td>2491.613523</td>\n",
       "    </tr>\n",
       "    <tr>\n",
       "      <th>12</th>\n",
       "      <td>year odometer</td>\n",
       "      <td>2182.688690</td>\n",
       "    </tr>\n",
       "    <tr>\n",
       "      <th>25</th>\n",
       "      <td>model odometer</td>\n",
       "      <td>-2102.178819</td>\n",
       "    </tr>\n",
       "    <tr>\n",
       "      <th>3</th>\n",
       "      <td>fuel</td>\n",
       "      <td>-2101.432873</td>\n",
       "    </tr>\n",
       "    <tr>\n",
       "      <th>19</th>\n",
       "      <td>manufacturer odometer</td>\n",
       "      <td>-1980.416477</td>\n",
       "    </tr>\n",
       "    <tr>\n",
       "      <th>42</th>\n",
       "      <td>transmission state</td>\n",
       "      <td>-1901.964542</td>\n",
       "    </tr>\n",
       "    <tr>\n",
       "      <th>10</th>\n",
       "      <td>year model</td>\n",
       "      <td>-1802.043136</td>\n",
       "    </tr>\n",
       "    <tr>\n",
       "      <th>21</th>\n",
       "      <td>manufacturer transmission</td>\n",
       "      <td>-1694.791699</td>\n",
       "    </tr>\n",
       "    <tr>\n",
       "      <th>27</th>\n",
       "      <td>model transmission</td>\n",
       "      <td>1690.833448</td>\n",
       "    </tr>\n",
       "    <tr>\n",
       "      <th>40</th>\n",
       "      <td>title_status state</td>\n",
       "      <td>1676.669999</td>\n",
       "    </tr>\n",
       "    <tr>\n",
       "      <th>0</th>\n",
       "      <td>year</td>\n",
       "      <td>-1517.856444</td>\n",
       "    </tr>\n",
       "    <tr>\n",
       "      <th>22</th>\n",
       "      <td>manufacturer state</td>\n",
       "      <td>1348.527548</td>\n",
       "    </tr>\n",
       "    <tr>\n",
       "      <th>23</th>\n",
       "      <td>model^2</td>\n",
       "      <td>-1206.188712</td>\n",
       "    </tr>\n",
       "    <tr>\n",
       "      <th>41</th>\n",
       "      <td>transmission^2</td>\n",
       "      <td>-1059.614939</td>\n",
       "    </tr>\n",
       "    <tr>\n",
       "      <th>20</th>\n",
       "      <td>manufacturer title_status</td>\n",
       "      <td>1030.995123</td>\n",
       "    </tr>\n",
       "    <tr>\n",
       "      <th>5</th>\n",
       "      <td>title_status</td>\n",
       "      <td>-932.096841</td>\n",
       "    </tr>\n",
       "    <tr>\n",
       "      <th>38</th>\n",
       "      <td>title_status^2</td>\n",
       "      <td>805.248216</td>\n",
       "    </tr>\n",
       "    <tr>\n",
       "      <th>31</th>\n",
       "      <td>fuel title_status</td>\n",
       "      <td>-746.963414</td>\n",
       "    </tr>\n",
       "    <tr>\n",
       "      <th>16</th>\n",
       "      <td>manufacturer^2</td>\n",
       "      <td>-677.276992</td>\n",
       "    </tr>\n",
       "    <tr>\n",
       "      <th>9</th>\n",
       "      <td>year manufacturer</td>\n",
       "      <td>666.697991</td>\n",
       "    </tr>\n",
       "    <tr>\n",
       "      <th>18</th>\n",
       "      <td>manufacturer fuel</td>\n",
       "      <td>635.946921</td>\n",
       "    </tr>\n",
       "    <tr>\n",
       "      <th>14</th>\n",
       "      <td>year transmission</td>\n",
       "      <td>626.014072</td>\n",
       "    </tr>\n",
       "    <tr>\n",
       "      <th>17</th>\n",
       "      <td>manufacturer model</td>\n",
       "      <td>-502.874896</td>\n",
       "    </tr>\n",
       "    <tr>\n",
       "      <th>39</th>\n",
       "      <td>title_status transmission</td>\n",
       "      <td>-441.642485</td>\n",
       "    </tr>\n",
       "    <tr>\n",
       "      <th>28</th>\n",
       "      <td>model state</td>\n",
       "      <td>-419.691394</td>\n",
       "    </tr>\n",
       "    <tr>\n",
       "      <th>7</th>\n",
       "      <td>state</td>\n",
       "      <td>-367.145497</td>\n",
       "    </tr>\n",
       "    <tr>\n",
       "      <th>33</th>\n",
       "      <td>fuel state</td>\n",
       "      <td>-295.736550</td>\n",
       "    </tr>\n",
       "    <tr>\n",
       "      <th>37</th>\n",
       "      <td>odometer state</td>\n",
       "      <td>-267.695459</td>\n",
       "    </tr>\n",
       "    <tr>\n",
       "      <th>43</th>\n",
       "      <td>state^2</td>\n",
       "      <td>120.723035</td>\n",
       "    </tr>\n",
       "    <tr>\n",
       "      <th>11</th>\n",
       "      <td>year fuel</td>\n",
       "      <td>-0.000000</td>\n",
       "    </tr>\n",
       "    <tr>\n",
       "      <th>13</th>\n",
       "      <td>year title_status</td>\n",
       "      <td>-0.000000</td>\n",
       "    </tr>\n",
       "    <tr>\n",
       "      <th>1</th>\n",
       "      <td>manufacturer</td>\n",
       "      <td>-0.000000</td>\n",
       "    </tr>\n",
       "    <tr>\n",
       "      <th>15</th>\n",
       "      <td>year state</td>\n",
       "      <td>-0.000000</td>\n",
       "    </tr>\n",
       "  </tbody>\n",
       "</table>\n",
       "</div>"
      ],
      "text/plain": [
       "                     Features  Lasso Coefficients\n",
       "4                    odometer       -10330.431933\n",
       "2                       model         4958.082608\n",
       "36      odometer transmission         4514.750266\n",
       "30              fuel odometer         3598.961859\n",
       "29                     fuel^2         3456.538194\n",
       "8                      year^2         3405.894405\n",
       "26         model title_status         3382.715181\n",
       "24                 model fuel         3381.878935\n",
       "35      odometer title_status        -3216.264254\n",
       "32          fuel transmission        -3191.374398\n",
       "34                 odometer^2         2551.410524\n",
       "6                transmission         2491.613523\n",
       "12              year odometer         2182.688690\n",
       "25             model odometer        -2102.178819\n",
       "3                        fuel        -2101.432873\n",
       "19      manufacturer odometer        -1980.416477\n",
       "42         transmission state        -1901.964542\n",
       "10                 year model        -1802.043136\n",
       "21  manufacturer transmission        -1694.791699\n",
       "27         model transmission         1690.833448\n",
       "40         title_status state         1676.669999\n",
       "0                        year        -1517.856444\n",
       "22         manufacturer state         1348.527548\n",
       "23                    model^2        -1206.188712\n",
       "41             transmission^2        -1059.614939\n",
       "20  manufacturer title_status         1030.995123\n",
       "5                title_status         -932.096841\n",
       "38             title_status^2          805.248216\n",
       "31          fuel title_status         -746.963414\n",
       "16             manufacturer^2         -677.276992\n",
       "9           year manufacturer          666.697991\n",
       "18          manufacturer fuel          635.946921\n",
       "14          year transmission          626.014072\n",
       "17         manufacturer model         -502.874896\n",
       "39  title_status transmission         -441.642485\n",
       "28                model state         -419.691394\n",
       "7                       state         -367.145497\n",
       "33                 fuel state         -295.736550\n",
       "37             odometer state         -267.695459\n",
       "43                    state^2          120.723035\n",
       "11                  year fuel           -0.000000\n",
       "13          year title_status           -0.000000\n",
       "1                manufacturer           -0.000000\n",
       "15                 year state           -0.000000"
      ]
     },
     "execution_count": 72,
     "metadata": {},
     "output_type": "execute_result"
    }
   ],
   "source": [
    "# pipeline with 2nd degree polynomial, standard scaler and  lasso model from above with best alpha = 1.0 as obtained from GridSearch CV\n",
    "pipe_lasso = Pipeline([('pfeat', PolynomialFeatures(degree = 2, include_bias=False)), ('scaler', StandardScaler()), \n",
    "                     ('lasso', Lasso(alpha=1.0, random_state=123))])\n",
    "pipe_lasso.fit(X_train, y_train)\n",
    "lasso_coefs = pipe_lasso.named_steps['lasso'].coef_\n",
    "\n",
    "list_lasso_coeff = list((zip(pipe_lasso.named_steps['pfeat'].get_feature_names_out(), pipe_lasso.named_steps['lasso'].coef_)))\n",
    "\n",
    "df_lasso_coeff = pd.DataFrame(list_lasso_coeff, columns = [' Features', 'Lasso Coefficients'])\n",
    "\n",
    "# listing the features with  lasso coefficients\n",
    "\n",
    "df_lasso_coeff.sort_values(by='Lasso Coefficients', ascending=False, key=abs)"
   ]
  },
  {
   "cell_type": "markdown",
   "metadata": {},
   "source": [
    "Lasso model with second degree polynomial did not perform as good as the linear regression model with second degree polynomial. Also from feature reduction standpoint, with the second order model, Lasso did not appear as helpful as only four features from the second order model, namely year * fuel, year * title_status, manufacturer and year * state had zero coefficients."
   ]
  },
  {
   "cell_type": "markdown",
   "metadata": {},
   "source": [
    "### Best Predictive Model"
   ]
  },
  {
   "cell_type": "markdown",
   "metadata": {},
   "source": [
    "The best predictive model based on mean-squared error as well as r2 score seems to be the linear regression model with 2nd degree polynomial features."
   ]
  },
  {
   "cell_type": "code",
   "execution_count": 73,
   "metadata": {},
   "outputs": [
    {
     "name": "stdout",
     "output_type": "stream",
     "text": [
      "Best predictive model based on above evaluations : Linear Regression with 2nd order Polynomial Features\n",
      "\n",
      "\n",
      "Train MSE for Best Model:  34174552.49\n",
      "Train r2 score for Best Model:  0.78\n",
      "Test MSE for Best Model:  34768913.41\n",
      "Test RMSE for Best Model:  5896.52\n",
      "Test r2 score for Best Model :  0.78\n"
     ]
    },
    {
     "data": {
      "text/html": [
       "<div>\n",
       "<style scoped>\n",
       "    .dataframe tbody tr th:only-of-type {\n",
       "        vertical-align: middle;\n",
       "    }\n",
       "\n",
       "    .dataframe tbody tr th {\n",
       "        vertical-align: top;\n",
       "    }\n",
       "\n",
       "    .dataframe thead th {\n",
       "        text-align: right;\n",
       "    }\n",
       "</style>\n",
       "<table border=\"1\" class=\"dataframe\">\n",
       "  <thead>\n",
       "    <tr style=\"text-align: right;\">\n",
       "      <th></th>\n",
       "      <th>Features</th>\n",
       "      <th>Regression Coefficients</th>\n",
       "    </tr>\n",
       "  </thead>\n",
       "  <tbody>\n",
       "    <tr>\n",
       "      <th>0</th>\n",
       "      <td>year</td>\n",
       "      <td>-336727.831693</td>\n",
       "    </tr>\n",
       "    <tr>\n",
       "      <th>8</th>\n",
       "      <td>year^2</td>\n",
       "      <td>332778.280570</td>\n",
       "    </tr>\n",
       "    <tr>\n",
       "      <th>10</th>\n",
       "      <td>year model</td>\n",
       "      <td>230565.468456</td>\n",
       "    </tr>\n",
       "    <tr>\n",
       "      <th>2</th>\n",
       "      <td>model</td>\n",
       "      <td>-225886.166781</td>\n",
       "    </tr>\n",
       "    <tr>\n",
       "      <th>3</th>\n",
       "      <td>fuel</td>\n",
       "      <td>-167208.599444</td>\n",
       "    </tr>\n",
       "    <tr>\n",
       "      <th>11</th>\n",
       "      <td>year fuel</td>\n",
       "      <td>147629.839462</td>\n",
       "    </tr>\n",
       "    <tr>\n",
       "      <th>9</th>\n",
       "      <td>year manufacturer</td>\n",
       "      <td>135233.983653</td>\n",
       "    </tr>\n",
       "    <tr>\n",
       "      <th>1</th>\n",
       "      <td>manufacturer</td>\n",
       "      <td>-133375.026757</td>\n",
       "    </tr>\n",
       "    <tr>\n",
       "      <th>14</th>\n",
       "      <td>year transmission</td>\n",
       "      <td>-126923.406007</td>\n",
       "    </tr>\n",
       "    <tr>\n",
       "      <th>6</th>\n",
       "      <td>transmission</td>\n",
       "      <td>125282.798711</td>\n",
       "    </tr>\n",
       "    <tr>\n",
       "      <th>12</th>\n",
       "      <td>year odometer</td>\n",
       "      <td>-56906.581564</td>\n",
       "    </tr>\n",
       "    <tr>\n",
       "      <th>4</th>\n",
       "      <td>odometer</td>\n",
       "      <td>51185.228727</td>\n",
       "    </tr>\n",
       "    <tr>\n",
       "      <th>7</th>\n",
       "      <td>state</td>\n",
       "      <td>-40535.303134</td>\n",
       "    </tr>\n",
       "    <tr>\n",
       "      <th>15</th>\n",
       "      <td>year state</td>\n",
       "      <td>38927.088682</td>\n",
       "    </tr>\n",
       "    <tr>\n",
       "      <th>29</th>\n",
       "      <td>fuel^2</td>\n",
       "      <td>19135.857715</td>\n",
       "    </tr>\n",
       "    <tr>\n",
       "      <th>5</th>\n",
       "      <td>title_status</td>\n",
       "      <td>-5479.042021</td>\n",
       "    </tr>\n",
       "    <tr>\n",
       "      <th>35</th>\n",
       "      <td>odometer title_status</td>\n",
       "      <td>-4127.713011</td>\n",
       "    </tr>\n",
       "    <tr>\n",
       "      <th>36</th>\n",
       "      <td>odometer transmission</td>\n",
       "      <td>4035.733903</td>\n",
       "    </tr>\n",
       "    <tr>\n",
       "      <th>13</th>\n",
       "      <td>year title_status</td>\n",
       "      <td>3931.795467</td>\n",
       "    </tr>\n",
       "    <tr>\n",
       "      <th>26</th>\n",
       "      <td>model title_status</td>\n",
       "      <td>3537.294993</td>\n",
       "    </tr>\n",
       "    <tr>\n",
       "      <th>30</th>\n",
       "      <td>fuel odometer</td>\n",
       "      <td>3453.700032</td>\n",
       "    </tr>\n",
       "    <tr>\n",
       "      <th>40</th>\n",
       "      <td>title_status state</td>\n",
       "      <td>2698.863217</td>\n",
       "    </tr>\n",
       "    <tr>\n",
       "      <th>32</th>\n",
       "      <td>fuel transmission</td>\n",
       "      <td>-2299.409226</td>\n",
       "    </tr>\n",
       "    <tr>\n",
       "      <th>27</th>\n",
       "      <td>model transmission</td>\n",
       "      <td>2156.596677</td>\n",
       "    </tr>\n",
       "    <tr>\n",
       "      <th>21</th>\n",
       "      <td>manufacturer transmission</td>\n",
       "      <td>-2078.901942</td>\n",
       "    </tr>\n",
       "    <tr>\n",
       "      <th>42</th>\n",
       "      <td>transmission state</td>\n",
       "      <td>-2070.274566</td>\n",
       "    </tr>\n",
       "    <tr>\n",
       "      <th>41</th>\n",
       "      <td>transmission^2</td>\n",
       "      <td>1926.960060</td>\n",
       "    </tr>\n",
       "    <tr>\n",
       "      <th>24</th>\n",
       "      <td>model fuel</td>\n",
       "      <td>1912.545413</td>\n",
       "    </tr>\n",
       "    <tr>\n",
       "      <th>23</th>\n",
       "      <td>model^2</td>\n",
       "      <td>-1670.432411</td>\n",
       "    </tr>\n",
       "    <tr>\n",
       "      <th>25</th>\n",
       "      <td>model odometer</td>\n",
       "      <td>-1478.955928</td>\n",
       "    </tr>\n",
       "    <tr>\n",
       "      <th>34</th>\n",
       "      <td>odometer^2</td>\n",
       "      <td>1359.432123</td>\n",
       "    </tr>\n",
       "    <tr>\n",
       "      <th>19</th>\n",
       "      <td>manufacturer odometer</td>\n",
       "      <td>-1314.555888</td>\n",
       "    </tr>\n",
       "    <tr>\n",
       "      <th>31</th>\n",
       "      <td>fuel title_status</td>\n",
       "      <td>1264.952919</td>\n",
       "    </tr>\n",
       "    <tr>\n",
       "      <th>16</th>\n",
       "      <td>manufacturer^2</td>\n",
       "      <td>-1041.605690</td>\n",
       "    </tr>\n",
       "    <tr>\n",
       "      <th>22</th>\n",
       "      <td>manufacturer state</td>\n",
       "      <td>981.709800</td>\n",
       "    </tr>\n",
       "    <tr>\n",
       "      <th>17</th>\n",
       "      <td>manufacturer model</td>\n",
       "      <td>-966.477434</td>\n",
       "    </tr>\n",
       "    <tr>\n",
       "      <th>20</th>\n",
       "      <td>manufacturer title_status</td>\n",
       "      <td>852.664638</td>\n",
       "    </tr>\n",
       "    <tr>\n",
       "      <th>28</th>\n",
       "      <td>model state</td>\n",
       "      <td>-673.237140</td>\n",
       "    </tr>\n",
       "    <tr>\n",
       "      <th>18</th>\n",
       "      <td>manufacturer fuel</td>\n",
       "      <td>661.690240</td>\n",
       "    </tr>\n",
       "    <tr>\n",
       "      <th>43</th>\n",
       "      <td>state^2</td>\n",
       "      <td>556.845154</td>\n",
       "    </tr>\n",
       "    <tr>\n",
       "      <th>39</th>\n",
       "      <td>title_status transmission</td>\n",
       "      <td>492.433432</td>\n",
       "    </tr>\n",
       "    <tr>\n",
       "      <th>37</th>\n",
       "      <td>odometer state</td>\n",
       "      <td>201.858247</td>\n",
       "    </tr>\n",
       "    <tr>\n",
       "      <th>38</th>\n",
       "      <td>title_status^2</td>\n",
       "      <td>158.631742</td>\n",
       "    </tr>\n",
       "    <tr>\n",
       "      <th>33</th>\n",
       "      <td>fuel state</td>\n",
       "      <td>79.006321</td>\n",
       "    </tr>\n",
       "  </tbody>\n",
       "</table>\n",
       "</div>"
      ],
      "text/plain": [
       "                     Features  Regression Coefficients\n",
       "0                        year           -336727.831693\n",
       "8                      year^2            332778.280570\n",
       "10                 year model            230565.468456\n",
       "2                       model           -225886.166781\n",
       "3                        fuel           -167208.599444\n",
       "11                  year fuel            147629.839462\n",
       "9           year manufacturer            135233.983653\n",
       "1                manufacturer           -133375.026757\n",
       "14          year transmission           -126923.406007\n",
       "6                transmission            125282.798711\n",
       "12              year odometer            -56906.581564\n",
       "4                    odometer             51185.228727\n",
       "7                       state            -40535.303134\n",
       "15                 year state             38927.088682\n",
       "29                     fuel^2             19135.857715\n",
       "5                title_status             -5479.042021\n",
       "35      odometer title_status             -4127.713011\n",
       "36      odometer transmission              4035.733903\n",
       "13          year title_status              3931.795467\n",
       "26         model title_status              3537.294993\n",
       "30              fuel odometer              3453.700032\n",
       "40         title_status state              2698.863217\n",
       "32          fuel transmission             -2299.409226\n",
       "27         model transmission              2156.596677\n",
       "21  manufacturer transmission             -2078.901942\n",
       "42         transmission state             -2070.274566\n",
       "41             transmission^2              1926.960060\n",
       "24                 model fuel              1912.545413\n",
       "23                    model^2             -1670.432411\n",
       "25             model odometer             -1478.955928\n",
       "34                 odometer^2              1359.432123\n",
       "19      manufacturer odometer             -1314.555888\n",
       "31          fuel title_status              1264.952919\n",
       "16             manufacturer^2             -1041.605690\n",
       "22         manufacturer state               981.709800\n",
       "17         manufacturer model              -966.477434\n",
       "20  manufacturer title_status               852.664638\n",
       "28                model state              -673.237140\n",
       "18          manufacturer fuel               661.690240\n",
       "43                    state^2               556.845154\n",
       "39  title_status transmission               492.433432\n",
       "37             odometer state               201.858247\n",
       "38             title_status^2               158.631742\n",
       "33                 fuel state                79.006321"
      ]
     },
     "execution_count": 73,
     "metadata": {},
     "output_type": "execute_result"
    }
   ],
   "source": [
    "pipe_BestModel = Pipeline([('pfeat', PolynomialFeatures(degree = 2, include_bias=False)),\n",
    "                  ('scale', StandardScaler()),\n",
    "                  ('linreg', LinearRegression())])\n",
    "\n",
    "\n",
    "pipe_BestModel.fit(X_train, y_train)\n",
    "BestModel_coefs = pipe_BestModel.named_steps['linreg'].coef_\n",
    "\n",
    "list_reg_coeff = list((zip(pipe_BestModel.named_steps['pfeat'].get_feature_names_out(), pipe_BestModel.named_steps['linreg'].coef_)))\n",
    "\n",
    "df_BestModel_coeff = pd.DataFrame(list_reg_coeff, columns = [' Features', 'Regression Coefficients'])\n",
    "\n",
    "\n",
    "train_preds_BestModel = pipe_BestModel.predict(X_train)\n",
    "y_preds_BestModel = pipe_BestModel.predict(X_test)\n",
    "train_mse_BestModel = mean_squared_error(y_train, train_preds_BestModel)\n",
    "train_r2score_BestModel = r2_score(y_train, train_preds_BestModel)\n",
    "test_mse_BestModel = mean_squared_error(y_test, y_preds_BestModel)\n",
    "test_r2score_BestModel = r2_score(y_test, y_preds_BestModel)\n",
    "\n",
    "print('Best predictive model based on above evaluations : Linear Regression with 2nd order Polynomial Features\\n\\n')\n",
    "print(f'Train MSE for Best Model: {train_mse_BestModel: .2f}')\n",
    "print(f'Train r2 score for Best Model: {train_r2score_BestModel: .2f}')\n",
    "print(f'Test MSE for Best Model: {test_mse_BestModel: .2f}')\n",
    "print(f'Test RMSE for Best Model: {np.sqrt(test_mse_BestModel): .2f}')\n",
    "print(f'Test r2 score for Best Model : {test_r2score_BestModel: .2f}')\n",
    "\n",
    "\n",
    "\n",
    "# listing the features based on magnitude of coefficients\n",
    "\n",
    "df_BestModel_coeff.sort_values(by='Regression Coefficients', ascending=False, key=abs)\n"
   ]
  },
  {
   "cell_type": "markdown",
   "metadata": {},
   "source": [
    "While the above model seems to get the do the best job at prediction based on the lowest MSE, it's not the easiest to interpret due to the complexity: for example the greatest positive coefficient is associated with year^2 but that alone does not explain the impact of year as there are other terms containing the variable 'year' either by itself or as a product of year and other variables. To get a sense of the relative importance of different features we apply permutation feature importance analysis to this model."
   ]
  },
  {
   "cell_type": "markdown",
   "metadata": {},
   "source": [
    "#### Permutation Feature Importance Analysis to identify high impact features for the 'best' predictive model"
   ]
  },
  {
   "cell_type": "code",
   "execution_count": 74,
   "metadata": {},
   "outputs": [
    {
     "name": "stdout",
     "output_type": "stream",
     "text": [
      "r2\n",
      "    model   :   0.581 +/- 0.003\n",
      "    year    :   0.172 +/- 0.002\n",
      "    odometer:   0.155 +/- 0.002\n",
      "    transmission:   0.043 +/- 0.001\n",
      "    fuel    :   0.043 +/- 0.001\n",
      "    manufacturer:   0.012 +/- 0.000\n",
      "    title_status:   0.011 +/- 0.000\n",
      "    state   :   0.006 +/- 0.000\n",
      "neg_mean_absolute_percentage_error\n",
      "    model   :   0.402 +/- 0.003\n",
      "    odometer:   0.205 +/- 0.003\n",
      "    year    :   0.183 +/- 0.002\n",
      "    transmission:   0.034 +/- 0.001\n",
      "    fuel    :   0.026 +/- 0.001\n",
      "    title_status:   0.011 +/- 0.001\n",
      "    manufacturer:   0.009 +/- 0.001\n",
      "    state   :   0.008 +/- 0.000\n",
      "neg_mean_squared_error\n",
      "    model   :   91342721.779 +/- 459620.918\n",
      "    year    :   26984415.548 +/- 239674.192\n",
      "    odometer:   24307979.473 +/- 243604.737\n",
      "    transmission:   6785544.901 +/- 86889.602\n",
      "    fuel    :   6735853.617 +/- 81313.039\n",
      "    manufacturer:   1840768.305 +/- 52190.469\n",
      "    title_status:   1725386.463 +/- 43361.966\n",
      "    state   :   960289.676 +/- 34660.013\n"
     ]
    }
   ],
   "source": [
    "scoring = ['r2', 'neg_mean_absolute_percentage_error', 'neg_mean_squared_error']\n",
    "r_multi = permutation_importance(pipe_BestModel, X_test, y_test, n_repeats=30, random_state=0, scoring=scoring)\n",
    "\n",
    "for metric in r_multi:\n",
    "    print(f\"{metric}\")\n",
    "    r = r_multi[metric]\n",
    "    for i in r.importances_mean.argsort()[::-1]:\n",
    "             if r.importances_mean[i] - 2 * r.importances_std[i] > 0:\n",
    "                print(f\"    {X_test.columns[i]:<8}:   \"\n",
    "                        f\"{r.importances_mean[i]:.3f}\"\n",
    "                            f\" +/- {r.importances_std[i]:.3f}\")"
   ]
  },
  {
   "cell_type": "markdown",
   "metadata": {},
   "source": [
    "From the above permutation feature importance analysis it becomes clear that the same set of features identified as high impact based on simpler regression models turn out to be the most influential in terms of impact on model performance with our 'best' predictive model (2nd order Polynomial Features with Linear Regression). The top five features with most impact on price (ranked based on permutation importance with r2 score and negative mean squared error as scoring criteria), in order of their impact (highest impact first) are:\n",
    "\n",
    "##### 1) model\n",
    "\n",
    "##### 2) year\n",
    "\n",
    "##### 3) odometer\n",
    "\n",
    "##### 4) transmission\n",
    "\n",
    "##### 5) fuel"
   ]
  },
  {
   "cell_type": "markdown",
   "metadata": {},
   "source": [
    "#### Building a polynomial model of degree=2 with only the five top features (combining best complexity with top 5 features)"
   ]
  },
  {
   "cell_type": "code",
   "execution_count": 75,
   "metadata": {},
   "outputs": [],
   "source": [
    "y5 = df['price']  #target variable\n",
    "X5 = df[['model', 'year', 'odometer', 'transmission', 'fuel']] #top five input features\n",
    "\n",
    "# split into train/test data: X_tr is the input training set without encoding, X_te is the test set without encoding\n",
    "X5_tr, X5_te, y5_train, y5_test = train_test_split(X5, y5, random_state = 42)\n",
    "\n",
    "\n",
    "#Encode categorical features using Leave One out Encoding: The Encoding for test data is done without using test values of target variable\n",
    "encoder = ce.LeaveOneOutEncoder(return_df=True)\n",
    "\n",
    "#X_train is the training dataset after leave one out encoder has been applied to categorical features\n",
    "X5_train = encoder.fit_transform(X5_tr, y5_train)\n",
    "\n",
    "# the test set is encoded without utilizing values of y_test\n",
    "X5_test = encoder.transform(X5_te)\n"
   ]
  },
  {
   "cell_type": "code",
   "execution_count": 76,
   "metadata": {},
   "outputs": [
    {
     "name": "stdout",
     "output_type": "stream",
     "text": [
      " Predictive model based on only five \"best\" features : Linear Regression with 2nd order Polynomial Features\n",
      "\n",
      "\n",
      "Train MSE for Best Model:  35960882.20\n",
      "Train r2 score for Best Model:  0.77\n",
      "Test MSE for Best Model:  36686363.10\n",
      "Test RMSE for Best Model:  6056.93\n",
      "Test r2 score for Best Model :  0.77\n"
     ]
    },
    {
     "data": {
      "text/html": [
       "<div>\n",
       "<style scoped>\n",
       "    .dataframe tbody tr th:only-of-type {\n",
       "        vertical-align: middle;\n",
       "    }\n",
       "\n",
       "    .dataframe tbody tr th {\n",
       "        vertical-align: top;\n",
       "    }\n",
       "\n",
       "    .dataframe thead th {\n",
       "        text-align: right;\n",
       "    }\n",
       "</style>\n",
       "<table border=\"1\" class=\"dataframe\">\n",
       "  <thead>\n",
       "    <tr style=\"text-align: right;\">\n",
       "      <th></th>\n",
       "      <th>Features</th>\n",
       "      <th>Regression Coefficients</th>\n",
       "    </tr>\n",
       "  </thead>\n",
       "  <tbody>\n",
       "    <tr>\n",
       "      <th>1</th>\n",
       "      <td>year</td>\n",
       "      <td>-331698.492249</td>\n",
       "    </tr>\n",
       "    <tr>\n",
       "      <th>10</th>\n",
       "      <td>year^2</td>\n",
       "      <td>331050.756603</td>\n",
       "    </tr>\n",
       "    <tr>\n",
       "      <th>6</th>\n",
       "      <td>model year</td>\n",
       "      <td>296051.041907</td>\n",
       "    </tr>\n",
       "    <tr>\n",
       "      <th>0</th>\n",
       "      <td>model</td>\n",
       "      <td>-286895.741792</td>\n",
       "    </tr>\n",
       "    <tr>\n",
       "      <th>4</th>\n",
       "      <td>fuel</td>\n",
       "      <td>-181768.609980</td>\n",
       "    </tr>\n",
       "    <tr>\n",
       "      <th>13</th>\n",
       "      <td>year fuel</td>\n",
       "      <td>163444.316593</td>\n",
       "    </tr>\n",
       "    <tr>\n",
       "      <th>12</th>\n",
       "      <td>year transmission</td>\n",
       "      <td>-127945.555628</td>\n",
       "    </tr>\n",
       "    <tr>\n",
       "      <th>3</th>\n",
       "      <td>transmission</td>\n",
       "      <td>124681.948258</td>\n",
       "    </tr>\n",
       "    <tr>\n",
       "      <th>11</th>\n",
       "      <td>year odometer</td>\n",
       "      <td>-54026.119665</td>\n",
       "    </tr>\n",
       "    <tr>\n",
       "      <th>2</th>\n",
       "      <td>odometer</td>\n",
       "      <td>43512.930851</td>\n",
       "    </tr>\n",
       "    <tr>\n",
       "      <th>19</th>\n",
       "      <td>fuel^2</td>\n",
       "      <td>19744.081885</td>\n",
       "    </tr>\n",
       "    <tr>\n",
       "      <th>15</th>\n",
       "      <td>odometer transmission</td>\n",
       "      <td>4227.962207</td>\n",
       "    </tr>\n",
       "    <tr>\n",
       "      <th>16</th>\n",
       "      <td>odometer fuel</td>\n",
       "      <td>3471.688528</td>\n",
       "    </tr>\n",
       "    <tr>\n",
       "      <th>5</th>\n",
       "      <td>model^2</td>\n",
       "      <td>-2622.907976</td>\n",
       "    </tr>\n",
       "    <tr>\n",
       "      <th>18</th>\n",
       "      <td>transmission fuel</td>\n",
       "      <td>-2573.702485</td>\n",
       "    </tr>\n",
       "    <tr>\n",
       "      <th>9</th>\n",
       "      <td>model fuel</td>\n",
       "      <td>1976.526915</td>\n",
       "    </tr>\n",
       "    <tr>\n",
       "      <th>7</th>\n",
       "      <td>model odometer</td>\n",
       "      <td>-1942.344084</td>\n",
       "    </tr>\n",
       "    <tr>\n",
       "      <th>8</th>\n",
       "      <td>model transmission</td>\n",
       "      <td>1396.097193</td>\n",
       "    </tr>\n",
       "    <tr>\n",
       "      <th>14</th>\n",
       "      <td>odometer^2</td>\n",
       "      <td>1246.097321</td>\n",
       "    </tr>\n",
       "    <tr>\n",
       "      <th>17</th>\n",
       "      <td>transmission^2</td>\n",
       "      <td>1008.734067</td>\n",
       "    </tr>\n",
       "  </tbody>\n",
       "</table>\n",
       "</div>"
      ],
      "text/plain": [
       "                 Features  Regression Coefficients\n",
       "1                    year           -331698.492249\n",
       "10                 year^2            331050.756603\n",
       "6              model year            296051.041907\n",
       "0                   model           -286895.741792\n",
       "4                    fuel           -181768.609980\n",
       "13              year fuel            163444.316593\n",
       "12      year transmission           -127945.555628\n",
       "3            transmission            124681.948258\n",
       "11          year odometer            -54026.119665\n",
       "2                odometer             43512.930851\n",
       "19                 fuel^2             19744.081885\n",
       "15  odometer transmission              4227.962207\n",
       "16          odometer fuel              3471.688528\n",
       "5                 model^2             -2622.907976\n",
       "18      transmission fuel             -2573.702485\n",
       "9              model fuel              1976.526915\n",
       "7          model odometer             -1942.344084\n",
       "8      model transmission              1396.097193\n",
       "14             odometer^2              1246.097321\n",
       "17         transmission^2              1008.734067"
      ]
     },
     "execution_count": 76,
     "metadata": {},
     "output_type": "execute_result"
    }
   ],
   "source": [
    "pipe_BestModel5 = Pipeline([('pfeat', PolynomialFeatures(degree = 2, include_bias=False)),\n",
    "                  ('scale', StandardScaler()),\n",
    "                  ('linreg', LinearRegression())])\n",
    "\n",
    "pipe_BestModel5.fit(X5_train, y5_train)\n",
    "BestModel_coefs5 = pipe_BestModel5.named_steps['linreg'].coef_\n",
    "\n",
    "list_reg_coeff5 = list((zip(pipe_BestModel5.named_steps['pfeat'].get_feature_names_out(), pipe_BestModel5.named_steps['linreg'].coef_)))\n",
    "\n",
    "df_BestModel_coeff5 = pd.DataFrame(list_reg_coeff5, columns = [' Features', 'Regression Coefficients'])\n",
    "\n",
    "\n",
    "train_preds_BestModel5 = pipe_BestModel5.predict(X5_train)\n",
    "y_preds_BestModel5 = pipe_BestModel5.predict(X5_test)\n",
    "train_mse_BestModel5 = mean_squared_error(y5_train, train_preds_BestModel5)\n",
    "train_r2score_BestModel5 = r2_score(y5_train, train_preds_BestModel5)\n",
    "test_mse_BestModel5 = mean_squared_error(y5_test, y_preds_BestModel5)\n",
    "test_r2score_BestModel5 = r2_score(y5_test, y_preds_BestModel5)\n",
    "\n",
    "print(' Predictive model based on only five \"best\" features : Linear Regression with 2nd order Polynomial Features\\n\\n')\n",
    "print(f'Train MSE for Best Model: {train_mse_BestModel5: .2f}')\n",
    "print(f'Train r2 score for Best Model: {train_r2score_BestModel5: .2f}')\n",
    "print(f'Test MSE for Best Model: {test_mse_BestModel5: .2f}')\n",
    "print(f'Test RMSE for Best Model: {np.sqrt(test_mse_BestModel5): .2f}')\n",
    "print(f'Test r2 score for Best Model : {test_r2score_BestModel5: .2f}')\n",
    "\n",
    "\n",
    "\n",
    "# listing the features based on magnitude of coefficients\n",
    "\n",
    "df_BestModel_coeff5.sort_values(by='Regression Coefficients', ascending=False, key=abs)"
   ]
  },
  {
   "cell_type": "markdown",
   "metadata": {},
   "source": [
    "The model with top 5 features has a slight loss in performance compared to the best predictive model with  8 features. The drop in the number of features from 5 to 8 is perhaps not that substantial, so we recommend the best predictive model with 8 input features as our final model for evaluation"
   ]
  },
  {
   "cell_type": "markdown",
   "metadata": {},
   "source": [
    "### Evaluation\n",
    "\n",
    "With some modeling accomplished, we aim to reflect on what we identify as a high quality model and what we are able to learn from this.  We should review our business objective and explore how well we can provide meaningful insight on drivers of used car prices.  Your goal now is to distill your findings and determine whether the earlier phases need revisitation and adjustment or if you have information of value to bring back to your client."
   ]
  },
  {
   "cell_type": "code",
   "execution_count": null,
   "metadata": {},
   "outputs": [],
   "source": []
  },
  {
   "cell_type": "code",
   "execution_count": null,
   "metadata": {},
   "outputs": [],
   "source": []
  },
  {
   "cell_type": "markdown",
   "metadata": {},
   "source": [
    "#### K-Fold Cross-Validation\n",
    "Our best model is second order polynomial model with Linear Regression that accepts 8 attributes as input features to predict the price of used cars. We have used hold out cross-validation for our model which works well for most cases. In the evaluation phase, we want to re-test the performance of the model using K-Fold validaton just to make sure our results from the hold out cross-validation are not biased due to any unprecedented reasons. Once again we have to make sure test datasets are encoded without utilization of the test values of the target variable to make sure we get unbiased results from K-Fold Cross-Validation\n",
    "\n",
    "Acknowledgment: *Acknowledgment is due to learning facilitator Savio Saldanha for kindly sharing the code and methodology on how to perform K-Fold Cross-validation without potentially biasing the test data from data leakage due to target-based encoding of categorical features*"
   ]
  },
  {
   "cell_type": "code",
   "execution_count": 77,
   "metadata": {},
   "outputs": [
    {
     "name": "stdout",
     "output_type": "stream",
     "text": [
      "\n",
      "KFold Scores for number of splits = 5\n",
      "\n",
      "Test MSEs: \n",
      " [34563702.2, 34875873.75, 35541773.18, 35088180.86, 34511662.45]\n",
      "Mean Test MSE: 34916238.49\n",
      "\n",
      "Test RMSEs: \n",
      " [5879.09, 5905.58, 5961.69, 5923.53, 5874.66]\n",
      "Mean Test RMSE: 5908.91\n",
      "\n",
      "Test r2 scores:\n",
      " [0.78, 0.78, 0.77, 0.78, 0.78]\n",
      "Mean Test r2 score: 0.78\n"
     ]
    }
   ],
   "source": [
    "# Define the number of folds\n",
    "n_splits = 5\n",
    "\n",
    "# Define the cross-validation scheme\n",
    "kf = KFold(n_splits=n_splits, shuffle=True, random_state=42)\n",
    "\n",
    "test_mse_KF =[]\n",
    "test_rmse_KF=[]\n",
    "test_r2score_KF=[]\n",
    "\n",
    "# Define the encoder\n",
    "encoder = ce.LeaveOneOutEncoder(return_df=True)\n",
    "\n",
    "\n",
    "\n",
    "# Loop over the folds\n",
    "for train_index, test_index in kf.split(X):\n",
    "    # Get the training and test data for this fold\n",
    "    X_trainKF, X_testKF = X.iloc[train_index], X.iloc[test_index]\n",
    "    y_trainKF, y_testKF = y.iloc[train_index], y.iloc[test_index]\n",
    "\n",
    "    # Fit the encoder on the training data for this fold only\n",
    "    encoder.fit(X_trainKF, y_trainKF)\n",
    "\n",
    "    # Encode the categorical variables in the training and test data\n",
    "    X_train_encodedKF = encoder.transform(X_trainKF)\n",
    "    X_test_encodedKF = encoder.transform(X_testKF)\n",
    "\n",
    "    # Fit the best model on the encoded training data\n",
    "    pipe_BestModel.fit(X_train_encodedKF, y_trainKF)\n",
    "    # Make predictions on the encoded test data\n",
    "    y_predKF = pipe_BestModel.predict(X_test_encodedKF)\n",
    "\n",
    "    # Calculate the test scores for this fold\n",
    "    test_mse_KF.append(np.around(mean_squared_error(y_testKF, y_predKF),2))\n",
    "    test_rmse_KF.append(np.around(np.sqrt(mean_squared_error(y_testKF, y_predKF)),2))\n",
    "    test_r2score_KF.append(np.around(r2_score(y_testKF, y_predKF),2))\n",
    "\n",
    "    \n",
    "print('\\nKFold Scores for number of splits = 5\\n')\n",
    "print('Test MSEs: \\n', test_mse_KF)\n",
    "print('Mean Test MSE:', np.around(np.mean(test_mse_KF),2))\n",
    "print('\\nTest RMSEs: \\n', test_rmse_KF)\n",
    "print('Mean Test RMSE:', np.around(np.mean(test_rmse_KF),2))\n",
    "print('\\nTest r2 scores:\\n', test_r2score_KF)\n",
    "print('Mean Test r2 score:', np.around(np.mean(test_r2score_KF),2))"
   ]
  },
  {
   "cell_type": "markdown",
   "metadata": {},
   "source": [
    "The results from K-Fold cross-validation are consistent with the results obtained earlier from hold out cross-validation. **This indicates that the model performance is reproducible across different train-test sets and hence it can be expected that the model will have a similar performance with unseen data.**"
   ]
  },
  {
   "cell_type": "markdown",
   "metadata": {},
   "source": [
    "The second order polynomial model with Linear Regression turned out to the best regression model for prices of used cars based on the set of input features including manufacturer, model, year, odometer, fuel, transmission, title status, state. The model is complex but is more accurate than other models we evaluated, with a mean squared error of  34768913.41 (RMSE = 5896.52) on the hold out test set and similar performance metrics with KFold cross-validation. The model is able to account for more than 75% of the variance in the data (based on a test r2 score of 0.78) which is expected from a high quality model. Mapping back to the input feature set, the top five features with most impact on prices are as follows (highest impact first)\n",
    "\n",
    "1) model\n",
    "\n",
    "2) year\n",
    "\n",
    "3) odometer\n",
    "\n",
    "4) transmission\n",
    "\n",
    "5) fuel\n",
    "\n",
    "The manufacturer did not figure among the top features driving prices. Interestingly, this top five feature set with highest impact on prices is consistent with the top five derived from simpler regression models based on magnitudes of the corresponding regression coefficients or using Sequential Feature Selection to identify top five features for a simple linear regression model. However, the order in terms of descending magnitude of coefficients is slightly different. For the simpler regression models, the car model was still the one with the highest coefficient (suggesting highest impact), then came odometer, year, transmission and fuel in that order (so the only change in order was odometer and year switching their places up and down the order respectively).\n"
   ]
  },
  {
   "cell_type": "markdown",
   "metadata": {},
   "source": [
    "#### Distribution of Residuals\n",
    "As part of model evaluation we look at the distribution of residuals for both training and test sets"
   ]
  },
  {
   "cell_type": "code",
   "execution_count": 78,
   "metadata": {},
   "outputs": [
    {
     "data": {
      "text/plain": [
       "Text(0, 0.5, 'Frequency(#)')"
      ]
     },
     "execution_count": 78,
     "metadata": {},
     "output_type": "execute_result"
    },
    {
     "data": {
      "image/png": "[encoded data removed]",
      "text/plain": [
       "<Figure size 1500x800 with 2 Axes>"
      ]
     },
     "metadata": {},
     "output_type": "display_data"
    }
   ],
   "source": [
    "fig, axs = plt.subplots(2,1, figsize=(15,8))\n",
    "train_preds_BestModel = pipe_BestModel.predict(X_train)\n",
    "y_preds_BestModel = pipe_BestModel.predict(X_test)\n",
    "axs[0].hist(y_train - train_preds_BestModel, bins=50)\n",
    "axs[0].title.set_text('Distribution of Training Residuals')\n",
    "axs[0].set_xlim(-40000, 40000)\n",
    "axs[0].set_ylabel('Frequency(#)')\n",
    "\n",
    "axs[1].hist(y_test - y_preds_BestModel, bins=50)\n",
    "axs[1].title.set_text('Distribution of Test Residuals')\n",
    "axs[1].set_xlim(-40000, 40000)\n",
    "axs[1].set_ylabel('Frequency(#)')\n",
    "\n"
   ]
  },
  {
   "cell_type": "markdown",
   "metadata": {},
   "source": [
    "We find that the residuals for both train and test sets are distributed normally with peak around 0."
   ]
  },
  {
   "cell_type": "code",
   "execution_count": 79,
   "metadata": {},
   "outputs": [
    {
     "data": {
      "text/plain": [
       "Text(0, 0.5, 'Test Residual')"
      ]
     },
     "execution_count": 79,
     "metadata": {},
     "output_type": "execute_result"
    },
    {
     "data": {
      "image/png": "[encoded data removed]",
      "text/plain": [
       "<Figure size 1500x800 with 2 Axes>"
      ]
     },
     "metadata": {},
     "output_type": "display_data"
    }
   ],
   "source": [
    "fig, axs = plt.subplots(1,2, figsize=(15, 8))\n",
    "axs[0].scatter(y_train, y_train - train_preds_BestModel)\n",
    "axs[0].title.set_text('Training Set')\n",
    "axs[0].set_xlabel('Prices (Training Set)')\n",
    "axs[0].set_ylabel('Training Residual')\n",
    "axs[1].scatter(y_test, y_test - y_preds_BestModel)\n",
    "axs[1].title.set_text('Test Set')\n",
    "axs[1].set_xlabel('Prices (Test Set)')\n",
    "axs[1].set_ylabel('Test Residual')"
   ]
  },
  {
   "cell_type": "markdown",
   "metadata": {},
   "source": [
    "The above plots show that the model produces more errors for prices that are on the high end or the low end , it works better for prices in the mid-range."
   ]
  },
  {
   "cell_type": "markdown",
   "metadata": {},
   "source": [
    "### Deployment\n",
    "\n",
    "Now that we've settled on our models and findings, it is time to deliver the information to the client.  You should organize your work as a basic report that details your primary findings.  Keep in mind that your audience is a group of used car dealers interested in fine tuning their inventory."
   ]
  },
  {
   "cell_type": "code",
   "execution_count": null,
   "metadata": {},
   "outputs": [],
   "source": []
  },
  {
   "cell_type": "markdown",
   "metadata": {},
   "source": [
    "**Objective**:  The goal of this analysis was *identifying the attributes that had the highest impact on used car prices.*  \n",
    "\n",
    "**Data**: A dataset on used cars from Kaggle was explored for this purpose. After cleaning the data and retaining the attributes deemed to be relevant for modeling, the final dataset had  338553 entries with 8 attributes including manufacturer, model, year, odometer, transmission, fuel, title status and state,  and 1 target variable, price.  \n",
    "\n",
    "**Modeling**: Different regression-based machine learning models were explored for modeling the price of used cars using 8 different attributes as mentioned above. We started with simpler models which may not be the most accurate but are easier to interpret and then proceeded to develop more complex models with higher degree polynomial features. Each of the models were explored in terms of the regression coefficients or permutation feature importance analysis in assessing the relative importance of features in terms of their influence on the predicted price.\n",
    "\n",
    "**Results**: The best performing model was a Linear Regression model with second order polynomial features.  Based on model inspection the following five features came out on top in terms of their impact on price (highest impact listed first):\n",
    "\n",
    "**1) model**\n",
    "\n",
    "**2) year**\n",
    "\n",
    "**3) odometer**\n",
    "\n",
    "**4) transmission**\n",
    "\n",
    "**5) fuel**\n",
    "\n",
    "Manufacturer was not among the top five features impacting price. Interestingly, these top five features were consistently regarded as most impactful from other regression models that were explored.\n",
    "\n",
    "\n",
    "**Recommendations**: **Models** of car have the biggest impact on prices. In terms of inventory, this would imply stocking up more on premium models across different manufacturers for favorable pricing rather than have different tiers of models corresponding to  a particular manufacturer. Stocking the inventory with more recent models is also important as **year** is the attribute with second most impact on price. Cars that have been driven less fetch higher prices as **odometer** is the third most impactful feature (lower the odometer, higher the price). Lastly, **transmission** (automatic or others for higher price compared to manual) and **fuel** type (diesel or electric for higher price compared to gas/hybrid) also impact price but to a lesser extent than the other three."
   ]
  },
  {
   "cell_type": "code",
   "execution_count": null,
   "metadata": {},
   "outputs": [],
   "source": []
  },
  {
   "cell_type": "code",
   "execution_count": null,
   "metadata": {},
   "outputs": [],
   "source": []
  },
  {
   "cell_type": "code",
   "execution_count": null,
   "metadata": {},
   "outputs": [],
   "source": []
  },
  {
   "cell_type": "code",
   "execution_count": null,
   "metadata": {},
   "outputs": [],
   "source": []
  },
  {
   "cell_type": "code",
   "execution_count": null,
   "metadata": {},
   "outputs": [],
   "source": []
  }
 ],
 "metadata": {
  "kernelspec": {
   "display_name": "Python 3 (ipykernel)",
   "language": "python",
   "name": "python3"
  },
  "language_info": {
   "codemirror_mode": {
    "name": "ipython",
    "version": 3
   },
   "file_extension": ".py",
   "mimetype": "text/x-python",
   "name": "python",
   "nbconvert_exporter": "python",
   "pygments_lexer": "ipython3",
   "version": "3.9.13"
  },
  "widgets": {
   "application/vnd.jupyter.widget-state+json": {
    "state": {},
    "version_major": 2,
    "version_minor": 0
   }
  }
 },
 "nbformat": 4,
 "nbformat_minor": 4
}
